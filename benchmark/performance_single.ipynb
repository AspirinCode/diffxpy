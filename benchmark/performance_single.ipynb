{
 "cells": [
  {
   "cell_type": "code",
   "execution_count": 1,
   "metadata": {},
   "outputs": [],
   "source": [
    "import os\n",
    "os.environ[\"TF_NUM_THREADS\"] = \"0\" # use all available CPU cores\n",
    "\n",
    "%matplotlib inline\n",
    "import matplotlib.pyplot as plt\n",
    "import seaborn as sns\n",
    "import logging\n",
    "import numpy as np\n",
    "import xarray as xr\n",
    "import pandas as pd\n",
    "import time\n",
    "\n",
    "import diffxpy.api as de\n",
    "from batchglm.api.models.nb_glm import Simulator\n",
    "\n",
    "logging.getLogger(\"tensorflow\").setLevel(logging.ERROR)\n",
    "logging.getLogger(\"batchglm\").setLevel(logging.WARNING)\n",
    "logging.getLogger(\"diffxpy\").setLevel(logging.WARNING)\n",
    "\n",
    "logger = logging.getLogger(__name__)\n"
   ]
  },
  {
   "cell_type": "code",
   "execution_count": 2,
   "metadata": {},
   "outputs": [],
   "source": [
    "def test_wilcoxon(sim):\n",
    "    logger.info(\"test_wilcoxon started\")\n",
    "    start = time.time()\n",
    "    test = de.test.wilcoxon(\n",
    "        data=sim.X,\n",
    "        grouping=\"condition\",\n",
    "        sample_description=sim.sample_description\n",
    "    )\n",
    "    end = time.time()\n",
    "    logger.info(\"test_wilcoxon finished in %fs\", (end - start))\n",
    "\n",
    "    return test, (end - start)\n",
    "\n",
    "\n",
    "def test_t_test(sim):\n",
    "    logger.info(\"test_t_test started\")\n",
    "    start = time.time()\n",
    "    test = de.test.t_test(\n",
    "        data=sim.X,\n",
    "        grouping=\"condition\",\n",
    "        sample_description=sim.sample_description\n",
    "    )\n",
    "    end = time.time()\n",
    "    logger.info(\"test_t_test finished in %fs\", (end - start))\n",
    "\n",
    "    return test, (end - start)\n",
    "\n",
    "\n",
    "def test_lrt(sim):\n",
    "    logger.info(\"test_lrt started\")\n",
    "    start = time.time()\n",
    "    test = de.test.lrt(\n",
    "        data=sim.X,\n",
    "        full_formula_loc=\"~ 1 + condition\",\n",
    "        full_formula_scale=\"~ 1 + condition\",\n",
    "        reduced_formula_loc=\"~ 1\",\n",
    "        reduced_formula_scale=\"~ 1\",\n",
    "        sample_description=sim.sample_description\n",
    "    )\n",
    "    end = time.time()\n",
    "    logger.info(\"test_lrt finished in %fs\", (end - start))\n",
    "\n",
    "    return test, (end - start)\n",
    "\n",
    "\n",
    "def test_wald_TF(sim):\n",
    "    logger.info(\"test_wald_TF started\")\n",
    "    start = time.time()\n",
    "    test = de.test.wald(\n",
    "        data=sim.X,\n",
    "        factor_loc_totest=\"condition\",\n",
    "        formula=\"~ 1 + condition\",\n",
    "        sample_description=sim.sample_description\n",
    "    )\n",
    "    end = time.time()\n",
    "    logger.info(\"test_wald_TF finished in %fs\", (end - start))\n",
    "\n",
    "    return test, (end - start)\n",
    "\n",
    "\n",
    "def test_wald_BFGS(sim):\n",
    "    logger.info(\"test_wald_BFGS started\")\n",
    "    start = time.time()\n",
    "    test = de.test.wald(\n",
    "        data=sim.X,\n",
    "        factor_loc_totest=\"condition\",\n",
    "        formula=\"~ 1 + condition\",\n",
    "        sample_description=sim.sample_description,\n",
    "        training_strategy=\"BFGS\",\n",
    "    )\n",
    "    end = time.time()\n",
    "    logger.info(\"test_wald_BFGS finished in %fs\", (end - start))\n",
    "\n",
    "    return test, (end - start)\n"
   ]
  },
  {
   "cell_type": "code",
   "execution_count": 3,
   "metadata": {},
   "outputs": [
    {
     "name": "stdout",
     "output_type": "stream",
     "text": [
      "Running tests with n_cells=1000 and n_genes=1000\n",
      "test_wilcoxon started\n",
      "test_wilcoxon finished in 0.357930s\n",
      "test_t_test started\n",
      "test_t_test finished in 0.012907s\n",
      "test_wald_TF started\n",
      "test_wald_TF finished in 11.736882s\n",
      "test_wald_BFGS started\n"
     ]
    },
    {
     "name": "stderr",
     "output_type": "stream",
     "text": [
      "/usr/local/lib/python3.6/dist-packages/scipy/optimize/optimize.py:1013: RuntimeWarning: divide by zero encountered in double_scalars\n",
      "  rhok = 1.0 / (numpy.dot(yk, sk))\n"
     ]
    },
    {
     "name": "stdout",
     "output_type": "stream",
     "text": [
      "test_wald_BFGS finished in 221.140826s\n",
      "Running tests with n_cells=10000 and n_genes=1000\n",
      "test_wilcoxon started\n",
      "test_wilcoxon finished in 1.883970s\n",
      "test_t_test started\n",
      "test_t_test finished in 0.139356s\n",
      "test_wald_TF started\n",
      "test_wald_TF finished in 52.331453s\n",
      "Running tests with n_cells=100000 and n_genes=1000\n",
      "test_wilcoxon started\n",
      "test_wilcoxon finished in 20.414381s\n",
      "test_t_test started\n",
      "test_t_test finished in 1.221701s\n",
      "test_wald_TF started\n",
      "test_wald_TF finished in 442.918566s\n"
     ]
    }
   ],
   "source": [
    "df = pd.DataFrame(columns=[\n",
    "    \"n_cells\",\n",
    "    \"n_genes\",\n",
    "    \"wilcoxon\",\n",
    "    \"t_test\",\n",
    "    # \"lrt\",\n",
    "    \"wald_TF\",\n",
    "    \"wald_BFGS\",\n",
    "])\n",
    "\n",
    "n_genes = 1000\n",
    "for n_cells in (1e3, 1e4, 1e5):\n",
    "    n_cells = int(n_cells)\n",
    "    logger.info(\"Running tests with n_cells=%d and n_genes=%d\", n_cells, n_genes)\n",
    "    \n",
    "    sim = Simulator(num_observations=n_cells, num_features=n_genes)\n",
    "    sim.generate_sample_description(num_batches=0)\n",
    "    sim.generate()\n",
    "\n",
    "    df = df.append({\n",
    "        \"n_cells\": n_cells,\n",
    "        \"n_genes\": n_genes,\n",
    "        \"wilcoxon\": test_wilcoxon(sim)[1],\n",
    "        \"t_test\": test_t_test(sim)[1],\n",
    "        # \"lrt\": test_lrt(sim)[1],\n",
    "        \"wald_TF\": test_wald_TF(sim)[1],\n",
    "        \"wald_BFGS\": test_wald_BFGS(sim)[1] if n_genes * n_cells <= 1e6 else np.nan\n",
    "    }, ignore_index=True)\n"
   ]
  },
  {
   "cell_type": "code",
   "execution_count": 4,
   "metadata": {},
   "outputs": [
    {
     "data": {
      "text/html": [
       "<div>\n",
       "<style scoped>\n",
       "    .dataframe tbody tr th:only-of-type {\n",
       "        vertical-align: middle;\n",
       "    }\n",
       "\n",
       "    .dataframe tbody tr th {\n",
       "        vertical-align: top;\n",
       "    }\n",
       "\n",
       "    .dataframe thead th {\n",
       "        text-align: right;\n",
       "    }\n",
       "</style>\n",
       "<table border=\"1\" class=\"dataframe\">\n",
       "  <thead>\n",
       "    <tr style=\"text-align: right;\">\n",
       "      <th></th>\n",
       "      <th>n_cells</th>\n",
       "      <th>n_genes</th>\n",
       "      <th>wilcoxon</th>\n",
       "      <th>t_test</th>\n",
       "      <th>wald_TF</th>\n",
       "      <th>wald_BFGS</th>\n",
       "    </tr>\n",
       "  </thead>\n",
       "  <tbody>\n",
       "    <tr>\n",
       "      <th>0</th>\n",
       "      <td>1000.0</td>\n",
       "      <td>1000.0</td>\n",
       "      <td>0.357930</td>\n",
       "      <td>0.012907</td>\n",
       "      <td>11.736882</td>\n",
       "      <td>221.140826</td>\n",
       "    </tr>\n",
       "    <tr>\n",
       "      <th>1</th>\n",
       "      <td>10000.0</td>\n",
       "      <td>1000.0</td>\n",
       "      <td>1.883970</td>\n",
       "      <td>0.139356</td>\n",
       "      <td>52.331453</td>\n",
       "      <td>NaN</td>\n",
       "    </tr>\n",
       "    <tr>\n",
       "      <th>2</th>\n",
       "      <td>100000.0</td>\n",
       "      <td>1000.0</td>\n",
       "      <td>20.414381</td>\n",
       "      <td>1.221701</td>\n",
       "      <td>442.918566</td>\n",
       "      <td>NaN</td>\n",
       "    </tr>\n",
       "  </tbody>\n",
       "</table>\n",
       "</div>"
      ],
      "text/plain": [
       "    n_cells  n_genes   wilcoxon    t_test     wald_TF   wald_BFGS\n",
       "0    1000.0   1000.0   0.357930  0.012907   11.736882  221.140826\n",
       "1   10000.0   1000.0   1.883970  0.139356   52.331453         NaN\n",
       "2  100000.0   1000.0  20.414381  1.221701  442.918566         NaN"
      ]
     },
     "execution_count": 4,
     "metadata": {},
     "output_type": "execute_result"
    }
   ],
   "source": [
    "df"
   ]
  },
  {
   "cell_type": "code",
   "execution_count": 5,
   "metadata": {},
   "outputs": [
    {
     "data": {
      "image/png": "[encoded data removed]",
      "text/plain": [
       "<Figure size 432x288 with 1 Axes>"
      ]
     },
     "metadata": {},
     "output_type": "display_data"
    }
   ],
   "source": [
    "melted = pd.melt(df, id_vars=[\"n_genes\", \"n_cells\"], var_name=\"test\", value_name=\"runtime\")\n",
    "\n",
    "fig, ax = plt.subplots()\n",
    "ax.set(xscale=\"log\", yscale=\"log\")\n",
    "\n",
    "sns.scatterplot(data=melted, x=\"n_cells\", y=\"runtime\", hue=\"test\", ax=ax)\n",
    "\n",
    "ax.set(ylabel='runtime in seconds')\n",
    "ax.legend(bbox_to_anchor=(1.05, 1), loc=2, borderaxespad=0.)\n",
    "\n",
    "plt.show()"
   ]
  },
  {
   "cell_type": "code",
   "execution_count": null,
   "metadata": {},
   "outputs": [],
   "source": []
  }
 ],
 "metadata": {
  "kernelspec": {
   "display_name": "Python 3",
   "language": "python",
   "name": "python3"
  },
  "language_info": {
   "codemirror_mode": {
    "name": "ipython",
    "version": 3
   },
   "file_extension": ".py",
   "mimetype": "text/x-python",
   "name": "python",
   "nbconvert_exporter": "python",
   "pygments_lexer": "ipython3",
   "version": "3.6.5"
  }
 },
 "nbformat": 4,
 "nbformat_minor": 1
}
