{
 "cells": [
  {
   "cell_type": "markdown",
   "metadata": {},
   "source": [
    "# Load packages and set global variables"
   ]
  },
  {
   "cell_type": "code",
   "execution_count": 1,
   "metadata": {
    "scrolled": true
   },
   "outputs": [
    {
     "name": "stderr",
     "output_type": "stream",
     "text": [
      "/Users/david.fischer/miniconda3/lib/python3.6/importlib/_bootstrap.py:219: RuntimeWarning: compiletime version 3.5 of module 'tensorflow.python.framework.fast_tensor_util' does not match runtime version 3.6\n",
      "  return f(*args, **kwds)\n"
     ]
    },
    {
     "name": "stdout",
     "output_type": "stream",
     "text": [
      "scanpy==1.3.1 anndata==0.6.10 numpy==1.14.5 scipy==1.1.0 pandas==0.23.4 scikit-learn==0.19.2 statsmodels==0.9.0 python-igraph==0.7.1 louvain==0.6.1 \n",
      "3.6.5 |Anaconda, Inc.| (default, Apr 26 2018, 08:42:37) \n",
      "[GCC 4.2.1 Compatible Clang 4.0.1 (tags/RELEASE_401/final)]\n"
     ]
    },
    {
     "name": "stderr",
     "output_type": "stream",
     "text": [
      "/Users/david.fischer/miniconda3/lib/python3.6/site-packages/igraph/configuration.py:288: DeprecationWarning: The SafeConfigParser class has been renamed to ConfigParser in Python 3.2. This alias will be removed in future versions. Use ConfigParser directly instead.\n",
      "  self._config = SafeConfigParser()\n",
      "/Users/david.fischer/miniconda3/lib/python3.6/site-packages/igraph/configuration.py:288: DeprecationWarning: The SafeConfigParser class has been renamed to ConfigParser in Python 3.2. This alias will be removed in future versions. Use ConfigParser directly instead.\n",
      "  self._config = SafeConfigParser()\n"
     ]
    }
   ],
   "source": [
    "import numpy as np\n",
    "import pandas\n",
    "import time\n",
    "import seaborn as sns\n",
    "import sys\n",
    "import scanpy.api as sc\n",
    "import diffxpy.api as de\n",
    "\n",
    "sc.settings.verbosity = 3 # amount of output\n",
    "sc.logging.print_versions()\n",
    "sc.settings.set_figure_params(dpi=80, scanpy=True)\n",
    "print(sys.version)"
   ]
  },
  {
   "cell_type": "markdown",
   "metadata": {},
   "source": [
    "Set platform this notebook is executed on:"
   ]
  },
  {
   "cell_type": "code",
   "execution_count": 2,
   "metadata": {},
   "outputs": [],
   "source": [
    "platform = ['int_server', 'laptop'][1]"
   ]
  },
  {
   "cell_type": "markdown",
   "metadata": {},
   "source": [
    "Set directory in which .h5 files are:"
   ]
  },
  {
   "cell_type": "code",
   "execution_count": 3,
   "metadata": {},
   "outputs": [],
   "source": [
    "if platform=='int_server':\n",
    "    dir_in = '/storage/groups/ml01/workspace/david.fischer/diffxpy/datasets/ilc/GSE102299_RAW/'\n",
    "    dir_out = '/storage/groups/ml01/workspace/david.fischer/diffxpy/scanpy_out/ilc/'\n",
    "    sc.settings.figdir = '/storage/groups/ml01/workspace/david.fischer/diffxpy/figures/ilc'\n",
    "elif platform=='laptop':\n",
    "    dir_in = None\n",
    "    dir_out = '/Users/david.fischer/phd/data/BatchSGD/adata/ilc/'\n",
    "    sc.settings.figdir = '/Users/david.fischer/phd/data/BatchSGD/figures/raw/ilc'\n",
    "else:\n",
    "    raise ValueError('platform not recognized')"
   ]
  },
  {
   "cell_type": "code",
   "execution_count": 4,
   "metadata": {},
   "outputs": [],
   "source": [
    "bool_recompute = False"
   ]
  },
  {
   "cell_type": "markdown",
   "metadata": {},
   "source": [
    "# Load data"
   ]
  },
  {
   "cell_type": "code",
   "execution_count": 5,
   "metadata": {},
   "outputs": [],
   "source": [
    "mtx_files = [\n",
    "    'GSM2733478_PBS_Rep1.matrix.mtx',\n",
    "    'GSM2733479_PBS_Rep2.matrix.mtx',\n",
    "    'GSM2733480_IL25_Rep1.matrix.mtx',\n",
    "    'GSM2733481_IL25_Rep2.matrix.mtx',\n",
    "    'GSM2733482_IL33_Rep1.matrix.mtx',\n",
    "    'GSM2733483_IL33_Rep2.matrix.mtx',\n",
    "    'GSM2733484_NMU_Rep1.matrix.mtx',\n",
    "    'GSM2733485_NMU_Rep2.matrix.mtx',\n",
    "    'GSM2733486_NMU_IL25_Rep1.matrix.mtx',\n",
    "    'GSM2733487_NMU_IL25_Rep2.matrix.mtx',\n",
    "    'GSM2733488_WT_PBS_Rep1.matrix.mtx',\n",
    "    'GSM2733489_WT_PBS_Rep2.matrix.mtx',\n",
    "    'GSM2733490_WT_HDM_Rep1.matrix.mtx',\n",
    "    'GSM2733491_WT_HDM_Rep2.matrix.mtx',\n",
    "    'GSM2733492_KO_Nmur1_PBS_Rep1.matrix.mtx',\n",
    "    'GSM2733493_KO_Nmur1_PBS_Rep2.matrix.mtx',\n",
    "    'GSM2733494_KO_Nmur1_HDM_Rep1.matrix.mtx',\n",
    "    'GSM2733495_KO_Nmur1_HDM_Rep2.matrix.mtx'\n",
    "    ]"
   ]
  },
  {
   "cell_type": "code",
   "execution_count": 6,
   "metadata": {},
   "outputs": [],
   "source": [
    "bc_files = [\n",
    "    'GSM2733478_PBS_Rep1.barcodes.tsv',\n",
    "    'GSM2733479_PBS_Rep2.barcodes.tsv',\n",
    "    'GSM2733480_IL25_Rep1.barcodes.tsv',\n",
    "    'GSM2733481_IL25_Rep2.barcodes.tsv',\n",
    "    'GSM2733482_IL33_Rep1.barcodes.tsv',\n",
    "    'GSM2733483_IL33_Rep2.barcodes.tsv',\n",
    "    'GSM2733484_NMU_Rep1.barcodes.tsv',\n",
    "    'GSM2733485_NMU_Rep2.barcodes.tsv',\n",
    "    'GSM2733486_NMU_IL25_Rep1.barcodes.tsv',\n",
    "    'GSM2733487_NMU_IL25_Rep2.barcodes.tsv',\n",
    "    'GSM2733488_WT_PBS_Rep1.barcodes.tsv',\n",
    "    'GSM2733489_WT_PBS_Rep2.barcodes.tsv',\n",
    "    'GSM2733490_WT_HDM_Rep1.barcodes.tsv',\n",
    "    'GSM2733491_WT_HDM_Rep2.barcodes.tsv',\n",
    "    'GSM2733492_KO_Nmur1_PBS_Rep1.barcodes.tsv',\n",
    "    'GSM2733493_KO_Nmur1_PBS_Rep2.barcodes.tsv',\n",
    "    'GSM2733494_KO_Nmur1_HDM_Rep1.barcodes.tsv',\n",
    "    'GSM2733495_KO_Nmur1_HDM_Rep2.barcodes.tsv'\n",
    "    ]"
   ]
  },
  {
   "cell_type": "code",
   "execution_count": 7,
   "metadata": {
    "scrolled": true
   },
   "outputs": [],
   "source": [
    "sample_ids = ['_'.join(x.split('.')[0].split('_')[1:]) for x in mtx_files]"
   ]
  },
  {
   "cell_type": "code",
   "execution_count": 8,
   "metadata": {},
   "outputs": [],
   "source": [
    "if bool_recompute==True:\n",
    "    adatas = []\n",
    "    for i,fn in enumerate(mtx_files):\n",
    "        adatas.append(sc.read_mtx(dir_in+fn).transpose())\n",
    "        adatas[i].obs_names = np.genfromtxt(fname=dir_in+bc_files[i], dtype=str)\n",
    "    adata = adatas[0].concatenate(\n",
    "        adatas[1:], \n",
    "        join='outer', \n",
    "        batch_key='sample', \n",
    "        batch_categories=sample_ids, \n",
    "        index_unique='_'\n",
    "    )\n",
    "    adata.obs['n_counts'] = np.sum(adata.X, axis=1)\n",
    "    adata.obs['treatment'] = [x.split('_Rep')[0] for x in adata.obs['sample'].values]\n",
    "    adata.obs['study'] = ['stimulation' if x.split('_')[0] in ['WT', 'KO'] else 'genotype' \n",
    "                          for x in adata.obs['sample'].values]\n",
    "    adata_stim = adata[np.where(adata.obs['study'].values=='stimulation')[0],:].copy()\n",
    "    adata_geno = adata[np.where(adata.obs['study'].values=='genotype')[0],:].copy()\n",
    "    del(adata)"
   ]
  },
  {
   "cell_type": "markdown",
   "metadata": {},
   "source": [
    "Show distribution of counts over cells:"
   ]
  },
  {
   "cell_type": "code",
   "execution_count": 9,
   "metadata": {},
   "outputs": [],
   "source": [
    "if bool_recompute==True:\n",
    "    sns.distplot(np.log(adata_stim.obs['n_counts'].values)/np.log(10), kde=False)"
   ]
  },
  {
   "cell_type": "code",
   "execution_count": 10,
   "metadata": {},
   "outputs": [],
   "source": [
    "if bool_recompute==True:\n",
    "    sns.distplot(np.log(adata_geno.obs['n_counts'].values)/np.log(10), kde=False)"
   ]
  },
  {
   "cell_type": "markdown",
   "metadata": {},
   "source": [
    "# Process data"
   ]
  },
  {
   "cell_type": "markdown",
   "metadata": {},
   "source": [
    "## Stimulation study"
   ]
  },
  {
   "cell_type": "code",
   "execution_count": 11,
   "metadata": {},
   "outputs": [
    {
     "ename": "OSError",
     "evalue": "Unable to open file (unable to open file: name = '/Users/david.fischer/phd/data/BatchSGD/adata/ilc/adata_stim_ilc.h5ad', errno = 2, error message = 'No such file or directory', flags = 0, o_flags = 0)",
     "output_type": "error",
     "traceback": [
      "\u001b[0;31m---------------------------------------------------------------------------\u001b[0m",
      "\u001b[0;31mOSError\u001b[0m                                   Traceback (most recent call last)",
      "\u001b[0;32m<ipython-input-11-076a5dcc7013>\u001b[0m in \u001b[0;36m<module>\u001b[0;34m()\u001b[0m\n\u001b[1;32m     12\u001b[0m     \u001b[0msc\u001b[0m\u001b[0;34m.\u001b[0m\u001b[0mwrite\u001b[0m\u001b[0;34m(\u001b[0m\u001b[0madata\u001b[0m\u001b[0;34m=\u001b[0m\u001b[0madata_stim\u001b[0m\u001b[0;34m,\u001b[0m \u001b[0mfilename\u001b[0m\u001b[0;34m=\u001b[0m\u001b[0mdir_out\u001b[0m\u001b[0;34m+\u001b[0m\u001b[0;34m\"adata_stim_ilc.h5ad\"\u001b[0m\u001b[0;34m)\u001b[0m\u001b[0;34m\u001b[0m\u001b[0m\n\u001b[1;32m     13\u001b[0m \u001b[0;32melse\u001b[0m\u001b[0;34m:\u001b[0m\u001b[0;34m\u001b[0m\u001b[0m\n\u001b[0;32m---> 14\u001b[0;31m     \u001b[0madata_stim\u001b[0m \u001b[0;34m=\u001b[0m \u001b[0msc\u001b[0m\u001b[0;34m.\u001b[0m\u001b[0mread\u001b[0m\u001b[0;34m(\u001b[0m\u001b[0mdir_out\u001b[0m\u001b[0;34m+\u001b[0m\u001b[0;34m\"adata_stim_ilc.h5ad\"\u001b[0m\u001b[0;34m)\u001b[0m\u001b[0;34m\u001b[0m\u001b[0m\n\u001b[0m",
      "\u001b[0;32m~/miniconda3/lib/python3.6/site-packages/scanpy/readwrite.py\u001b[0m in \u001b[0;36mread\u001b[0;34m(filename, backed, sheet, ext, delimiter, first_column_names, backup_url, cache, **kwargs)\u001b[0m\n\u001b[1;32m     73\u001b[0m         return _read(filename, backed=backed, sheet=sheet, ext=ext,\n\u001b[1;32m     74\u001b[0m                      \u001b[0mdelimiter\u001b[0m\u001b[0;34m=\u001b[0m\u001b[0mdelimiter\u001b[0m\u001b[0;34m,\u001b[0m \u001b[0mfirst_column_names\u001b[0m\u001b[0;34m=\u001b[0m\u001b[0mfirst_column_names\u001b[0m\u001b[0;34m,\u001b[0m\u001b[0;34m\u001b[0m\u001b[0m\n\u001b[0;32m---> 75\u001b[0;31m                      backup_url=backup_url, cache=cache, **kwargs)\n\u001b[0m\u001b[1;32m     76\u001b[0m     \u001b[0;31m# generate filename and read to dict\u001b[0m\u001b[0;34m\u001b[0m\u001b[0;34m\u001b[0m\u001b[0m\n\u001b[1;32m     77\u001b[0m     \u001b[0mfilekey\u001b[0m \u001b[0;34m=\u001b[0m \u001b[0mfilename\u001b[0m\u001b[0;34m\u001b[0m\u001b[0m\n",
      "\u001b[0;32m~/miniconda3/lib/python3.6/site-packages/scanpy/readwrite.py\u001b[0m in \u001b[0;36m_read\u001b[0;34m(filename, backed, sheet, ext, delimiter, first_column_names, backup_url, cache, suppress_cache_warning, **kwargs)\u001b[0m\n\u001b[1;32m    274\u001b[0m     \u001b[0;32mif\u001b[0m \u001b[0mext\u001b[0m \u001b[0;32min\u001b[0m \u001b[0;34m{\u001b[0m\u001b[0;34m'h5'\u001b[0m\u001b[0;34m,\u001b[0m \u001b[0;34m'h5ad'\u001b[0m\u001b[0;34m}\u001b[0m\u001b[0;34m:\u001b[0m\u001b[0;34m\u001b[0m\u001b[0m\n\u001b[1;32m    275\u001b[0m         \u001b[0;32mif\u001b[0m \u001b[0msheet\u001b[0m \u001b[0;32mis\u001b[0m \u001b[0;32mNone\u001b[0m\u001b[0;34m:\u001b[0m\u001b[0;34m\u001b[0m\u001b[0m\n\u001b[0;32m--> 276\u001b[0;31m             \u001b[0;32mreturn\u001b[0m \u001b[0mread_h5ad\u001b[0m\u001b[0;34m(\u001b[0m\u001b[0mfilename\u001b[0m\u001b[0;34m,\u001b[0m \u001b[0mbacked\u001b[0m\u001b[0;34m=\u001b[0m\u001b[0mbacked\u001b[0m\u001b[0;34m)\u001b[0m\u001b[0;34m\u001b[0m\u001b[0m\n\u001b[0m\u001b[1;32m    277\u001b[0m         \u001b[0;32melse\u001b[0m\u001b[0;34m:\u001b[0m\u001b[0;34m\u001b[0m\u001b[0m\n\u001b[1;32m    278\u001b[0m             \u001b[0mlogg\u001b[0m\u001b[0;34m.\u001b[0m\u001b[0mmsg\u001b[0m\u001b[0;34m(\u001b[0m\u001b[0;34m'reading sheet'\u001b[0m\u001b[0;34m,\u001b[0m \u001b[0msheet\u001b[0m\u001b[0;34m,\u001b[0m \u001b[0;34m'from file'\u001b[0m\u001b[0;34m,\u001b[0m \u001b[0mfilename\u001b[0m\u001b[0;34m,\u001b[0m \u001b[0mv\u001b[0m\u001b[0;34m=\u001b[0m\u001b[0;36m4\u001b[0m\u001b[0;34m)\u001b[0m\u001b[0;34m\u001b[0m\u001b[0m\n",
      "\u001b[0;32m~/miniconda3/lib/python3.6/site-packages/anndata/readwrite/read.py\u001b[0m in \u001b[0;36mread_h5ad\u001b[0;34m(filename, backed)\u001b[0m\n\u001b[1;32m    410\u001b[0m     \u001b[0;32melse\u001b[0m\u001b[0;34m:\u001b[0m\u001b[0;34m\u001b[0m\u001b[0m\n\u001b[1;32m    411\u001b[0m         \u001b[0;31m# load everything into memory\u001b[0m\u001b[0;34m\u001b[0m\u001b[0;34m\u001b[0m\u001b[0m\n\u001b[0;32m--> 412\u001b[0;31m         \u001b[0md\u001b[0m \u001b[0;34m=\u001b[0m \u001b[0m_read_h5ad\u001b[0m\u001b[0;34m(\u001b[0m\u001b[0mfilename\u001b[0m\u001b[0;34m=\u001b[0m\u001b[0mfilename\u001b[0m\u001b[0;34m)\u001b[0m\u001b[0;34m\u001b[0m\u001b[0m\n\u001b[0m\u001b[1;32m    413\u001b[0m         \u001b[0;32mreturn\u001b[0m \u001b[0mAnnData\u001b[0m\u001b[0;34m(\u001b[0m\u001b[0md\u001b[0m\u001b[0;34m)\u001b[0m\u001b[0;34m\u001b[0m\u001b[0m\n\u001b[1;32m    414\u001b[0m \u001b[0;34m\u001b[0m\u001b[0m\n",
      "\u001b[0;32m~/miniconda3/lib/python3.6/site-packages/anndata/readwrite/read.py\u001b[0m in \u001b[0;36m_read_h5ad\u001b[0;34m(adata, filename, mode)\u001b[0m\n\u001b[1;32m    436\u001b[0m         \u001b[0mf\u001b[0m \u001b[0;34m=\u001b[0m \u001b[0madata\u001b[0m\u001b[0;34m.\u001b[0m\u001b[0mfile\u001b[0m\u001b[0;34m.\u001b[0m\u001b[0m_file\u001b[0m\u001b[0;34m\u001b[0m\u001b[0m\n\u001b[1;32m    437\u001b[0m     \u001b[0;32melse\u001b[0m\u001b[0;34m:\u001b[0m\u001b[0;34m\u001b[0m\u001b[0m\n\u001b[0;32m--> 438\u001b[0;31m         \u001b[0mf\u001b[0m \u001b[0;34m=\u001b[0m \u001b[0mh5py\u001b[0m\u001b[0;34m.\u001b[0m\u001b[0mFile\u001b[0m\u001b[0;34m(\u001b[0m\u001b[0mfilename\u001b[0m\u001b[0;34m,\u001b[0m \u001b[0;34m'r'\u001b[0m\u001b[0;34m)\u001b[0m\u001b[0;34m\u001b[0m\u001b[0m\n\u001b[0m\u001b[1;32m    439\u001b[0m     \u001b[0;32mfor\u001b[0m \u001b[0mkey\u001b[0m \u001b[0;32min\u001b[0m \u001b[0mf\u001b[0m\u001b[0;34m.\u001b[0m\u001b[0mkeys\u001b[0m\u001b[0;34m(\u001b[0m\u001b[0;34m)\u001b[0m\u001b[0;34m:\u001b[0m\u001b[0;34m\u001b[0m\u001b[0m\n\u001b[1;32m    440\u001b[0m         \u001b[0;32mif\u001b[0m \u001b[0mbacked\u001b[0m \u001b[0;32mand\u001b[0m \u001b[0mkey\u001b[0m \u001b[0;32min\u001b[0m \u001b[0mAnnData\u001b[0m\u001b[0;34m.\u001b[0m\u001b[0m_BACKED_ATTRS\u001b[0m\u001b[0;34m:\u001b[0m\u001b[0;34m\u001b[0m\u001b[0m\n",
      "\u001b[0;32m~/miniconda3/lib/python3.6/site-packages/anndata/h5py/h5sparse.py\u001b[0m in \u001b[0;36m__init__\u001b[0;34m(self, name, mode, driver, libver, userblock_size, swmr, force_dense, **kwds)\u001b[0m\n\u001b[1;32m    139\u001b[0m             \u001b[0muserblock_size\u001b[0m\u001b[0;34m=\u001b[0m\u001b[0muserblock_size\u001b[0m\u001b[0;34m,\u001b[0m\u001b[0;34m\u001b[0m\u001b[0m\n\u001b[1;32m    140\u001b[0m             \u001b[0mswmr\u001b[0m\u001b[0;34m=\u001b[0m\u001b[0mswmr\u001b[0m\u001b[0;34m,\u001b[0m\u001b[0;34m\u001b[0m\u001b[0m\n\u001b[0;32m--> 141\u001b[0;31m             \u001b[0;34m**\u001b[0m\u001b[0mkwds\u001b[0m\u001b[0;34m,\u001b[0m\u001b[0;34m\u001b[0m\u001b[0m\n\u001b[0m\u001b[1;32m    142\u001b[0m         )\n\u001b[1;32m    143\u001b[0m         \u001b[0msuper\u001b[0m\u001b[0;34m(\u001b[0m\u001b[0;34m)\u001b[0m\u001b[0;34m.\u001b[0m\u001b[0m__init__\u001b[0m\u001b[0;34m(\u001b[0m\u001b[0mself\u001b[0m\u001b[0;34m.\u001b[0m\u001b[0mh5f\u001b[0m\u001b[0;34m,\u001b[0m \u001b[0mforce_dense\u001b[0m\u001b[0;34m)\u001b[0m\u001b[0;34m\u001b[0m\u001b[0m\n",
      "\u001b[0;32m~/miniconda3/lib/python3.6/site-packages/h5py/_hl/files.py\u001b[0m in \u001b[0;36m__init__\u001b[0;34m(self, name, mode, driver, libver, userblock_size, swmr, **kwds)\u001b[0m\n\u001b[1;32m    310\u001b[0m             \u001b[0;32mwith\u001b[0m \u001b[0mphil\u001b[0m\u001b[0;34m:\u001b[0m\u001b[0;34m\u001b[0m\u001b[0m\n\u001b[1;32m    311\u001b[0m                 \u001b[0mfapl\u001b[0m \u001b[0;34m=\u001b[0m \u001b[0mmake_fapl\u001b[0m\u001b[0;34m(\u001b[0m\u001b[0mdriver\u001b[0m\u001b[0;34m,\u001b[0m \u001b[0mlibver\u001b[0m\u001b[0;34m,\u001b[0m \u001b[0;34m**\u001b[0m\u001b[0mkwds\u001b[0m\u001b[0;34m)\u001b[0m\u001b[0;34m\u001b[0m\u001b[0m\n\u001b[0;32m--> 312\u001b[0;31m                 \u001b[0mfid\u001b[0m \u001b[0;34m=\u001b[0m \u001b[0mmake_fid\u001b[0m\u001b[0;34m(\u001b[0m\u001b[0mname\u001b[0m\u001b[0;34m,\u001b[0m \u001b[0mmode\u001b[0m\u001b[0;34m,\u001b[0m \u001b[0muserblock_size\u001b[0m\u001b[0;34m,\u001b[0m \u001b[0mfapl\u001b[0m\u001b[0;34m,\u001b[0m \u001b[0mswmr\u001b[0m\u001b[0;34m=\u001b[0m\u001b[0mswmr\u001b[0m\u001b[0;34m)\u001b[0m\u001b[0;34m\u001b[0m\u001b[0m\n\u001b[0m\u001b[1;32m    313\u001b[0m \u001b[0;34m\u001b[0m\u001b[0m\n\u001b[1;32m    314\u001b[0m                 \u001b[0;32mif\u001b[0m \u001b[0mswmr_support\u001b[0m\u001b[0;34m:\u001b[0m\u001b[0;34m\u001b[0m\u001b[0m\n",
      "\u001b[0;32m~/miniconda3/lib/python3.6/site-packages/h5py/_hl/files.py\u001b[0m in \u001b[0;36mmake_fid\u001b[0;34m(name, mode, userblock_size, fapl, fcpl, swmr)\u001b[0m\n\u001b[1;32m    140\u001b[0m         \u001b[0;32mif\u001b[0m \u001b[0mswmr\u001b[0m \u001b[0;32mand\u001b[0m \u001b[0mswmr_support\u001b[0m\u001b[0;34m:\u001b[0m\u001b[0;34m\u001b[0m\u001b[0m\n\u001b[1;32m    141\u001b[0m             \u001b[0mflags\u001b[0m \u001b[0;34m|=\u001b[0m \u001b[0mh5f\u001b[0m\u001b[0;34m.\u001b[0m\u001b[0mACC_SWMR_READ\u001b[0m\u001b[0;34m\u001b[0m\u001b[0m\n\u001b[0;32m--> 142\u001b[0;31m         \u001b[0mfid\u001b[0m \u001b[0;34m=\u001b[0m \u001b[0mh5f\u001b[0m\u001b[0;34m.\u001b[0m\u001b[0mopen\u001b[0m\u001b[0;34m(\u001b[0m\u001b[0mname\u001b[0m\u001b[0;34m,\u001b[0m \u001b[0mflags\u001b[0m\u001b[0;34m,\u001b[0m \u001b[0mfapl\u001b[0m\u001b[0;34m=\u001b[0m\u001b[0mfapl\u001b[0m\u001b[0;34m)\u001b[0m\u001b[0;34m\u001b[0m\u001b[0m\n\u001b[0m\u001b[1;32m    143\u001b[0m     \u001b[0;32melif\u001b[0m \u001b[0mmode\u001b[0m \u001b[0;34m==\u001b[0m \u001b[0;34m'r+'\u001b[0m\u001b[0;34m:\u001b[0m\u001b[0;34m\u001b[0m\u001b[0m\n\u001b[1;32m    144\u001b[0m         \u001b[0mfid\u001b[0m \u001b[0;34m=\u001b[0m \u001b[0mh5f\u001b[0m\u001b[0;34m.\u001b[0m\u001b[0mopen\u001b[0m\u001b[0;34m(\u001b[0m\u001b[0mname\u001b[0m\u001b[0;34m,\u001b[0m \u001b[0mh5f\u001b[0m\u001b[0;34m.\u001b[0m\u001b[0mACC_RDWR\u001b[0m\u001b[0;34m,\u001b[0m \u001b[0mfapl\u001b[0m\u001b[0;34m=\u001b[0m\u001b[0mfapl\u001b[0m\u001b[0;34m)\u001b[0m\u001b[0;34m\u001b[0m\u001b[0m\n",
      "\u001b[0;32mh5py/_objects.pyx\u001b[0m in \u001b[0;36mh5py._objects.with_phil.wrapper\u001b[0;34m()\u001b[0m\n",
      "\u001b[0;32mh5py/_objects.pyx\u001b[0m in \u001b[0;36mh5py._objects.with_phil.wrapper\u001b[0;34m()\u001b[0m\n",
      "\u001b[0;32mh5py/h5f.pyx\u001b[0m in \u001b[0;36mh5py.h5f.open\u001b[0;34m()\u001b[0m\n",
      "\u001b[0;31mOSError\u001b[0m: Unable to open file (unable to open file: name = '/Users/david.fischer/phd/data/BatchSGD/adata/ilc/adata_stim_ilc.h5ad', errno = 2, error message = 'No such file or directory', flags = 0, o_flags = 0)"
     ]
    }
   ],
   "source": [
    "if bool_recompute==True:\n",
    "    print(str(adata_stim.X.shape[0])+\" cells before filtering.\")\n",
    "    sc.pp.filter_cells(adata_stim, min_counts=500)\n",
    "    print(str(adata_stim.X.shape[0])+\" cells after filtering.\")\n",
    "    sc.pp.filter_genes(adata_stim, min_counts=1000)\n",
    "    sc.pp.normalize_per_cell(adata_stim)\n",
    "    sc.pp.pca(adata_stim, zero_center=False, svd_solver='arpack')\n",
    "    sc.pp.neighbors(adata_stim, n_neighbors=500)\n",
    "    sc.tl.umap(adata_stim)\n",
    "    sc.tl.tsne(adata_stim)\n",
    "    sc.tl.louvain(adata_stim)\n",
    "    sc.write(adata=adata_stim, filename=dir_out+\"adata_stim_ilc.h5ad\")\n",
    "else:\n",
    "    adata_stim = sc.read(dir_out+\"adata_stim_ilc.h5ad\")"
   ]
  },
  {
   "cell_type": "code",
   "execution_count": null,
   "metadata": {},
   "outputs": [],
   "source": [
    "sc.pl.umap(adata_stim, color=['treatment'], save='_stim_treatment.pdf')\n",
    "sc.pl.umap(adata_stim, color=['sample'], save='_stim_sample.pdf')\n",
    "sc.pl.umap(adata_stim, color=['louvain'], save='_stim_louvain.pdf')\n",
    "sc.pl.umap(adata_stim, color=['n_counts'], save='_stim_n_counts.pdf')"
   ]
  },
  {
   "cell_type": "code",
   "execution_count": null,
   "metadata": {},
   "outputs": [],
   "source": [
    "sc.pl.tsne(adata_stim, color=['treatment'], save='_stim_treatment.pdf')\n",
    "sc.pl.tsne(adata_stim, color=['sample'], save='_stim_sample.pdf')\n",
    "sc.pl.tsne(adata_stim, color=['louvain'], save='_stim_louvain.pdf')\n",
    "sc.pl.tsne(adata_stim, color=['n_counts'], save='_stim_n_counts.pdf')"
   ]
  },
  {
   "cell_type": "markdown",
   "metadata": {},
   "source": [
    "## Genotype study"
   ]
  },
  {
   "cell_type": "code",
   "execution_count": null,
   "metadata": {},
   "outputs": [],
   "source": [
    "if bool_recompute==True:\n",
    "    print(str(adata_geno.X.shape[0])+\" cells before filtering.\")\n",
    "    sc.pp.filter_cells(adata_geno, min_counts=500)\n",
    "    print(str(adata_geno.X.shape[0])+\" cells after filtering.\")\n",
    "    sc.pp.filter_genes(adata_geno, min_counts=1000)\n",
    "    sc.pp.normalize_per_cell(adata_geno)\n",
    "    sc.pp.pca(adata_geno, zero_center=False, svd_solver='arpack')\n",
    "    sc.pp.neighbors(adata_geno, n_neighbors=500)\n",
    "    sc.tl.umap(adata_geno)\n",
    "    sc.tl.tsne(adata_geno)\n",
    "    sc.tl.louvain(adata_geno)\n",
    "    sc.write(adata=adata_geno, filename=dir_out+\"adata_geno_ilc.h5ad\")\n",
    "else:\n",
    "    adata_geno = sc.read(dir_out+\"adata_geno_ilc.h5ad\")"
   ]
  },
  {
   "cell_type": "code",
   "execution_count": null,
   "metadata": {
    "scrolled": true
   },
   "outputs": [],
   "source": [
    "sc.pl.umap(adata_geno, color=['treatment'], save='_geno_treatment.pdf')\n",
    "sc.pl.umap(adata_geno, color=['sample'], save='_geno_sample.pdf')\n",
    "sc.pl.umap(adata_geno, color=['louvain'], save='_geno_louvain.pdf')\n",
    "sc.pl.umap(adata_geno, color=['n_counts'], save='_geno_n_counts.pdf')"
   ]
  },
  {
   "cell_type": "code",
   "execution_count": null,
   "metadata": {},
   "outputs": [],
   "source": [
    "sc.pl.tsne(adata_geno, color=['treatment'], save='_geno_treatment.pdf')\n",
    "sc.pl.tsne(adata_geno, color=['sample'], save='_geno_sample.pdf')\n",
    "sc.pl.tsne(adata_geno, color=['louvain'], save='_geno_louvain.pdf')\n",
    "sc.pl.tsne(adata_geno, color=['n_counts'], save='_geno_n_counts.pdf')"
   ]
  },
  {
   "cell_type": "markdown",
   "metadata": {},
   "source": [
    "# Differential expression analysis"
   ]
  },
  {
   "cell_type": "code",
   "execution_count": null,
   "metadata": {},
   "outputs": [],
   "source": [
    "adata_stim.obs['rep'] = [x.split('_')[-1] for x in adata_stim.obs['sample'].values]"
   ]
  },
  {
   "cell_type": "markdown",
   "metadata": {},
   "source": [
    "Redefine the replicate naming so that the factor ordering changes. We need this for the replicate models later."
   ]
  },
  {
   "cell_type": "code",
   "execution_count": null,
   "metadata": {},
   "outputs": [],
   "source": [
    "adata_stim.obs['rep_alternative'] = adata_stim.obs['rep'].values\n",
    "adata_stim[adata_stim.obs['rep'].values==\"Rep1\",:].obs['rep_alternative'] = \"Rep3\""
   ]
  },
  {
   "cell_type": "markdown",
   "metadata": {},
   "source": [
    "## By condition"
   ]
  },
  {
   "cell_type": "markdown",
   "metadata": {},
   "source": [
    "We perform the condition-wise test on a subset of the condition to ease interpretation below."
   ]
  },
  {
   "cell_type": "code",
   "execution_count": null,
   "metadata": {},
   "outputs": [],
   "source": [
    "adata_stim_pbs_nmu = adata_stim[np.where([x in ['PBS', 'NMU'] \n",
    "                                          for x in adata_stim.obs['treatment'].values])[0],:].copy()"
   ]
  },
  {
   "cell_type": "markdown",
   "metadata": {},
   "source": [
    "### Basic treatment tests"
   ]
  },
  {
   "cell_type": "markdown",
   "metadata": {},
   "source": [
    "#### T-test"
   ]
  },
  {
   "cell_type": "code",
   "execution_count": null,
   "metadata": {},
   "outputs": [],
   "source": [
    "t_tt_0 = time.time()\n",
    "det_tt = de.test.t_test(\n",
    "    adata_stim_pbs_nmu, \n",
    "    grouping=\"treatment\"\n",
    ")\n",
    "t_tt_1 = time.time()\n",
    "t_tt = t_tt_1-t_tt_0"
   ]
  },
  {
   "cell_type": "markdown",
   "metadata": {},
   "source": [
    "#### Limma"
   ]
  },
  {
   "cell_type": "code",
   "execution_count": 42,
   "metadata": {},
   "outputs": [
    {
     "name": "stdout",
     "output_type": "stream",
     "text": [
      "2.9.4\n"
     ]
    },
    {
     "ename": "ImportError",
     "evalue": "dlopen(/Users/david.fischer/miniconda3/lib/python3.6/site-packages/rpy2/rinterface/_rinterface.cpython-36m-darwin.so, 2): Library not loaded: /Library/Frameworks/R.framework/Versions/3.5/Resources/lib/libomp.dylib\n  Referenced from: /Users/david.fischer/miniconda3/lib/python3.6/site-packages/rpy2/rinterface/_rinterface.cpython-36m-darwin.so\n  Reason: image not found",
     "output_type": "error",
     "traceback": [
      "\u001b[0;31m---------------------------------------------------------------------------\u001b[0m",
      "\u001b[0;31mImportError\u001b[0m                               Traceback (most recent call last)",
      "\u001b[0;32m<ipython-input-42-832d9b006e3f>\u001b[0m in \u001b[0;36m<module>\u001b[0;34m()\u001b[0m\n\u001b[1;32m      1\u001b[0m \u001b[0;32mimport\u001b[0m \u001b[0mrpy2\u001b[0m\u001b[0;34m\u001b[0m\u001b[0m\n\u001b[1;32m      2\u001b[0m \u001b[0mprint\u001b[0m\u001b[0;34m(\u001b[0m\u001b[0mrpy2\u001b[0m\u001b[0;34m.\u001b[0m\u001b[0m__version__\u001b[0m\u001b[0;34m)\u001b[0m\u001b[0;34m\u001b[0m\u001b[0m\n\u001b[0;32m----> 3\u001b[0;31m \u001b[0;32mimport\u001b[0m \u001b[0mrpy2\u001b[0m\u001b[0;34m.\u001b[0m\u001b[0mrobjects\u001b[0m \u001b[0;32mas\u001b[0m \u001b[0mrobjects\u001b[0m\u001b[0;34m\u001b[0m\u001b[0m\n\u001b[0m",
      "\u001b[0;32m~/miniconda3/lib/python3.6/site-packages/rpy2/robjects/__init__.py\u001b[0m in \u001b[0;36m<module>\u001b[0;34m()\u001b[0m\n\u001b[1;32m     14\u001b[0m \u001b[0;32mimport\u001b[0m \u001b[0mitertools\u001b[0m\u001b[0;34m\u001b[0m\u001b[0m\n\u001b[1;32m     15\u001b[0m \u001b[0;32mfrom\u001b[0m \u001b[0mdatetime\u001b[0m \u001b[0;32mimport\u001b[0m \u001b[0mdatetime\u001b[0m\u001b[0;34m\u001b[0m\u001b[0m\n\u001b[0;32m---> 16\u001b[0;31m \u001b[0;32mimport\u001b[0m \u001b[0mrpy2\u001b[0m\u001b[0;34m.\u001b[0m\u001b[0mrinterface\u001b[0m \u001b[0;32mas\u001b[0m \u001b[0mrinterface\u001b[0m\u001b[0;34m\u001b[0m\u001b[0m\n\u001b[0m\u001b[1;32m     17\u001b[0m \u001b[0;32mimport\u001b[0m \u001b[0mrpy2\u001b[0m\u001b[0;34m.\u001b[0m\u001b[0mrlike\u001b[0m\u001b[0;34m.\u001b[0m\u001b[0mcontainer\u001b[0m \u001b[0;32mas\u001b[0m \u001b[0mrlc\u001b[0m\u001b[0;34m\u001b[0m\u001b[0m\n\u001b[1;32m     18\u001b[0m \u001b[0;34m\u001b[0m\u001b[0m\n",
      "\u001b[0;32m~/miniconda3/lib/python3.6/site-packages/rpy2/rinterface/__init__.py\u001b[0m in \u001b[0;36m<module>\u001b[0;34m()\u001b[0m\n\u001b[1;32m     49\u001b[0m \u001b[0;32mdel\u001b[0m\u001b[0;34m(\u001b[0m\u001b[0mos\u001b[0m\u001b[0;34m)\u001b[0m\u001b[0;34m\u001b[0m\u001b[0m\n\u001b[1;32m     50\u001b[0m \u001b[0;34m\u001b[0m\u001b[0m\n\u001b[0;32m---> 51\u001b[0;31m from rpy2.rinterface._rinterface import (baseenv,\n\u001b[0m\u001b[1;32m     52\u001b[0m                                          \u001b[0memptyenv\u001b[0m\u001b[0;34m,\u001b[0m\u001b[0;34m\u001b[0m\u001b[0m\n\u001b[1;32m     53\u001b[0m                                          \u001b[0mendr\u001b[0m\u001b[0;34m,\u001b[0m\u001b[0;34m\u001b[0m\u001b[0m\n",
      "\u001b[0;31mImportError\u001b[0m: dlopen(/Users/david.fischer/miniconda3/lib/python3.6/site-packages/rpy2/rinterface/_rinterface.cpython-36m-darwin.so, 2): Library not loaded: /Library/Frameworks/R.framework/Versions/3.5/Resources/lib/libomp.dylib\n  Referenced from: /Users/david.fischer/miniconda3/lib/python3.6/site-packages/rpy2/rinterface/_rinterface.cpython-36m-darwin.so\n  Reason: image not found"
     ]
    }
   ],
   "source": [
    "import rpy2\n",
    "print(rpy2.__version__)\n",
    "import rpy2.robjects as robjects"
   ]
  },
  {
   "cell_type": "code",
   "execution_count": 41,
   "metadata": {},
   "outputs": [
    {
     "ename": "ImportError",
     "evalue": "dlopen(/Users/david.fischer/miniconda3/lib/python3.6/site-packages/rpy2/rinterface/_rinterface.cpython-36m-darwin.so, 2): Library not loaded: /Library/Frameworks/R.framework/Versions/3.5/Resources/lib/libomp.dylib\n  Referenced from: /Users/david.fischer/miniconda3/lib/python3.6/site-packages/rpy2/rinterface/_rinterface.cpython-36m-darwin.so\n  Reason: image not found",
     "output_type": "error",
     "traceback": [
      "\u001b[0;31m---------------------------------------------------------------------------\u001b[0m",
      "\u001b[0;31mImportError\u001b[0m                               Traceback (most recent call last)",
      "\u001b[0;32m<ipython-input-41-5640f1e3c1c4>\u001b[0m in \u001b[0;36m<module>\u001b[0;34m()\u001b[0m\n\u001b[0;32m----> 1\u001b[0;31m \u001b[0;32mfrom\u001b[0m \u001b[0mrpy2\u001b[0m\u001b[0;34m.\u001b[0m\u001b[0mrobjects\u001b[0m\u001b[0;34m.\u001b[0m\u001b[0mpackages\u001b[0m \u001b[0;32mimport\u001b[0m \u001b[0mimportr\u001b[0m\u001b[0;34m\u001b[0m\u001b[0m\n\u001b[0m\u001b[1;32m      2\u001b[0m \u001b[0;31m# import R's \"base\" package\u001b[0m\u001b[0;34m\u001b[0m\u001b[0;34m\u001b[0m\u001b[0m\n\u001b[1;32m      3\u001b[0m \u001b[0mbase\u001b[0m \u001b[0;34m=\u001b[0m \u001b[0mimportr\u001b[0m\u001b[0;34m(\u001b[0m\u001b[0;34m'base'\u001b[0m\u001b[0;34m)\u001b[0m\u001b[0;34m\u001b[0m\u001b[0m\n\u001b[1;32m      4\u001b[0m \u001b[0;34m\u001b[0m\u001b[0m\n\u001b[1;32m      5\u001b[0m \u001b[0;31m# import R's \"utils\" package\u001b[0m\u001b[0;34m\u001b[0m\u001b[0;34m\u001b[0m\u001b[0m\n",
      "\u001b[0;32m~/miniconda3/lib/python3.6/site-packages/rpy2/robjects/__init__.py\u001b[0m in \u001b[0;36m<module>\u001b[0;34m()\u001b[0m\n\u001b[1;32m     14\u001b[0m \u001b[0;32mimport\u001b[0m \u001b[0mitertools\u001b[0m\u001b[0;34m\u001b[0m\u001b[0m\n\u001b[1;32m     15\u001b[0m \u001b[0;32mfrom\u001b[0m \u001b[0mdatetime\u001b[0m \u001b[0;32mimport\u001b[0m \u001b[0mdatetime\u001b[0m\u001b[0;34m\u001b[0m\u001b[0m\n\u001b[0;32m---> 16\u001b[0;31m \u001b[0;32mimport\u001b[0m \u001b[0mrpy2\u001b[0m\u001b[0;34m.\u001b[0m\u001b[0mrinterface\u001b[0m \u001b[0;32mas\u001b[0m \u001b[0mrinterface\u001b[0m\u001b[0;34m\u001b[0m\u001b[0m\n\u001b[0m\u001b[1;32m     17\u001b[0m \u001b[0;32mimport\u001b[0m \u001b[0mrpy2\u001b[0m\u001b[0;34m.\u001b[0m\u001b[0mrlike\u001b[0m\u001b[0;34m.\u001b[0m\u001b[0mcontainer\u001b[0m \u001b[0;32mas\u001b[0m \u001b[0mrlc\u001b[0m\u001b[0;34m\u001b[0m\u001b[0m\n\u001b[1;32m     18\u001b[0m \u001b[0;34m\u001b[0m\u001b[0m\n",
      "\u001b[0;32m~/miniconda3/lib/python3.6/site-packages/rpy2/rinterface/__init__.py\u001b[0m in \u001b[0;36m<module>\u001b[0;34m()\u001b[0m\n\u001b[1;32m     49\u001b[0m \u001b[0;32mdel\u001b[0m\u001b[0;34m(\u001b[0m\u001b[0mos\u001b[0m\u001b[0;34m)\u001b[0m\u001b[0;34m\u001b[0m\u001b[0m\n\u001b[1;32m     50\u001b[0m \u001b[0;34m\u001b[0m\u001b[0m\n\u001b[0;32m---> 51\u001b[0;31m from rpy2.rinterface._rinterface import (baseenv,\n\u001b[0m\u001b[1;32m     52\u001b[0m                                          \u001b[0memptyenv\u001b[0m\u001b[0;34m,\u001b[0m\u001b[0;34m\u001b[0m\u001b[0m\n\u001b[1;32m     53\u001b[0m                                          \u001b[0mendr\u001b[0m\u001b[0;34m,\u001b[0m\u001b[0;34m\u001b[0m\u001b[0m\n",
      "\u001b[0;31mImportError\u001b[0m: dlopen(/Users/david.fischer/miniconda3/lib/python3.6/site-packages/rpy2/rinterface/_rinterface.cpython-36m-darwin.so, 2): Library not loaded: /Library/Frameworks/R.framework/Versions/3.5/Resources/lib/libomp.dylib\n  Referenced from: /Users/david.fischer/miniconda3/lib/python3.6/site-packages/rpy2/rinterface/_rinterface.cpython-36m-darwin.so\n  Reason: image not found"
     ]
    }
   ],
   "source": [
    "from rpy2.robjects.packages import importr\n",
    "# import R's \"base\" package\n",
    "base = importr('base')\n",
    "\n",
    "# import R's \"utils\" package\n",
    "utils = importr('utils')"
   ]
  },
  {
   "cell_type": "code",
   "execution_count": 29,
   "metadata": {},
   "outputs": [],
   "source": [
    "pval_limma = None\n",
    "t_limma = None"
   ]
  },
  {
   "cell_type": "markdown",
   "metadata": {},
   "source": [
    "#### MAST"
   ]
  },
  {
   "cell_type": "code",
   "execution_count": null,
   "metadata": {},
   "outputs": [],
   "source": [
    "pval_mast = None\n",
    "t_MAST = None"
   ]
  },
  {
   "cell_type": "markdown",
   "metadata": {},
   "source": [
    "#### diffxpy Wald test"
   ]
  },
  {
   "cell_type": "code",
   "execution_count": 30,
   "metadata": {},
   "outputs": [
    {
     "ename": "SyntaxError",
     "evalue": "invalid syntax (<ipython-input-30-885d88f84664>, line 5)",
     "output_type": "error",
     "traceback": [
      "\u001b[0;36m  File \u001b[0;32m\"<ipython-input-30-885d88f84664>\"\u001b[0;36m, line \u001b[0;32m5\u001b[0m\n\u001b[0;31m    formula_scale\"~1+condition\",\u001b[0m\n\u001b[0m                              ^\u001b[0m\n\u001b[0;31mSyntaxError\u001b[0m\u001b[0;31m:\u001b[0m invalid syntax\n"
     ]
    }
   ],
   "source": [
    "t_wald_0 = time.time()\n",
    "det_wald = de.test.wald(\n",
    "    adata_stim_pbs_nmu, \n",
    "    formula_loc=\"~1+treatment\", \n",
    "    factor_loc_totest=\"treatment\", \n",
    "    formula_scale\"~1+treatment\",\n",
    "    noise_model=\"nb\",\n",
    "    training_strategy=\"QUICK\",\n",
    "    size_factors=None\n",
    ")\n",
    "t_wald_1 = time.time()\n",
    "t_wald = t_wald_1-t_wald_0"
   ]
  },
  {
   "cell_type": "markdown",
   "metadata": {},
   "source": [
    "#### diffxpy LRT"
   ]
  },
  {
   "cell_type": "code",
   "execution_count": null,
   "metadata": {},
   "outputs": [],
   "source": [
    "t_lrt_0 = time.time()\n",
    "det_lrt = de.test.lrt(full_formula_scale=\n",
    "    adata_stim_pbs_nmu, \n",
    "    full_formula_loc=\"~1+treatment\", \n",
    "    full_formula_scale=\"~1+treatment\", \n",
    "    red_formula_loc=\"~1\", \n",
    "    red_formula_scale=\"~1+treatment\", \n",
    "    noise_model=\"nb\",\n",
    "    training_strategy=\"QUICK\",\n",
    "    size_factors=None\n",
    ")\n",
    "t_lrt_1 = time.time()\n",
    "t_lrt = t_lrt_1-t_lrt_0"
   ]
  },
  {
   "cell_type": "markdown",
   "metadata": {},
   "source": [
    "### Replicate models / constraints"
   ]
  },
  {
   "cell_type": "markdown",
   "metadata": {},
   "source": [
    "#### diffxpy Wald test - replicate model A"
   ]
  },
  {
   "cell_type": "code",
   "execution_count": 30,
   "metadata": {},
   "outputs": [
    {
     "ename": "SyntaxError",
     "evalue": "invalid syntax (<ipython-input-30-885d88f84664>, line 5)",
     "output_type": "error",
     "traceback": [
      "\u001b[0;36m  File \u001b[0;32m\"<ipython-input-30-885d88f84664>\"\u001b[0;36m, line \u001b[0;32m5\u001b[0m\n\u001b[0;31m    formula_scale\"~1+condition\",\u001b[0m\n\u001b[0m                              ^\u001b[0m\n\u001b[0;31mSyntaxError\u001b[0m\u001b[0;31m:\u001b[0m invalid syntax\n"
     ]
    }
   ],
   "source": [
    "t_waldra_0 = time.time()\n",
    "det_waldra = de.test.wald(\n",
    "    adata_stim_pbs_nmu, \n",
    "    formula_loc=\"~1+treatment+rep+treatment:rep\", \n",
    "    factor_loc_totest=\"treatment\", \n",
    "    formula_scale\"~1+treatment+rep+treatment:rep\",\n",
    "    noise_model=\"nb\",\n",
    "    training_strategy=\"QUICK\",\n",
    "    size_factors=None\n",
    ")\n",
    "t_waldra_1 = time.time()\n",
    "t_waldra = t_waldra_1-t_waldra_0"
   ]
  },
  {
   "cell_type": "markdown",
   "metadata": {},
   "source": [
    "#### diffxpy Wald test - replicate model B"
   ]
  },
  {
   "cell_type": "code",
   "execution_count": 30,
   "metadata": {},
   "outputs": [
    {
     "ename": "SyntaxError",
     "evalue": "invalid syntax (<ipython-input-30-885d88f84664>, line 5)",
     "output_type": "error",
     "traceback": [
      "\u001b[0;36m  File \u001b[0;32m\"<ipython-input-30-885d88f84664>\"\u001b[0;36m, line \u001b[0;32m5\u001b[0m\n\u001b[0;31m    formula_scale\"~1+condition\",\u001b[0m\n\u001b[0m                              ^\u001b[0m\n\u001b[0;31mSyntaxError\u001b[0m\u001b[0;31m:\u001b[0m invalid syntax\n"
     ]
    }
   ],
   "source": [
    "t_waldrb_0 = time.time()\n",
    "det_waldrb = de.test.wald(\n",
    "    adata_stim_pbs_nmu, \n",
    "    formula_loc=\"~1+treatment+rep_alternative+treatment:rep_alternative\", \n",
    "    factor_loc_totest=\"treatment\", \n",
    "    formula_scale\"~1+treatment+rep_alternative+treatment:rep_alternative\",\n",
    "    noise_model=\"nb\",\n",
    "    training_strategy=\"QUICK\",\n",
    "    size_factors=None\n",
    ")\n",
    "t_waldrb_1 = time.time()\n",
    "t_waldrb = t_waldrb_1-t_waldrb_0"
   ]
  },
  {
   "cell_type": "markdown",
   "metadata": {},
   "source": [
    "#### diffxpy constrained Wald test"
   ]
  },
  {
   "cell_type": "markdown",
   "metadata": {},
   "source": [
    "Define design matrix of overdetermined system:"
   ]
  },
  {
   "cell_type": "code",
   "execution_count": null,
   "metadata": {},
   "outputs": [],
   "source": [
    "dmat = np.zeros([adata_stim.X.shape[0], 6])\n",
    "dmat[:,0] = 1 # intercept\n",
    "# condition PBS is absorbed into the intercept\n",
    "dmat[np.where(adata_stim.obs['treatment'].values=='NMU')[0],1] = 1 # condition NMU\n",
    "dmat[np.where(np.logical_and(\n",
    "    adata_stim.obs['treatment'].values=='PBS',\n",
    "    adata_stim.obs['rep'].values=='Rep1'))[0],2] = 1 # replicate 1 PBS\n",
    "dmat[np.where(np.logical_and(\n",
    "    adata_stim.obs['treatment'].values=='PBS',\n",
    "    adata_stim.obs['rep'].values=='Rep2'))[0],3] = 1 # replicate 2 PBS\n",
    "dmat[np.where(np.logical_and(\n",
    "    adata_stim.obs['treatment'].values=='NMU',\n",
    "    adata_stim.obs['rep'].values=='Rep1'))[0],4] = 1 # replicate 1 NMU\n",
    "dmat[np.where(np.logical_and(\n",
    "    adata_stim.obs['treatment'].values=='NMU',\n",
    "    adata_stim.obs['rep'].values=='Rep2'))[0],5] = 1 # replicate 2 NMU\n",
    "print(np.unique(dmat, axis=0))"
   ]
  },
  {
   "cell_type": "code",
   "execution_count": null,
   "metadata": {},
   "outputs": [],
   "source": [
    "coefficient_names = ['intercept', 'nmu', 'pbs_rep1', 'pbs_rep2', 'nmu_rep1', 'nmu_rep2']"
   ]
  },
  {
   "cell_type": "code",
   "execution_count": null,
   "metadata": {},
   "outputs": [],
   "source": [
    "dmat = pd.DataFrame(data=dmat, columns=coefficient_names)"
   ]
  },
  {
   "cell_type": "markdown",
   "metadata": {},
   "source": [
    "Format design matrix to comply with diffxpy standards:"
   ]
  },
  {
   "cell_type": "code",
   "execution_count": null,
   "metadata": {},
   "outputs": [],
   "source": [
    "dmat_loc = de.test.design_matrix(dmat=dmat)"
   ]
  },
  {
   "cell_type": "markdown",
   "metadata": {},
   "source": [
    "Build constraints:"
   ]
  },
  {
   "cell_type": "code",
   "execution_count": null,
   "metadata": {},
   "outputs": [],
   "source": [
    "constraints_loc = np.zeros([2, dmat_loc.dims['design_params']])\n",
    "# Constraint 0: Account for perfect confouding at replicate level \n",
    "# by constraining replicate coefficients not to produce mean effects across treatments.\n",
    "constraints_loc[0,4] = -1\n",
    "constraints_loc[0,5] = 1\n",
    "# Constraint 1: Account for fact that first level of replicates was not absorbed into offset.\n",
    "constraints_loc[1,2] = -1\n",
    "constraints_loc[1,3:] = 1\n",
    "print(constraints_loc)"
   ]
  },
  {
   "cell_type": "code",
   "execution_count": null,
   "metadata": {},
   "outputs": [],
   "source": [
    "t_waldc_0 = time.time()\n",
    "det_waldc = de.test.wald(\n",
    "    adata_stim_pbs_nmu, \n",
    "    dmat_loc = dmat_est_loc.data_vars['design'],\n",
    "    coef_to_test=[\"nmu\"],\n",
    "    constraints_loc = constraints_loc,\n",
    "    formula_scale\"~1+treatment+rep+treatment:rep\",\n",
    "    noise_model=\"nb\",\n",
    "    training_strategy=\"QUICK\",\n",
    "    size_factors=None\n",
    ")\n",
    "t_waldc_1 = time.time()\n",
    "t_waldc = t_waldc_1-t_waldc_0"
   ]
  },
  {
   "cell_type": "markdown",
   "metadata": {},
   "source": [
    "### Dispersion models"
   ]
  },
  {
   "cell_type": "markdown",
   "metadata": {},
   "source": [
    "#### diffxpy Wald test - dispersion model 0 (MME)"
   ]
  },
  {
   "cell_type": "code",
   "execution_count": 30,
   "metadata": {},
   "outputs": [
    {
     "ename": "SyntaxError",
     "evalue": "invalid syntax (<ipython-input-30-885d88f84664>, line 5)",
     "output_type": "error",
     "traceback": [
      "\u001b[0;36m  File \u001b[0;32m\"<ipython-input-30-885d88f84664>\"\u001b[0;36m, line \u001b[0;32m5\u001b[0m\n\u001b[0;31m    formula_scale\"~1+condition\",\u001b[0m\n\u001b[0m                              ^\u001b[0m\n\u001b[0;31mSyntaxError\u001b[0m\u001b[0;31m:\u001b[0m invalid syntax\n"
     ]
    }
   ],
   "source": [
    "t_walddm0_0 = time.time()\n",
    "det_walddm0 = de.test.wald(\n",
    "    adata_stim_pbs_nmu, \n",
    "    formula_loc=\"~1+treatment\", \n",
    "    factor_loc_totest=\"treatment\", \n",
    "    noise_model=\"nb\",\n",
    "    quick_scale=True,\n",
    "    training_strategy=\"QUICK\",\n",
    "    size_factors=None\n",
    ")\n",
    "t_walddm0_1 = time.time()\n",
    "t_walddm0 = t_walddm0_1-t_walddm0_0"
   ]
  },
  {
   "cell_type": "markdown",
   "metadata": {},
   "source": [
    "#### diffxpy Wald test - dispersion model 1 (intercept)"
   ]
  },
  {
   "cell_type": "code",
   "execution_count": 30,
   "metadata": {},
   "outputs": [
    {
     "ename": "SyntaxError",
     "evalue": "invalid syntax (<ipython-input-30-885d88f84664>, line 5)",
     "output_type": "error",
     "traceback": [
      "\u001b[0;36m  File \u001b[0;32m\"<ipython-input-30-885d88f84664>\"\u001b[0;36m, line \u001b[0;32m5\u001b[0m\n\u001b[0;31m    formula_scale\"~1+condition\",\u001b[0m\n\u001b[0m                              ^\u001b[0m\n\u001b[0;31mSyntaxError\u001b[0m\u001b[0;31m:\u001b[0m invalid syntax\n"
     ]
    }
   ],
   "source": [
    "t_walddm1_0 = time.time()\n",
    "det_walddm1 = de.test.wald(\n",
    "    adata_stim_pbs_nmu, \n",
    "    formula_loc=\"~1+treatment\", \n",
    "    factor_loc_totest=\"treatment\", \n",
    "    formula_scale=\"~1\", \n",
    "    noise_model=\"nb\",\n",
    "    quick_scale=False,\n",
    "    training_strategy=\"QUICK\",\n",
    "    size_factors=None\n",
    ")\n",
    "t_walddm1_1 = time.time()\n",
    "t_walddm1 = t_walddm1_1-t_walddm1_0"
   ]
  },
  {
   "cell_type": "markdown",
   "metadata": {},
   "source": [
    "## Pairwise tests"
   ]
  },
  {
   "cell_type": "markdown",
   "metadata": {},
   "source": [
    "### by condition"
   ]
  },
  {
   "cell_type": "code",
   "execution_count": null,
   "metadata": {},
   "outputs": [],
   "source": [
    "t_pwc_0 = time.time()\n",
    "det_pw_cl = de.test.pairwise(\n",
    "    adata_stim, \n",
    "    grouping=\"condition\", \n",
    "    quick_scale=False, \n",
    "    noise_model=\"nb\", \n",
    "    training_strategy=\"QUICK\",\n",
    "    keep_full_test_objs=False\n",
    ")\n",
    "t_pwc_1 = time.time()\n",
    "t_pwc = t_pwc_1-t_pwc_0"
   ]
  },
  {
   "cell_type": "markdown",
   "metadata": {},
   "source": [
    "### by cluster"
   ]
  },
  {
   "cell_type": "code",
   "execution_count": null,
   "metadata": {},
   "outputs": [],
   "source": [
    "t_pwcl_0 = time.time()\n",
    "det_pw_cl = de.test.pairwise(\n",
    "    adata_stim, \n",
    "    grouping=\"louvain\", \n",
    "    quick_scale=False, \n",
    "    noise_model=\"nb\", \n",
    "    training_strategy=\"QUICK\",\n",
    "    keep_full_test_objs=False\n",
    ")\n",
    "t_pwcl_1 = time.time()\n",
    "t_pwcl = t_pwcl_1-t_pwcl_0"
   ]
  },
  {
   "cell_type": "markdown",
   "metadata": {},
   "source": [
    "# Meta-analysis of differential expression results"
   ]
  },
  {
   "cell_type": "markdown",
   "metadata": {},
   "source": [
    "## diffxpy p-values versus reference methods"
   ]
  },
  {
   "cell_type": "markdown",
   "metadata": {},
   "source": [
    "### t-test"
   ]
  },
  {
   "cell_type": "markdown",
   "metadata": {},
   "source": [
    "#### p-values"
   ]
  },
  {
   "cell_type": "code",
   "execution_count": null,
   "metadata": {},
   "outputs": [],
   "source": [
    "print(\n",
    "    \"Maximum log10 p-value deviation: \"+\n",
    "    str(np.max(np.abs( np.log(det_wald.pval)/np.log(10) - np.log(det_tt.pval)/np.log(10) )))\n",
    ")"
   ]
  },
  {
   "cell_type": "markdown",
   "metadata": {},
   "source": [
    "Histogram of differences in log_10 pvalues:"
   ]
  },
  {
   "cell_type": "code",
   "execution_count": null,
   "metadata": {},
   "outputs": [],
   "source": [
    "sns.distplot(np.log(det_wald.pval)/np.log(10) - np.log(det_tt.pval)/np.log(10), kde=False)"
   ]
  },
  {
   "cell_type": "markdown",
   "metadata": {},
   "source": [
    "log_10 p-value scatter plot:"
   ]
  },
  {
   "cell_type": "code",
   "execution_count": null,
   "metadata": {},
   "outputs": [],
   "source": [
    "sns.scatterplot(x=np.log(det_wald.pval)/np.log(10), \n",
    "                y=np.log(det_tt.pval)/np.log(10))"
   ]
  },
  {
   "cell_type": "markdown",
   "metadata": {},
   "source": [
    "#### run time"
   ]
  },
  {
   "cell_type": "code",
   "execution_count": null,
   "metadata": {},
   "outputs": [],
   "source": [
    "print(\"Wald test run time: \"+str(t_wald))\n",
    "print(\"T-test run time: \"+str(t_tt))\n",
    "print(\"T-test to Wald test run time: \"+str(t_tt/t_wald))"
   ]
  },
  {
   "cell_type": "markdown",
   "metadata": {},
   "source": [
    "###  limma"
   ]
  },
  {
   "cell_type": "markdown",
   "metadata": {},
   "source": [
    "#### p-values"
   ]
  },
  {
   "cell_type": "code",
   "execution_count": null,
   "metadata": {},
   "outputs": [],
   "source": [
    "print(\n",
    "    \"Maximum log10 p-value deviation: \"+\n",
    "    str(np.max(np.abs( np.log(det_wald.pval)/np.log(10) - np.log(pval_limma)/np.log(10) )))\n",
    ")"
   ]
  },
  {
   "cell_type": "markdown",
   "metadata": {},
   "source": [
    "Histogram of differences in log_10 pvalues:"
   ]
  },
  {
   "cell_type": "code",
   "execution_count": null,
   "metadata": {},
   "outputs": [],
   "source": [
    "sns.distplot(np.log(det_wald.pval)/np.log(10) - np.log(pval_limma)/np.log(10), kde=False)"
   ]
  },
  {
   "cell_type": "markdown",
   "metadata": {},
   "source": [
    "log_10 p-value scatter plot:"
   ]
  },
  {
   "cell_type": "code",
   "execution_count": null,
   "metadata": {},
   "outputs": [],
   "source": [
    "sns.scatterplot(x=np.log(det_wald.pval)/np.log(10), \n",
    "                y=np.log(pval_limma)/np.log(10))"
   ]
  },
  {
   "cell_type": "markdown",
   "metadata": {},
   "source": [
    "#### run time"
   ]
  },
  {
   "cell_type": "code",
   "execution_count": null,
   "metadata": {},
   "outputs": [],
   "source": [
    "print(\"Wald test run time: \"+str(t_wald))\n",
    "print(\"Limma run time: \"+str(t_limma))\n",
    "print(\"Limma to Wald test run time: \"+str(t_limma/t_wald))"
   ]
  },
  {
   "cell_type": "markdown",
   "metadata": {},
   "source": [
    "### MAST"
   ]
  },
  {
   "cell_type": "markdown",
   "metadata": {},
   "source": [
    "#### p-values"
   ]
  },
  {
   "cell_type": "code",
   "execution_count": null,
   "metadata": {},
   "outputs": [],
   "source": [
    "print(\n",
    "    \"Maximum log10 p-value deviation: \"+\n",
    "    str(np.max(np.abs( np.log(det_wald.pval)/np.log(10) - np.log(pval_mast)/np.log(10) )))\n",
    ")"
   ]
  },
  {
   "cell_type": "markdown",
   "metadata": {},
   "source": [
    "Histogram of differences in log_10 pvalues:"
   ]
  },
  {
   "cell_type": "code",
   "execution_count": null,
   "metadata": {},
   "outputs": [],
   "source": [
    "sns.distplot(np.log(det_wald.pval)/np.log(10) - np.log(pval_mast)/np.log(10), kde=False)"
   ]
  },
  {
   "cell_type": "markdown",
   "metadata": {},
   "source": [
    "log_10 p-value scatter plot:"
   ]
  },
  {
   "cell_type": "code",
   "execution_count": null,
   "metadata": {},
   "outputs": [],
   "source": [
    "sns.scatterplot(x=np.log(det_wald.pval)/np.log(10), \n",
    "                y=np.log(pval_mast)/np.log(10))"
   ]
  },
  {
   "cell_type": "markdown",
   "metadata": {},
   "source": [
    "#### run time"
   ]
  },
  {
   "cell_type": "code",
   "execution_count": null,
   "metadata": {},
   "outputs": [],
   "source": [
    "print(\"Wald test run time: \"+str(t_wald))\n",
    "print(\"MAST run time: \"+str(t_mast))\n",
    "print(\"MAST to Wald test run time: \"+str(t_mast/t_wald))"
   ]
  },
  {
   "cell_type": "markdown",
   "metadata": {},
   "source": [
    "## Wald versus LRT"
   ]
  },
  {
   "cell_type": "markdown",
   "metadata": {},
   "source": [
    "### p-values"
   ]
  },
  {
   "cell_type": "code",
   "execution_count": null,
   "metadata": {},
   "outputs": [],
   "source": [
    "print(\n",
    "    \"Maximum log10 p-value deviation: \"+\n",
    "    str(np.max(np.abs( np.log(det_wald.pval)/np.log(10) - np.log(det_lrt.pval)/np.log(10) )))\n",
    ")"
   ]
  },
  {
   "cell_type": "markdown",
   "metadata": {},
   "source": [
    "Histogram of differences in log_10 pvalues:"
   ]
  },
  {
   "cell_type": "code",
   "execution_count": null,
   "metadata": {},
   "outputs": [],
   "source": [
    "sns.distplot(np.log(det_wald.pval)/np.log(10) - np.log(det_lrt.pval)/np.log(10), kde=False)"
   ]
  },
  {
   "cell_type": "markdown",
   "metadata": {},
   "source": [
    "log_10 p-value scatter plot:"
   ]
  },
  {
   "cell_type": "code",
   "execution_count": null,
   "metadata": {},
   "outputs": [],
   "source": [
    "sns.scatterplot(x=np.log(det_wald.pval)/np.log(10), \n",
    "                y=np.log(det_lrt.pval)/np.log(10))"
   ]
  },
  {
   "cell_type": "markdown",
   "metadata": {},
   "source": [
    "### run time"
   ]
  },
  {
   "cell_type": "code",
   "execution_count": 35,
   "metadata": {
    "scrolled": true
   },
   "outputs": [
    {
     "ename": "NameError",
     "evalue": "name 't_wald' is not defined",
     "output_type": "error",
     "traceback": [
      "\u001b[0;31m---------------------------------------------------------------------------\u001b[0m",
      "\u001b[0;31mNameError\u001b[0m                                 Traceback (most recent call last)",
      "\u001b[0;32m<ipython-input-35-0773770b9cfa>\u001b[0m in \u001b[0;36m<module>\u001b[0;34m()\u001b[0m\n\u001b[0;32m----> 1\u001b[0;31m \u001b[0mprint\u001b[0m\u001b[0;34m(\u001b[0m\u001b[0;34m\"Wald run time: \"\u001b[0m\u001b[0;34m+\u001b[0m\u001b[0mstr\u001b[0m\u001b[0;34m(\u001b[0m\u001b[0mt_wald\u001b[0m\u001b[0;34m)\u001b[0m\u001b[0;34m)\u001b[0m\u001b[0;34m\u001b[0m\u001b[0m\n\u001b[0m\u001b[1;32m      2\u001b[0m \u001b[0mprint\u001b[0m\u001b[0;34m(\u001b[0m\u001b[0;34m\"LRT run time: \"\u001b[0m\u001b[0;34m+\u001b[0m\u001b[0mstr\u001b[0m\u001b[0;34m(\u001b[0m\u001b[0mt_lrt\u001b[0m\u001b[0;34m)\u001b[0m\u001b[0;34m)\u001b[0m\u001b[0;34m\u001b[0m\u001b[0m\n",
      "\u001b[0;31mNameError\u001b[0m: name 't_wald' is not defined"
     ]
    }
   ],
   "source": [
    "print(\"Wald test run time: \"+str(t_wald))\n",
    "print(\"LRT run time: \"+str(t_lrt))\n",
    "print(\"LRT to Wald test run time: \"+str(t_lrt/t_wald))"
   ]
  },
  {
   "cell_type": "markdown",
   "metadata": {},
   "source": [
    "## Dispersion models"
   ]
  },
  {
   "cell_type": "markdown",
   "metadata": {},
   "source": [
    "log_10 p-value scatter plot between Wald test with full dispersion model and only intercept:"
   ]
  },
  {
   "cell_type": "code",
   "execution_count": null,
   "metadata": {},
   "outputs": [],
   "source": [
    "sns.scatterplot(x=np.log(det_wald.pval)/np.log(10), \n",
    "                y=np.log(det_walddm1.pval)/np.log(10))"
   ]
  },
  {
   "cell_type": "markdown",
   "metadata": {},
   "source": [
    "log_10 p-value scatter plot between Wald test with full dispersion model and MME model:"
   ]
  },
  {
   "cell_type": "code",
   "execution_count": null,
   "metadata": {},
   "outputs": [],
   "source": [
    "sns.scatterplot(x=np.log(det_wald.pval)/np.log(10), \n",
    "                y=np.log(det_walddm0.pval)/np.log(10))"
   ]
  },
  {
   "cell_type": "markdown",
   "metadata": {},
   "source": [
    "Run times:"
   ]
  },
  {
   "cell_type": "code",
   "execution_count": null,
   "metadata": {},
   "outputs": [],
   "source": [
    "print(\"Wald test full dispersion model run time: \"+str(t_wald))\n",
    "print(\"Wald test intercept-only dispersion model run time: \"+str(t_walddm1))\n",
    "print(\"Wald test MME dispersion model run time: \"+str(t_walddm0))\n",
    "print(\"MME dispersion model to full dispersion model Wald test run time: \"+str(t_walddm0/t_wald))\n",
    "print(\"Intercept-only dispersion model to full dispersion model Wald test run time: \"+str(t_walddm1/t_wald))"
   ]
  },
  {
   "cell_type": "markdown",
   "metadata": {},
   "source": [
    "## Constraints"
   ]
  },
  {
   "cell_type": "markdown",
   "metadata": {},
   "source": [
    "log_10 p-value scatter plot between Wald test pvalues of both replicate models:"
   ]
  },
  {
   "cell_type": "code",
   "execution_count": null,
   "metadata": {},
   "outputs": [],
   "source": [
    "sns.scatterplot(x=np.log(det_waldra.pval)/np.log(10), \n",
    "                y=np.log(det_waldrb.pval)/np.log(10))"
   ]
  },
  {
   "cell_type": "markdown",
   "metadata": {},
   "source": [
    "Run times:"
   ]
  },
  {
   "cell_type": "code",
   "execution_count": null,
   "metadata": {},
   "outputs": [],
   "source": [
    "print(\"Wald test no replicate model run time: \"+str(t_wald))\n",
    "print(\"Wald test replicate model A run time: \"+str(t_waldra))\n",
    "print(\"Wald test replicate model B run time: \"+str(t_waldrb))\n",
    "print(\"Constrained wald test run time: \"+str(t_waldc))\n",
    "print(\"Standard replicate model to constrained Wald test run time: \"+str(t_waldra/t_waldc))"
   ]
  },
  {
   "cell_type": "markdown",
   "metadata": {},
   "source": [
    "## Pairwise tests"
   ]
  },
  {
   "cell_type": "markdown",
   "metadata": {},
   "source": [
    "### by condition"
   ]
  },
  {
   "cell_type": "markdown",
   "metadata": {},
   "source": [
    "log_10 p-value scatter plot between Wald test on a single pair and the corresponding p-values from the pair-wise comparison:"
   ]
  },
  {
   "cell_type": "code",
   "execution_count": null,
   "metadata": {},
   "outputs": [],
   "source": [
    "sns.scatterplot(x=np.log(det_wald.pval)/np.log(10), \n",
    "                y=np.log(t_waldpwc.summary(group1=\"PBS\", group2=\"NMU\")['pvalues'])/np.log(10))"
   ]
  },
  {
   "cell_type": "code",
   "execution_count": null,
   "metadata": {},
   "outputs": [],
   "source": [
    "print(\"Wald test run time for one pair: \"+str(t_wald))\n",
    "print(\"Pairwise tests across 4 treatments run time: \"+str(t_waldpwc))"
   ]
  },
  {
   "cell_type": "markdown",
   "metadata": {},
   "source": [
    "### by louvain group"
   ]
  },
  {
   "cell_type": "code",
   "execution_count": null,
   "metadata": {},
   "outputs": [],
   "source": [
    "print(\"Pairwise tests across 4 treatments run time: \"+str(t_waldpwc))\n",
    "print(\"Pairwise tests across all louvain groups run time: \"+str(t_waldpwcl))"
   ]
  }
 ],
 "metadata": {
  "kernelspec": {
   "display_name": "Python 3",
   "language": "python",
   "name": "python3"
  },
  "language_info": {
   "codemirror_mode": {
    "name": "ipython",
    "version": 3
   },
   "file_extension": ".py",
   "mimetype": "text/x-python",
   "name": "python",
   "nbconvert_exporter": "python",
   "pygments_lexer": "ipython3",
   "version": "3.6.5"
  },
  "toc": {
   "base_numbering": 1,
   "nav_menu": {},
   "number_sections": false,
   "sideBar": false,
   "skip_h1_title": false,
   "title_cell": "Table of Contents",
   "title_sidebar": "Contents",
   "toc_cell": false,
   "toc_position": {},
   "toc_section_display": false,
   "toc_window_display": false
  }
 },
 "nbformat": 4,
 "nbformat_minor": 2
}
