{
 "cells": [
  {
   "cell_type": "markdown",
   "metadata": {},
   "source": [
    "# Load packages and set global variables"
   ]
  },
  {
   "cell_type": "code",
   "execution_count": 1,
   "metadata": {
    "scrolled": false
   },
   "outputs": [
    {
     "name": "stderr",
     "output_type": "stream",
     "text": [
      "/Users/david.fischer/miniconda3/lib/python3.6/importlib/_bootstrap.py:219: RuntimeWarning: compiletime version 3.5 of module 'tensorflow.python.framework.fast_tensor_util' does not match runtime version 3.6\n",
      "  return f(*args, **kwds)\n"
     ]
    },
    {
     "name": "stdout",
     "output_type": "stream",
     "text": [
      "scanpy==1.3.1 anndata==0.6.10 numpy==1.14.5 scipy==1.1.0 pandas==0.23.4 scikit-learn==0.19.2 statsmodels==0.9.0 python-igraph==0.7.1 louvain==0.6.1 \n",
      "3.6.5 |Anaconda, Inc.| (default, Apr 26 2018, 08:42:37) \n",
      "[GCC 4.2.1 Compatible Clang 4.0.1 (tags/RELEASE_401/final)]\n"
     ]
    },
    {
     "name": "stderr",
     "output_type": "stream",
     "text": [
      "/Users/david.fischer/miniconda3/lib/python3.6/site-packages/igraph/configuration.py:288: DeprecationWarning: The SafeConfigParser class has been renamed to ConfigParser in Python 3.2. This alias will be removed in future versions. Use ConfigParser directly instead.\n",
      "  self._config = SafeConfigParser()\n",
      "/Users/david.fischer/miniconda3/lib/python3.6/site-packages/igraph/configuration.py:288: DeprecationWarning: The SafeConfigParser class has been renamed to ConfigParser in Python 3.2. This alias will be removed in future versions. Use ConfigParser directly instead.\n",
      "  self._config = SafeConfigParser()\n"
     ]
    }
   ],
   "source": [
    "import numpy as np\n",
    "import pandas\n",
    "import time\n",
    "import seaborn as sns\n",
    "import sys\n",
    "import scanpy.api as sc\n",
    "import diffxpy.api as de\n",
    "\n",
    "sc.settings.verbosity = 3 # amount of output\n",
    "sc.logging.print_versions()\n",
    "sc.settings.set_figure_params(dpi=80, scanpy=True)\n",
    "print(sys.version)"
   ]
  },
  {
   "cell_type": "markdown",
   "metadata": {},
   "source": [
    "## Set R environment"
   ]
  },
  {
   "cell_type": "code",
   "execution_count": 49,
   "metadata": {
    "scrolled": true
   },
   "outputs": [
    {
     "name": "stdout",
     "output_type": "stream",
     "text": [
      "The rpy2.ipython extension is already loaded. To reload it, use:\n",
      "  %reload_ext rpy2.ipython\n",
      "2.9.1\n"
     ]
    }
   ],
   "source": [
    "import rpy2\n",
    "import warnings\n",
    "from rpy2.robjects.packages import importr\n",
    "from rpy2.rinterface import RRuntimeWarning\n",
    "from rpy2.robjects import pandas2ri\n",
    "\n",
    "%load_ext rpy2.ipython\n",
    "print(rpy2.__version__)\n",
    "\n",
    "# ignore R warning messages\n",
    "warnings.filterwarnings(\"ignore\", category=RRuntimeWarning)\n",
    "\n",
    "# Automatically convert rpy2 outputs to pandas dataframes\n",
    "pandas2ri.activate()"
   ]
  },
  {
   "cell_type": "markdown",
   "metadata": {},
   "source": [
    "Install limma if not already installed:"
   ]
  },
  {
   "cell_type": "code",
   "execution_count": 53,
   "metadata": {
    "scrolled": false
   },
   "outputs": [
    {
     "name": "stdout",
     "output_type": "stream",
     "text": [
      "a\n"
     ]
    },
    {
     "data": {
      "text/html": [
       "\n",
       "    <span>StrVector with 1 elements.</span>\n",
       "    <table>\n",
       "      <tbody>\n",
       "      <tr>\n",
       "      \n",
       "      <td>\n",
       "        'limma'\n",
       "      </td>\n",
       "      \n",
       "      </tr>\n",
       "      </tbody>\n",
       "    </table>\n",
       "    "
      ],
      "text/plain": [
       "R object with classes: ('character',) mapped to:\n",
       "<StrVector - Python:0x1c2ef024c8 / R:0x7fc0d0557cf0>\n",
       "['limma']"
      ]
     },
     "execution_count": 53,
     "metadata": {},
     "output_type": "execute_result"
    }
   ],
   "source": [
    "if False:\n",
    "    from rpy2.robjects.packages import importr\n",
    "    base = importr('base')\n",
    "    base.source(\"http://www.bioconductor.org/biocLite.R\")\n",
    "    biocinstaller = importr(\"BiocInstaller\")\n",
    "    biocinstaller.biocLite(\"limma\")\n",
    "    # a prompt opens, this corresponds to \"Update all/some/none? [a/s/n]:\""
   ]
  },
  {
   "cell_type": "markdown",
   "metadata": {},
   "source": [
    "Install MAST if not already installed:"
   ]
  },
  {
   "cell_type": "code",
   "execution_count": null,
   "metadata": {
    "scrolled": false
   },
   "outputs": [],
   "source": [
    "if False:\n",
    "    from rpy2.robjects.packages import importr\n",
    "    base = importr('base')\n",
    "    base.source(\"http://www.bioconductor.org/biocLite.R\")\n",
    "    biocinstaller = importr(\"BiocInstaller\")\n",
    "    biocinstaller.biocLite(\"MAST\")\n",
    "    # a prompt opens, this corresponds to \"Update all/some/none? [a/s/n]:\""
   ]
  },
  {
   "cell_type": "markdown",
   "metadata": {},
   "source": [
    "## Set global variables"
   ]
  },
  {
   "cell_type": "markdown",
   "metadata": {},
   "source": [
    "Set platform this notebook is executed on:"
   ]
  },
  {
   "cell_type": "code",
   "execution_count": 2,
   "metadata": {},
   "outputs": [],
   "source": [
    "platform = ['int_server', 'laptop'][1]"
   ]
  },
  {
   "cell_type": "markdown",
   "metadata": {},
   "source": [
    "Set directory in which .h5 files are:"
   ]
  },
  {
   "cell_type": "code",
   "execution_count": 3,
   "metadata": {},
   "outputs": [],
   "source": [
    "if platform=='int_server':\n",
    "    dir_in = '/storage/groups/ml01/workspace/david.fischer/diffxpy/datasets/ilc/GSE102299_RAW/'\n",
    "    dir_out = '/storage/groups/ml01/workspace/david.fischer/diffxpy/scanpy_out/ilc/'\n",
    "    sc.settings.figdir = '/storage/groups/ml01/workspace/david.fischer/diffxpy/figures/ilc'\n",
    "elif platform=='laptop':\n",
    "    dir_in = None\n",
    "    dir_out = '/Users/david.fischer/phd/data/BatchSGD/adata/ilc/'\n",
    "    sc.settings.figdir = '/Users/david.fischer/phd/data/BatchSGD/figures/raw/ilc'\n",
    "else:\n",
    "    raise ValueError('platform not recognized')"
   ]
  },
  {
   "cell_type": "code",
   "execution_count": 4,
   "metadata": {},
   "outputs": [],
   "source": [
    "bool_recompute = False"
   ]
  },
  {
   "cell_type": "markdown",
   "metadata": {},
   "source": [
    "# Load data"
   ]
  },
  {
   "cell_type": "code",
   "execution_count": 5,
   "metadata": {},
   "outputs": [],
   "source": [
    "mtx_files = [\n",
    "    'GSM2733478_PBS_Rep1.matrix.mtx',\n",
    "    'GSM2733479_PBS_Rep2.matrix.mtx',\n",
    "    'GSM2733480_IL25_Rep1.matrix.mtx',\n",
    "    'GSM2733481_IL25_Rep2.matrix.mtx',\n",
    "    'GSM2733482_IL33_Rep1.matrix.mtx',\n",
    "    'GSM2733483_IL33_Rep2.matrix.mtx',\n",
    "    'GSM2733484_NMU_Rep1.matrix.mtx',\n",
    "    'GSM2733485_NMU_Rep2.matrix.mtx',\n",
    "    'GSM2733486_NMU_IL25_Rep1.matrix.mtx',\n",
    "    'GSM2733487_NMU_IL25_Rep2.matrix.mtx',\n",
    "    'GSM2733488_WT_PBS_Rep1.matrix.mtx',\n",
    "    'GSM2733489_WT_PBS_Rep2.matrix.mtx',\n",
    "    'GSM2733490_WT_HDM_Rep1.matrix.mtx',\n",
    "    'GSM2733491_WT_HDM_Rep2.matrix.mtx',\n",
    "    'GSM2733492_KO_Nmur1_PBS_Rep1.matrix.mtx',\n",
    "    'GSM2733493_KO_Nmur1_PBS_Rep2.matrix.mtx',\n",
    "    'GSM2733494_KO_Nmur1_HDM_Rep1.matrix.mtx',\n",
    "    'GSM2733495_KO_Nmur1_HDM_Rep2.matrix.mtx'\n",
    "    ]"
   ]
  },
  {
   "cell_type": "code",
   "execution_count": 6,
   "metadata": {},
   "outputs": [],
   "source": [
    "bc_files = [\n",
    "    'GSM2733478_PBS_Rep1.barcodes.tsv',\n",
    "    'GSM2733479_PBS_Rep2.barcodes.tsv',\n",
    "    'GSM2733480_IL25_Rep1.barcodes.tsv',\n",
    "    'GSM2733481_IL25_Rep2.barcodes.tsv',\n",
    "    'GSM2733482_IL33_Rep1.barcodes.tsv',\n",
    "    'GSM2733483_IL33_Rep2.barcodes.tsv',\n",
    "    'GSM2733484_NMU_Rep1.barcodes.tsv',\n",
    "    'GSM2733485_NMU_Rep2.barcodes.tsv',\n",
    "    'GSM2733486_NMU_IL25_Rep1.barcodes.tsv',\n",
    "    'GSM2733487_NMU_IL25_Rep2.barcodes.tsv',\n",
    "    'GSM2733488_WT_PBS_Rep1.barcodes.tsv',\n",
    "    'GSM2733489_WT_PBS_Rep2.barcodes.tsv',\n",
    "    'GSM2733490_WT_HDM_Rep1.barcodes.tsv',\n",
    "    'GSM2733491_WT_HDM_Rep2.barcodes.tsv',\n",
    "    'GSM2733492_KO_Nmur1_PBS_Rep1.barcodes.tsv',\n",
    "    'GSM2733493_KO_Nmur1_PBS_Rep2.barcodes.tsv',\n",
    "    'GSM2733494_KO_Nmur1_HDM_Rep1.barcodes.tsv',\n",
    "    'GSM2733495_KO_Nmur1_HDM_Rep2.barcodes.tsv'\n",
    "    ]"
   ]
  },
  {
   "cell_type": "code",
   "execution_count": 7,
   "metadata": {
    "scrolled": true
   },
   "outputs": [],
   "source": [
    "sample_ids = ['_'.join(x.split('.')[0].split('_')[1:]) for x in mtx_files]"
   ]
  },
  {
   "cell_type": "code",
   "execution_count": 8,
   "metadata": {},
   "outputs": [],
   "source": [
    "if bool_recompute==True:\n",
    "    adatas = []\n",
    "    for i,fn in enumerate(mtx_files):\n",
    "        adatas.append(sc.read_mtx(dir_in+fn).transpose())\n",
    "        adatas[i].obs_names = np.genfromtxt(fname=dir_in+bc_files[i], dtype=str)\n",
    "    adata = adatas[0].concatenate(\n",
    "        adatas[1:], \n",
    "        join='outer', \n",
    "        batch_key='sample', \n",
    "        batch_categories=sample_ids, \n",
    "        index_unique='_'\n",
    "    )\n",
    "    adata.obs['n_counts'] = np.sum(adata.X, axis=1)\n",
    "    adata.obs['treatment'] = [x.split('_Rep')[0] for x in adata.obs['sample'].values]\n",
    "    adata.obs['study'] = ['stimulation' if x.split('_')[0] not in ['WT', 'KO'] else 'genotype' \n",
    "                          for x in adata.obs['sample'].values]\n",
    "    adata_stim = adata[np.where(adata.obs['study'].values=='stimulation')[0],:].copy()\n",
    "    adata_geno = adata[np.where(adata.obs['study'].values=='genotype')[0],:].copy()\n",
    "    del(adata)"
   ]
  },
  {
   "cell_type": "markdown",
   "metadata": {},
   "source": [
    "Show distribution of counts over cells:"
   ]
  },
  {
   "cell_type": "code",
   "execution_count": 9,
   "metadata": {},
   "outputs": [],
   "source": [
    "if bool_recompute==True:\n",
    "    sns.distplot(np.log(adata_stim.obs['n_counts'].values)/np.log(10), kde=False)"
   ]
  },
  {
   "cell_type": "code",
   "execution_count": 10,
   "metadata": {},
   "outputs": [],
   "source": [
    "if bool_recompute==True:\n",
    "    sns.distplot(np.log(adata_geno.obs['n_counts'].values)/np.log(10), kde=False)"
   ]
  },
  {
   "cell_type": "markdown",
   "metadata": {},
   "source": [
    "# Process data"
   ]
  },
  {
   "cell_type": "markdown",
   "metadata": {},
   "source": [
    "## Stimulation study"
   ]
  },
  {
   "cell_type": "code",
   "execution_count": 11,
   "metadata": {},
   "outputs": [],
   "source": [
    "if bool_recompute==True:\n",
    "    print(str(adata_stim.X.shape[0])+\" cells before filtering.\")\n",
    "    sc.pp.filter_cells(adata_stim, min_counts=500)\n",
    "    print(str(adata_stim.X.shape[0])+\" cells after filtering.\")\n",
    "    sc.pp.filter_genes(adata_stim, min_counts=1000)\n",
    "    sc.pp.normalize_per_cell(adata_stim)\n",
    "    sc.pp.pca(adata_stim, zero_center=False, svd_solver='arpack')\n",
    "    sc.pp.neighbors(adata_stim, n_neighbors=500)\n",
    "    sc.tl.umap(adata_stim)\n",
    "    sc.tl.tsne(adata_stim)\n",
    "    sc.tl.louvain(adata_stim)\n",
    "    sc.write(adata=adata_stim, filename=dir_out+\"adata_stim_ilc.h5ad\")\n",
    "else:\n",
    "    adata_stim = sc.read(dir_out+\"adata_stim_ilc.h5ad\")"
   ]
  },
  {
   "cell_type": "code",
   "execution_count": 12,
   "metadata": {},
   "outputs": [
    {
     "name": "stdout",
     "output_type": "stream",
     "text": [
      "saving figure to file /Users/david.fischer/phd/data/BatchSGD/figures/raw/ilc/umap_stim_treatment.pdf\n"
     ]
    },
    {
     "ename": "KeyboardInterrupt",
     "evalue": "",
     "output_type": "error",
     "traceback": [
      "\u001b[0;31m---------------------------------------------------------------------------\u001b[0m",
      "\u001b[0;31mKeyboardInterrupt\u001b[0m                         Traceback (most recent call last)",
      "\u001b[0;32m<ipython-input-12-d064160f3d87>\u001b[0m in \u001b[0;36m<module>\u001b[0;34m()\u001b[0m\n\u001b[0;32m----> 1\u001b[0;31m \u001b[0msc\u001b[0m\u001b[0;34m.\u001b[0m\u001b[0mpl\u001b[0m\u001b[0;34m.\u001b[0m\u001b[0mumap\u001b[0m\u001b[0;34m(\u001b[0m\u001b[0madata_stim\u001b[0m\u001b[0;34m,\u001b[0m \u001b[0mcolor\u001b[0m\u001b[0;34m=\u001b[0m\u001b[0;34m[\u001b[0m\u001b[0;34m'treatment'\u001b[0m\u001b[0;34m]\u001b[0m\u001b[0;34m,\u001b[0m \u001b[0msave\u001b[0m\u001b[0;34m=\u001b[0m\u001b[0;34m'_stim_treatment.pdf'\u001b[0m\u001b[0;34m)\u001b[0m\u001b[0;34m\u001b[0m\u001b[0m\n\u001b[0m\u001b[1;32m      2\u001b[0m \u001b[0msc\u001b[0m\u001b[0;34m.\u001b[0m\u001b[0mpl\u001b[0m\u001b[0;34m.\u001b[0m\u001b[0mumap\u001b[0m\u001b[0;34m(\u001b[0m\u001b[0madata_stim\u001b[0m\u001b[0;34m,\u001b[0m \u001b[0mcolor\u001b[0m\u001b[0;34m=\u001b[0m\u001b[0;34m[\u001b[0m\u001b[0;34m'sample'\u001b[0m\u001b[0;34m]\u001b[0m\u001b[0;34m,\u001b[0m \u001b[0msave\u001b[0m\u001b[0;34m=\u001b[0m\u001b[0;34m'_stim_sample.pdf'\u001b[0m\u001b[0;34m)\u001b[0m\u001b[0;34m\u001b[0m\u001b[0m\n\u001b[1;32m      3\u001b[0m \u001b[0msc\u001b[0m\u001b[0;34m.\u001b[0m\u001b[0mpl\u001b[0m\u001b[0;34m.\u001b[0m\u001b[0mumap\u001b[0m\u001b[0;34m(\u001b[0m\u001b[0madata_stim\u001b[0m\u001b[0;34m,\u001b[0m \u001b[0mcolor\u001b[0m\u001b[0;34m=\u001b[0m\u001b[0;34m[\u001b[0m\u001b[0;34m'louvain'\u001b[0m\u001b[0;34m]\u001b[0m\u001b[0;34m,\u001b[0m \u001b[0msave\u001b[0m\u001b[0;34m=\u001b[0m\u001b[0;34m'_stim_louvain.pdf'\u001b[0m\u001b[0;34m)\u001b[0m\u001b[0;34m\u001b[0m\u001b[0m\n\u001b[1;32m      4\u001b[0m \u001b[0msc\u001b[0m\u001b[0;34m.\u001b[0m\u001b[0mpl\u001b[0m\u001b[0;34m.\u001b[0m\u001b[0mumap\u001b[0m\u001b[0;34m(\u001b[0m\u001b[0madata_stim\u001b[0m\u001b[0;34m,\u001b[0m \u001b[0mcolor\u001b[0m\u001b[0;34m=\u001b[0m\u001b[0;34m[\u001b[0m\u001b[0;34m'n_counts'\u001b[0m\u001b[0;34m]\u001b[0m\u001b[0;34m,\u001b[0m \u001b[0msave\u001b[0m\u001b[0;34m=\u001b[0m\u001b[0;34m'_stim_n_counts.pdf'\u001b[0m\u001b[0;34m)\u001b[0m\u001b[0;34m\u001b[0m\u001b[0m\n",
      "\u001b[0;32m~/miniconda3/lib/python3.6/site-packages/scanpy/plotting/tools/embedding.py\u001b[0m in \u001b[0;36mumap\u001b[0;34m(adata, color, use_raw, edges, edges_width, edges_color, arrows, arrows_kwds, sort_order, alpha, groups, components, projection, legend_loc, legend_fontsize, legend_fontweight, color_map, palette, frameon, right_margin, size, title, show, save, ax)\u001b[0m\n\u001b[1;32m    294\u001b[0m     \u001b[0;32mif\u001b[0m \u001b[0medges\u001b[0m\u001b[0;34m:\u001b[0m \u001b[0mutils\u001b[0m\u001b[0;34m.\u001b[0m\u001b[0mplot_edges\u001b[0m\u001b[0;34m(\u001b[0m\u001b[0maxs\u001b[0m\u001b[0;34m,\u001b[0m \u001b[0madata\u001b[0m\u001b[0;34m,\u001b[0m \u001b[0mbasis\u001b[0m\u001b[0;34m,\u001b[0m \u001b[0medges_width\u001b[0m\u001b[0;34m,\u001b[0m \u001b[0medges_color\u001b[0m\u001b[0;34m)\u001b[0m\u001b[0;34m\u001b[0m\u001b[0m\n\u001b[1;32m    295\u001b[0m     \u001b[0;32mif\u001b[0m \u001b[0marrows\u001b[0m\u001b[0;34m:\u001b[0m \u001b[0mutils\u001b[0m\u001b[0;34m.\u001b[0m\u001b[0mplot_arrows\u001b[0m\u001b[0;34m(\u001b[0m\u001b[0maxs\u001b[0m\u001b[0;34m,\u001b[0m \u001b[0madata\u001b[0m\u001b[0;34m,\u001b[0m \u001b[0mbasis\u001b[0m\u001b[0;34m,\u001b[0m \u001b[0marrows_kwds\u001b[0m\u001b[0;34m)\u001b[0m\u001b[0;34m\u001b[0m\u001b[0m\n\u001b[0;32m--> 296\u001b[0;31m     \u001b[0mutils\u001b[0m\u001b[0;34m.\u001b[0m\u001b[0msavefig_or_show\u001b[0m\u001b[0;34m(\u001b[0m\u001b[0mbasis\u001b[0m\u001b[0;34m,\u001b[0m \u001b[0mshow\u001b[0m\u001b[0;34m=\u001b[0m\u001b[0mshow\u001b[0m\u001b[0;34m,\u001b[0m \u001b[0msave\u001b[0m\u001b[0;34m=\u001b[0m\u001b[0msave\u001b[0m\u001b[0;34m)\u001b[0m\u001b[0;34m\u001b[0m\u001b[0m\n\u001b[0m\u001b[1;32m    297\u001b[0m     \u001b[0;32mif\u001b[0m \u001b[0mshow\u001b[0m \u001b[0;34m==\u001b[0m \u001b[0;32mFalse\u001b[0m\u001b[0;34m:\u001b[0m \u001b[0;32mreturn\u001b[0m \u001b[0maxs\u001b[0m\u001b[0;34m\u001b[0m\u001b[0m\n\u001b[1;32m    298\u001b[0m \u001b[0;34m\u001b[0m\u001b[0m\n",
      "\u001b[0;32m~/miniconda3/lib/python3.6/site-packages/scanpy/plotting/utils.py\u001b[0m in \u001b[0;36msavefig_or_show\u001b[0;34m(writekey, show, dpi, ext, save)\u001b[0m\n\u001b[1;32m    233\u001b[0m     \u001b[0msave\u001b[0m \u001b[0;34m=\u001b[0m \u001b[0msettings\u001b[0m\u001b[0;34m.\u001b[0m\u001b[0mautosave\u001b[0m \u001b[0;32mif\u001b[0m \u001b[0msave\u001b[0m \u001b[0;32mis\u001b[0m \u001b[0;32mNone\u001b[0m \u001b[0;32melse\u001b[0m \u001b[0msave\u001b[0m\u001b[0;34m\u001b[0m\u001b[0m\n\u001b[1;32m    234\u001b[0m     \u001b[0mshow\u001b[0m \u001b[0;34m=\u001b[0m \u001b[0msettings\u001b[0m\u001b[0;34m.\u001b[0m\u001b[0mautoshow\u001b[0m \u001b[0;32mif\u001b[0m \u001b[0mshow\u001b[0m \u001b[0;32mis\u001b[0m \u001b[0;32mNone\u001b[0m \u001b[0;32melse\u001b[0m \u001b[0mshow\u001b[0m\u001b[0;34m\u001b[0m\u001b[0m\n\u001b[0;32m--> 235\u001b[0;31m     \u001b[0;32mif\u001b[0m \u001b[0msave\u001b[0m\u001b[0;34m:\u001b[0m \u001b[0msavefig\u001b[0m\u001b[0;34m(\u001b[0m\u001b[0mwritekey\u001b[0m\u001b[0;34m,\u001b[0m \u001b[0mdpi\u001b[0m\u001b[0;34m=\u001b[0m\u001b[0mdpi\u001b[0m\u001b[0;34m,\u001b[0m \u001b[0mext\u001b[0m\u001b[0;34m=\u001b[0m\u001b[0mext\u001b[0m\u001b[0;34m)\u001b[0m\u001b[0;34m\u001b[0m\u001b[0m\n\u001b[0m\u001b[1;32m    236\u001b[0m     \u001b[0;32mif\u001b[0m \u001b[0mshow\u001b[0m\u001b[0;34m:\u001b[0m \u001b[0mpl\u001b[0m\u001b[0;34m.\u001b[0m\u001b[0mshow\u001b[0m\u001b[0;34m(\u001b[0m\u001b[0;34m)\u001b[0m\u001b[0;34m\u001b[0m\u001b[0m\n\u001b[1;32m    237\u001b[0m     \u001b[0;32mif\u001b[0m \u001b[0msave\u001b[0m\u001b[0;34m:\u001b[0m \u001b[0mpl\u001b[0m\u001b[0;34m.\u001b[0m\u001b[0mclose\u001b[0m\u001b[0;34m(\u001b[0m\u001b[0;34m)\u001b[0m  \u001b[0;31m# clear figure\u001b[0m\u001b[0;34m\u001b[0m\u001b[0m\n",
      "\u001b[0;32m~/miniconda3/lib/python3.6/site-packages/scanpy/plotting/utils.py\u001b[0m in \u001b[0;36msavefig\u001b[0;34m(writekey, dpi, ext)\u001b[0m\n\u001b[1;32m    216\u001b[0m     \u001b[0;31m# output the following msg at warning level; it's really important for the user\u001b[0m\u001b[0;34m\u001b[0m\u001b[0;34m\u001b[0m\u001b[0m\n\u001b[1;32m    217\u001b[0m     \u001b[0mlogg\u001b[0m\u001b[0;34m.\u001b[0m\u001b[0mmsg\u001b[0m\u001b[0;34m(\u001b[0m\u001b[0;34m'saving figure to file'\u001b[0m\u001b[0;34m,\u001b[0m \u001b[0mfilename\u001b[0m\u001b[0;34m,\u001b[0m \u001b[0mv\u001b[0m\u001b[0;34m=\u001b[0m\u001b[0;36m1\u001b[0m\u001b[0;34m)\u001b[0m\u001b[0;34m\u001b[0m\u001b[0m\n\u001b[0;32m--> 218\u001b[0;31m     \u001b[0mpl\u001b[0m\u001b[0;34m.\u001b[0m\u001b[0msavefig\u001b[0m\u001b[0;34m(\u001b[0m\u001b[0mfilename\u001b[0m\u001b[0;34m,\u001b[0m \u001b[0mdpi\u001b[0m\u001b[0;34m=\u001b[0m\u001b[0mdpi\u001b[0m\u001b[0;34m,\u001b[0m \u001b[0mbbox_inches\u001b[0m\u001b[0;34m=\u001b[0m\u001b[0;34m'tight'\u001b[0m\u001b[0;34m)\u001b[0m\u001b[0;34m\u001b[0m\u001b[0m\n\u001b[0m\u001b[1;32m    219\u001b[0m \u001b[0;34m\u001b[0m\u001b[0m\n\u001b[1;32m    220\u001b[0m \u001b[0;34m\u001b[0m\u001b[0m\n",
      "\u001b[0;32m~/miniconda3/lib/python3.6/site-packages/matplotlib/pyplot.py\u001b[0m in \u001b[0;36msavefig\u001b[0;34m(*args, **kwargs)\u001b[0m\n\u001b[1;32m    708\u001b[0m \u001b[0;32mdef\u001b[0m \u001b[0msavefig\u001b[0m\u001b[0;34m(\u001b[0m\u001b[0;34m*\u001b[0m\u001b[0margs\u001b[0m\u001b[0;34m,\u001b[0m \u001b[0;34m**\u001b[0m\u001b[0mkwargs\u001b[0m\u001b[0;34m)\u001b[0m\u001b[0;34m:\u001b[0m\u001b[0;34m\u001b[0m\u001b[0m\n\u001b[1;32m    709\u001b[0m     \u001b[0mfig\u001b[0m \u001b[0;34m=\u001b[0m \u001b[0mgcf\u001b[0m\u001b[0;34m(\u001b[0m\u001b[0;34m)\u001b[0m\u001b[0;34m\u001b[0m\u001b[0m\n\u001b[0;32m--> 710\u001b[0;31m     \u001b[0mres\u001b[0m \u001b[0;34m=\u001b[0m \u001b[0mfig\u001b[0m\u001b[0;34m.\u001b[0m\u001b[0msavefig\u001b[0m\u001b[0;34m(\u001b[0m\u001b[0;34m*\u001b[0m\u001b[0margs\u001b[0m\u001b[0;34m,\u001b[0m \u001b[0;34m**\u001b[0m\u001b[0mkwargs\u001b[0m\u001b[0;34m)\u001b[0m\u001b[0;34m\u001b[0m\u001b[0m\n\u001b[0m\u001b[1;32m    711\u001b[0m     \u001b[0mfig\u001b[0m\u001b[0;34m.\u001b[0m\u001b[0mcanvas\u001b[0m\u001b[0;34m.\u001b[0m\u001b[0mdraw_idle\u001b[0m\u001b[0;34m(\u001b[0m\u001b[0;34m)\u001b[0m   \u001b[0;31m# need this if 'transparent=True' to reset colors\u001b[0m\u001b[0;34m\u001b[0m\u001b[0m\n\u001b[1;32m    712\u001b[0m     \u001b[0;32mreturn\u001b[0m \u001b[0mres\u001b[0m\u001b[0;34m\u001b[0m\u001b[0m\n",
      "\u001b[0;32m~/miniconda3/lib/python3.6/site-packages/matplotlib/figure.py\u001b[0m in \u001b[0;36msavefig\u001b[0;34m(self, fname, **kwargs)\u001b[0m\n\u001b[1;32m   2033\u001b[0m             \u001b[0mself\u001b[0m\u001b[0;34m.\u001b[0m\u001b[0mset_frameon\u001b[0m\u001b[0;34m(\u001b[0m\u001b[0mframeon\u001b[0m\u001b[0;34m)\u001b[0m\u001b[0;34m\u001b[0m\u001b[0m\n\u001b[1;32m   2034\u001b[0m \u001b[0;34m\u001b[0m\u001b[0m\n\u001b[0;32m-> 2035\u001b[0;31m         \u001b[0mself\u001b[0m\u001b[0;34m.\u001b[0m\u001b[0mcanvas\u001b[0m\u001b[0;34m.\u001b[0m\u001b[0mprint_figure\u001b[0m\u001b[0;34m(\u001b[0m\u001b[0mfname\u001b[0m\u001b[0;34m,\u001b[0m \u001b[0;34m**\u001b[0m\u001b[0mkwargs\u001b[0m\u001b[0;34m)\u001b[0m\u001b[0;34m\u001b[0m\u001b[0m\n\u001b[0m\u001b[1;32m   2036\u001b[0m \u001b[0;34m\u001b[0m\u001b[0m\n\u001b[1;32m   2037\u001b[0m         \u001b[0;32mif\u001b[0m \u001b[0mframeon\u001b[0m\u001b[0;34m:\u001b[0m\u001b[0;34m\u001b[0m\u001b[0m\n",
      "\u001b[0;32m~/miniconda3/lib/python3.6/site-packages/matplotlib/backend_bases.py\u001b[0m in \u001b[0;36mprint_figure\u001b[0;34m(self, filename, dpi, facecolor, edgecolor, orientation, format, **kwargs)\u001b[0m\n\u001b[1;32m   2220\u001b[0m                 \u001b[0mbbox_filtered\u001b[0m \u001b[0;34m=\u001b[0m \u001b[0;34m[\u001b[0m\u001b[0;34m]\u001b[0m\u001b[0;34m\u001b[0m\u001b[0m\n\u001b[1;32m   2221\u001b[0m                 \u001b[0;32mfor\u001b[0m \u001b[0ma\u001b[0m \u001b[0;32min\u001b[0m \u001b[0mbbox_artists\u001b[0m\u001b[0;34m:\u001b[0m\u001b[0;34m\u001b[0m\u001b[0m\n\u001b[0;32m-> 2222\u001b[0;31m                     \u001b[0mbbox\u001b[0m \u001b[0;34m=\u001b[0m \u001b[0ma\u001b[0m\u001b[0;34m.\u001b[0m\u001b[0mget_window_extent\u001b[0m\u001b[0;34m(\u001b[0m\u001b[0mrenderer\u001b[0m\u001b[0;34m)\u001b[0m\u001b[0;34m\u001b[0m\u001b[0m\n\u001b[0m\u001b[1;32m   2223\u001b[0m                     \u001b[0;32mif\u001b[0m \u001b[0ma\u001b[0m\u001b[0;34m.\u001b[0m\u001b[0mget_clip_on\u001b[0m\u001b[0;34m(\u001b[0m\u001b[0;34m)\u001b[0m\u001b[0;34m:\u001b[0m\u001b[0;34m\u001b[0m\u001b[0m\n\u001b[1;32m   2224\u001b[0m                         \u001b[0mclip_box\u001b[0m \u001b[0;34m=\u001b[0m \u001b[0ma\u001b[0m\u001b[0;34m.\u001b[0m\u001b[0mget_clip_box\u001b[0m\u001b[0;34m(\u001b[0m\u001b[0;34m)\u001b[0m\u001b[0;34m\u001b[0m\u001b[0m\n",
      "\u001b[0;32m~/miniconda3/lib/python3.6/site-packages/matplotlib/collections.py\u001b[0m in \u001b[0;36mget_window_extent\u001b[0;34m(self, renderer)\u001b[0m\n\u001b[1;32m    216\u001b[0m         \u001b[0;31m# TODO:check to ensure that this does not fail for\u001b[0m\u001b[0;34m\u001b[0m\u001b[0;34m\u001b[0m\u001b[0m\n\u001b[1;32m    217\u001b[0m         \u001b[0;31m# cases other than scatter plot legend\u001b[0m\u001b[0;34m\u001b[0m\u001b[0;34m\u001b[0m\u001b[0m\n\u001b[0;32m--> 218\u001b[0;31m         \u001b[0;32mreturn\u001b[0m \u001b[0mself\u001b[0m\u001b[0;34m.\u001b[0m\u001b[0mget_datalim\u001b[0m\u001b[0;34m(\u001b[0m\u001b[0mtransforms\u001b[0m\u001b[0;34m.\u001b[0m\u001b[0mIdentityTransform\u001b[0m\u001b[0;34m(\u001b[0m\u001b[0;34m)\u001b[0m\u001b[0;34m)\u001b[0m\u001b[0;34m\u001b[0m\u001b[0m\n\u001b[0m\u001b[1;32m    219\u001b[0m \u001b[0;34m\u001b[0m\u001b[0m\n\u001b[1;32m    220\u001b[0m     \u001b[0;32mdef\u001b[0m \u001b[0m_prepare_points\u001b[0m\u001b[0;34m(\u001b[0m\u001b[0mself\u001b[0m\u001b[0;34m)\u001b[0m\u001b[0;34m:\u001b[0m\u001b[0;34m\u001b[0m\u001b[0m\n",
      "\u001b[0;32m~/miniconda3/lib/python3.6/site-packages/matplotlib/collections.py\u001b[0m in \u001b[0;36mget_datalim\u001b[0;34m(self, transData)\u001b[0m\n\u001b[1;32m    207\u001b[0m             result = mpath.get_path_collection_extents(\n\u001b[1;32m    208\u001b[0m                 \u001b[0mtransform\u001b[0m\u001b[0;34m.\u001b[0m\u001b[0mfrozen\u001b[0m\u001b[0;34m(\u001b[0m\u001b[0;34m)\u001b[0m\u001b[0;34m,\u001b[0m \u001b[0mpaths\u001b[0m\u001b[0;34m,\u001b[0m \u001b[0mself\u001b[0m\u001b[0;34m.\u001b[0m\u001b[0mget_transforms\u001b[0m\u001b[0;34m(\u001b[0m\u001b[0;34m)\u001b[0m\u001b[0;34m,\u001b[0m\u001b[0;34m\u001b[0m\u001b[0m\n\u001b[0;32m--> 209\u001b[0;31m                 offsets, transOffset.frozen())\n\u001b[0m\u001b[1;32m    210\u001b[0m             \u001b[0mresult\u001b[0m \u001b[0;34m=\u001b[0m \u001b[0mresult\u001b[0m\u001b[0;34m.\u001b[0m\u001b[0minverse_transformed\u001b[0m\u001b[0;34m(\u001b[0m\u001b[0mtransData\u001b[0m\u001b[0;34m)\u001b[0m\u001b[0;34m\u001b[0m\u001b[0m\n\u001b[1;32m    211\u001b[0m         \u001b[0;32melse\u001b[0m\u001b[0;34m:\u001b[0m\u001b[0;34m\u001b[0m\u001b[0m\n",
      "\u001b[0;32m~/miniconda3/lib/python3.6/site-packages/matplotlib/path.py\u001b[0m in \u001b[0;36mget_path_collection_extents\u001b[0;34m(master_transform, paths, transforms, offsets, offset_transform)\u001b[0m\n\u001b[1;32m   1007\u001b[0m     return Bbox.from_extents(*_path.get_path_collection_extents(\n\u001b[1;32m   1008\u001b[0m         \u001b[0mmaster_transform\u001b[0m\u001b[0;34m,\u001b[0m \u001b[0mpaths\u001b[0m\u001b[0;34m,\u001b[0m \u001b[0mnp\u001b[0m\u001b[0;34m.\u001b[0m\u001b[0matleast_3d\u001b[0m\u001b[0;34m(\u001b[0m\u001b[0mtransforms\u001b[0m\u001b[0;34m)\u001b[0m\u001b[0;34m,\u001b[0m\u001b[0;34m\u001b[0m\u001b[0m\n\u001b[0;32m-> 1009\u001b[0;31m         offsets, offset_transform))\n\u001b[0m\u001b[1;32m   1010\u001b[0m \u001b[0;34m\u001b[0m\u001b[0m\n\u001b[1;32m   1011\u001b[0m \u001b[0;34m\u001b[0m\u001b[0m\n",
      "\u001b[0;32m~/miniconda3/lib/python3.6/site-packages/matplotlib/path.py\u001b[0m in \u001b[0;36mvertices\u001b[0;34m(self)\u001b[0m\n\u001b[1;32m    206\u001b[0m         \u001b[0mself\u001b[0m\u001b[0;34m.\u001b[0m\u001b[0m_has_nonfinite\u001b[0m \u001b[0;34m=\u001b[0m \u001b[0;32mnot\u001b[0m \u001b[0mnp\u001b[0m\u001b[0;34m.\u001b[0m\u001b[0misfinite\u001b[0m\u001b[0;34m(\u001b[0m\u001b[0mself\u001b[0m\u001b[0;34m.\u001b[0m\u001b[0m_vertices\u001b[0m\u001b[0;34m)\u001b[0m\u001b[0;34m.\u001b[0m\u001b[0mall\u001b[0m\u001b[0;34m(\u001b[0m\u001b[0;34m)\u001b[0m\u001b[0;34m\u001b[0m\u001b[0m\n\u001b[1;32m    207\u001b[0m \u001b[0;34m\u001b[0m\u001b[0m\n\u001b[0;32m--> 208\u001b[0;31m     \u001b[0;34m@\u001b[0m\u001b[0mproperty\u001b[0m\u001b[0;34m\u001b[0m\u001b[0m\n\u001b[0m\u001b[1;32m    209\u001b[0m     \u001b[0;32mdef\u001b[0m \u001b[0mvertices\u001b[0m\u001b[0;34m(\u001b[0m\u001b[0mself\u001b[0m\u001b[0;34m)\u001b[0m\u001b[0;34m:\u001b[0m\u001b[0;34m\u001b[0m\u001b[0m\n\u001b[1;32m    210\u001b[0m         \"\"\"\n",
      "\u001b[0;31mKeyboardInterrupt\u001b[0m: "
     ]
    },
    {
     "data": {
      "image/png": "[encoded data removed]",
      "text/plain": [
       "<Figure size 573.48x288 with 1 Axes>"
      ]
     },
     "metadata": {},
     "output_type": "display_data"
    }
   ],
   "source": [
    "sc.pl.umap(adata_stim, color=['treatment'], save='_stim_treatment.pdf')\n",
    "sc.pl.umap(adata_stim, color=['sample'], save='_stim_sample.pdf')\n",
    "sc.pl.umap(adata_stim, color=['louvain'], save='_stim_louvain.pdf')\n",
    "sc.pl.umap(adata_stim, color=['n_counts'], save='_stim_n_counts.pdf')"
   ]
  },
  {
   "cell_type": "code",
   "execution_count": null,
   "metadata": {},
   "outputs": [],
   "source": [
    "sc.pl.tsne(adata_stim, color=['treatment'], save='_stim_treatment.pdf')\n",
    "sc.pl.tsne(adata_stim, color=['sample'], save='_stim_sample.pdf')\n",
    "sc.pl.tsne(adata_stim, color=['louvain'], save='_stim_louvain.pdf')\n",
    "sc.pl.tsne(adata_stim, color=['n_counts'], save='_stim_n_counts.pdf')"
   ]
  },
  {
   "cell_type": "markdown",
   "metadata": {},
   "source": [
    "## Genotype study"
   ]
  },
  {
   "cell_type": "code",
   "execution_count": 12,
   "metadata": {},
   "outputs": [],
   "source": [
    "if bool_recompute==True:\n",
    "    print(str(adata_geno.X.shape[0])+\" cells before filtering.\")\n",
    "    sc.pp.filter_cells(adata_geno, min_counts=500)\n",
    "    print(str(adata_geno.X.shape[0])+\" cells after filtering.\")\n",
    "    sc.pp.filter_genes(adata_geno, min_counts=1000)\n",
    "    sc.pp.normalize_per_cell(adata_geno)\n",
    "    sc.pp.pca(adata_geno, zero_center=False, svd_solver='arpack')\n",
    "    sc.pp.neighbors(adata_geno, n_neighbors=500)\n",
    "    sc.tl.umap(adata_geno)\n",
    "    sc.tl.tsne(adata_geno)\n",
    "    sc.tl.louvain(adata_geno)\n",
    "    sc.write(adata=adata_geno, filename=dir_out+\"adata_geno_ilc.h5ad\")\n",
    "else:\n",
    "    adata_geno = sc.read(dir_out+\"adata_geno_ilc.h5ad\")"
   ]
  },
  {
   "cell_type": "code",
   "execution_count": null,
   "metadata": {
    "scrolled": true
   },
   "outputs": [],
   "source": [
    "sc.pl.umap(adata_geno, color=['treatment'], save='_geno_treatment.pdf')\n",
    "sc.pl.umap(adata_geno, color=['sample'], save='_geno_sample.pdf')\n",
    "sc.pl.umap(adata_geno, color=['louvain'], save='_geno_louvain.pdf')\n",
    "sc.pl.umap(adata_geno, color=['n_counts'], save='_geno_n_counts.pdf')"
   ]
  },
  {
   "cell_type": "code",
   "execution_count": null,
   "metadata": {},
   "outputs": [],
   "source": [
    "sc.pl.tsne(adata_geno, color=['treatment'], save='_geno_treatment.pdf')\n",
    "sc.pl.tsne(adata_geno, color=['sample'], save='_geno_sample.pdf')\n",
    "sc.pl.tsne(adata_geno, color=['louvain'], save='_geno_louvain.pdf')\n",
    "sc.pl.tsne(adata_geno, color=['n_counts'], save='_geno_n_counts.pdf')"
   ]
  },
  {
   "cell_type": "markdown",
   "metadata": {},
   "source": [
    "# Differential expression analysis"
   ]
  },
  {
   "cell_type": "code",
   "execution_count": 13,
   "metadata": {},
   "outputs": [],
   "source": [
    "adata_stim.obs['rep'] = [x.split('_')[-1] for x in adata_stim.obs['sample'].values]"
   ]
  },
  {
   "cell_type": "markdown",
   "metadata": {},
   "source": [
    "Redefine the replicate naming so that the factor ordering changes. We need this for the replicate models later."
   ]
  },
  {
   "cell_type": "code",
   "execution_count": 14,
   "metadata": {},
   "outputs": [],
   "source": [
    "adata_stim.obs['rep_alternative'] = adata_stim.obs['rep'].values\n",
    "adata_stim[adata_stim.obs['rep'].values==\"Rep1\",:].obs['rep_alternative'] = \"Rep3\""
   ]
  },
  {
   "cell_type": "markdown",
   "metadata": {},
   "source": [
    "## By condition"
   ]
  },
  {
   "cell_type": "markdown",
   "metadata": {},
   "source": [
    "We perform the condition-wise test on a subset of the condition to ease interpretation below."
   ]
  },
  {
   "cell_type": "code",
   "execution_count": 15,
   "metadata": {},
   "outputs": [],
   "source": [
    "adata_stim_pbs_nmu = adata_stim[np.where([x in ['PBS', 'NMU'] \n",
    "                                          for x in adata_stim.obs['treatment'].values])[0],:].copy()"
   ]
  },
  {
   "cell_type": "markdown",
   "metadata": {},
   "source": [
    "### Basic treatment tests"
   ]
  },
  {
   "cell_type": "markdown",
   "metadata": {},
   "source": [
    "#### T-test"
   ]
  },
  {
   "cell_type": "code",
   "execution_count": null,
   "metadata": {},
   "outputs": [],
   "source": [
    "t_tt_0 = time.time()\n",
    "det_tt = de.test.t_test(\n",
    "    adata_stim_pbs_nmu, \n",
    "    grouping=\"treatment\"\n",
    ")\n",
    "t_tt_1 = time.time()\n",
    "t_tt = t_tt_1-t_tt_0"
   ]
  },
  {
   "cell_type": "markdown",
   "metadata": {},
   "source": [
    "#### limma"
   ]
  },
  {
   "cell_type": "code",
   "execution_count": 59,
   "metadata": {},
   "outputs": [],
   "source": [
    "r_adata_stim_pbs_nmu_X = adata_stim_pbs_nmu.X.T.toarray()\n",
    "r_adata_stim_pbs_nmu_obs = adata_stim_pbs_nmu.obs\n",
    "r_adata_stim_pbs_nmu_var_names = adata_stim_pbs_nmu.var_names"
   ]
  },
  {
   "cell_type": "code",
   "execution_count": 68,
   "metadata": {},
   "outputs": [],
   "source": [
    "%%R -i r_adata_stim_pbs_nmu_obs -i r_adata_stim_pbs_nmu_var_names -o limma_res -o t_limma\n",
    "require(limma)\n",
    "start.time <- Sys.time()\n",
    "limma_res <- 4\n",
    "end.time <- Sys.time()\n",
    "t_limma <- end.time - start.time"
   ]
  },
  {
   "cell_type": "code",
   "execution_count": 70,
   "metadata": {},
   "outputs": [],
   "source": [
    "%%R -i r_adata_stim_pbs_nmu_X -i r_adata_stim_pbs_nmu_obs -i r_adata_stim_pbs_nmu_var_names -o limma_res -o t_limma\n",
    "require(limma)\n",
    "\n",
    "# Parse data\n",
    "sample_description = as.data.frame(r_adata_stim_pbs_nmu_obs)\n",
    "dmat <- model.matrix(~1 + treatment, data=sample_description)\n",
    "\n",
    "start.time <- Sys.time()\n",
    "# Fit:\n",
    "limma_fit <- lmFit(r_adata_stim_pbs_nmu_X, dmat)\n",
    "limma_eBfit <- eBayes(limma_fit)\n",
    "\n",
    "# Test:\n",
    "limma_res <- topTable(\n",
    "    limma_eBfit, \n",
    "    adjust=\"BH\", \n",
    "    number=Inf, \n",
    "    sort.by=\"none\",\n",
    "    coef=c(\"treatmentPBS\")\n",
    ")\n",
    "\n",
    "end.time <- Sys.time()\n",
    "t_limma <- end.time - start.time\n",
    "\n",
    "# Prepare output:\n",
    "limma_res$gene <- r_adata_stim_pbs_nmu_var_names"
   ]
  },
  {
   "cell_type": "code",
   "execution_count": null,
   "metadata": {},
   "outputs": [],
   "source": [
    "pval_limma = limma_res['P.Value'].values"
   ]
  },
  {
   "cell_type": "code",
   "execution_count": 71,
   "metadata": {},
   "outputs": [
    {
     "data": {
      "text/html": [
       "\n",
       "    <span>FloatVector with 1 elements.</span>\n",
       "    <table>\n",
       "      <tbody>\n",
       "      <tr>\n",
       "      \n",
       "      <td>\n",
       "        12.272537\n",
       "      </td>\n",
       "      \n",
       "      </tr>\n",
       "      </tbody>\n",
       "    </table>\n",
       "    "
      ],
      "text/plain": [
       "R object with classes: ('difftime',) mapped to:\n",
       "<FloatVector - Python:0x1c2f7ddf48 / R:0x7fc0dab9e578>\n",
       "[12.272537]"
      ]
     },
     "execution_count": 71,
     "metadata": {},
     "output_type": "execute_result"
    }
   ],
   "source": [
    "typeof(t_limma"
   ]
  },
  {
   "cell_type": "markdown",
   "metadata": {},
   "source": [
    "#### MAST"
   ]
  },
  {
   "cell_type": "code",
   "execution_count": null,
   "metadata": {},
   "outputs": [],
   "source": [
    "pval_mast = None\n",
    "t_MAST = None"
   ]
  },
  {
   "cell_type": "markdown",
   "metadata": {},
   "source": [
    "#### diffxpy Wald test"
   ]
  },
  {
   "cell_type": "code",
   "execution_count": null,
   "metadata": {},
   "outputs": [],
   "source": [
    "t_wald_0 = time.time()\n",
    "det_wald = de.test.wald(\n",
    "    data=adata_stim_pbs_nmu, \n",
    "    formula_loc=\"~1+treatment\", \n",
    "    factor_loc_totest=\"treatment\", \n",
    "    formula_scale=\"~1+treatment\",\n",
    "    noise_model=\"nb\",\n",
    "    training_strategy=\"QUICK\",\n",
    "    size_factors=None\n",
    ")\n",
    "t_wald_1 = time.time()\n",
    "t_wald = t_wald_1-t_wald_0"
   ]
  },
  {
   "cell_type": "markdown",
   "metadata": {},
   "source": [
    "#### diffxpy LRT"
   ]
  },
  {
   "cell_type": "code",
   "execution_count": null,
   "metadata": {},
   "outputs": [],
   "source": [
    "t_lrt_0 = time.time()\n",
    "det_lrt = de.test.lrt(full_formula_scale=\n",
    "    adata_stim_pbs_nmu, \n",
    "    full_formula_loc=\"~1+treatment\", \n",
    "    full_formula_scale=\"~1+treatment\", \n",
    "    red_formula_loc=\"~1\", \n",
    "    red_formula_scale=\"~1+treatment\", \n",
    "    noise_model=\"nb\",\n",
    "    training_strategy=\"QUICK\",\n",
    "    size_factors=None\n",
    ")\n",
    "t_lrt_1 = time.time()\n",
    "t_lrt = t_lrt_1-t_lrt_0"
   ]
  },
  {
   "cell_type": "markdown",
   "metadata": {},
   "source": [
    "### Replicate models / constraints"
   ]
  },
  {
   "cell_type": "markdown",
   "metadata": {},
   "source": [
    "#### diffxpy Wald test - replicate model A"
   ]
  },
  {
   "cell_type": "code",
   "execution_count": null,
   "metadata": {},
   "outputs": [],
   "source": [
    "t_waldra_0 = time.time()\n",
    "det_waldra = de.test.wald(\n",
    "    adata_stim_pbs_nmu, \n",
    "    formula_loc=\"~1+treatment+rep+treatment:rep\", \n",
    "    factor_loc_totest=\"treatment\", \n",
    "    formula_scale=\"~1+treatment+rep+treatment:rep\",\n",
    "    noise_model=\"nb\",\n",
    "    training_strategy=\"QUICK\",\n",
    "    size_factors=None\n",
    ")\n",
    "t_waldra_1 = time.time()\n",
    "t_waldra = t_waldra_1-t_waldra_0"
   ]
  },
  {
   "cell_type": "markdown",
   "metadata": {},
   "source": [
    "#### diffxpy Wald test - replicate model B"
   ]
  },
  {
   "cell_type": "code",
   "execution_count": null,
   "metadata": {},
   "outputs": [],
   "source": [
    "t_waldrb_0 = time.time()\n",
    "det_waldrb = de.test.wald(\n",
    "    adata_stim_pbs_nmu, \n",
    "    formula_loc=\"~1+treatment+rep_alternative+treatment:rep_alternative\", \n",
    "    factor_loc_totest=\"treatment\", \n",
    "    formula_scale=\"~1+treatment+rep_alternative+treatment:rep_alternative\",\n",
    "    noise_model=\"nb\",\n",
    "    training_strategy=\"QUICK\",\n",
    "    size_factors=None\n",
    ")\n",
    "t_waldrb_1 = time.time()\n",
    "t_waldrb = t_waldrb_1-t_waldrb_0"
   ]
  },
  {
   "cell_type": "markdown",
   "metadata": {},
   "source": [
    "#### diffxpy constrained Wald test"
   ]
  },
  {
   "cell_type": "markdown",
   "metadata": {},
   "source": [
    "Define design matrix of overdetermined system:"
   ]
  },
  {
   "cell_type": "code",
   "execution_count": null,
   "metadata": {},
   "outputs": [],
   "source": [
    "dmat = np.zeros([adata_stim.X.shape[0], 6])\n",
    "dmat[:,0] = 1 # intercept\n",
    "# condition PBS is absorbed into the intercept\n",
    "dmat[np.where(adata_stim.obs['treatment'].values=='NMU')[0],1] = 1 # condition NMU\n",
    "dmat[np.where(np.logical_and(\n",
    "    adata_stim.obs['treatment'].values=='PBS',\n",
    "    adata_stim.obs['rep'].values=='Rep1'))[0],2] = 1 # replicate 1 PBS\n",
    "dmat[np.where(np.logical_and(\n",
    "    adata_stim.obs['treatment'].values=='PBS',\n",
    "    adata_stim.obs['rep'].values=='Rep2'))[0],3] = 1 # replicate 2 PBS\n",
    "dmat[np.where(np.logical_and(\n",
    "    adata_stim.obs['treatment'].values=='NMU',\n",
    "    adata_stim.obs['rep'].values=='Rep1'))[0],4] = 1 # replicate 1 NMU\n",
    "dmat[np.where(np.logical_and(\n",
    "    adata_stim.obs['treatment'].values=='NMU',\n",
    "    adata_stim.obs['rep'].values=='Rep2'))[0],5] = 1 # replicate 2 NMU\n",
    "print(np.unique(dmat, axis=0))"
   ]
  },
  {
   "cell_type": "code",
   "execution_count": null,
   "metadata": {},
   "outputs": [],
   "source": [
    "coefficient_names = ['intercept', 'nmu', 'pbs_rep1', 'pbs_rep2', 'nmu_rep1', 'nmu_rep2']"
   ]
  },
  {
   "cell_type": "code",
   "execution_count": null,
   "metadata": {},
   "outputs": [],
   "source": [
    "dmat = pd.DataFrame(data=dmat, columns=coefficient_names)"
   ]
  },
  {
   "cell_type": "markdown",
   "metadata": {},
   "source": [
    "Format design matrix to comply with diffxpy standards:"
   ]
  },
  {
   "cell_type": "code",
   "execution_count": null,
   "metadata": {},
   "outputs": [],
   "source": [
    "dmat_loc = de.test.design_matrix(dmat=dmat)"
   ]
  },
  {
   "cell_type": "markdown",
   "metadata": {},
   "source": [
    "Build constraints:"
   ]
  },
  {
   "cell_type": "code",
   "execution_count": null,
   "metadata": {},
   "outputs": [],
   "source": [
    "constraints_loc = np.zeros([2, dmat_loc.dims['design_params']])\n",
    "# Constraint 0: Account for perfect confouding at replicate level \n",
    "# by constraining replicate coefficients not to produce mean effects across treatments.\n",
    "constraints_loc[0,4] = -1\n",
    "constraints_loc[0,5] = 1\n",
    "# Constraint 1: Account for fact that first level of replicates was not absorbed into offset.\n",
    "constraints_loc[1,2] = -1\n",
    "constraints_loc[1,3:] = 1\n",
    "print(constraints_loc)"
   ]
  },
  {
   "cell_type": "code",
   "execution_count": null,
   "metadata": {},
   "outputs": [],
   "source": [
    "t_waldc_0 = time.time()\n",
    "det_waldc = de.test.wald(\n",
    "    adata_stim_pbs_nmu, \n",
    "    dmat_loc = dmat_est_loc.data_vars['design'],\n",
    "    coef_to_test=[\"nmu\"],\n",
    "    constraints_loc = constraints_loc,\n",
    "    formula_scale\"~1+treatment+rep+treatment:rep\",\n",
    "    noise_model=\"nb\",\n",
    "    training_strategy=\"QUICK\",\n",
    "    size_factors=None\n",
    ")\n",
    "t_waldc_1 = time.time()\n",
    "t_waldc = t_waldc_1-t_waldc_0"
   ]
  },
  {
   "cell_type": "markdown",
   "metadata": {},
   "source": [
    "### Dispersion models"
   ]
  },
  {
   "cell_type": "markdown",
   "metadata": {},
   "source": [
    "#### diffxpy Wald test - dispersion model 0 (MME)"
   ]
  },
  {
   "cell_type": "code",
   "execution_count": null,
   "metadata": {},
   "outputs": [],
   "source": [
    "t_walddm0_0 = time.time()\n",
    "det_walddm0 = de.test.wald(\n",
    "    adata_stim_pbs_nmu, \n",
    "    formula_loc=\"~1+treatment\", \n",
    "    factor_loc_totest=\"treatment\",\n",
    "    formula_scale=\"~1\", \n",
    "    quick_scale=True,\n",
    "    noise_model=\"nb\",\n",
    "    training_strategy=\"QUICK\",\n",
    "    size_factors=None\n",
    ")\n",
    "t_walddm0_1 = time.time()\n",
    "t_walddm0 = t_walddm0_1-t_walddm0_0"
   ]
  },
  {
   "cell_type": "markdown",
   "metadata": {},
   "source": [
    "#### diffxpy Wald test - dispersion model 1 (intercept)"
   ]
  },
  {
   "cell_type": "code",
   "execution_count": null,
   "metadata": {},
   "outputs": [],
   "source": [
    "t_walddm1_0 = time.time()\n",
    "det_walddm1 = de.test.wald(\n",
    "    adata_stim_pbs_nmu, \n",
    "    formula_loc=\"~1+treatment\", \n",
    "    factor_loc_totest=\"treatment\", \n",
    "    formula_scale=\"~1\", \n",
    "    quick_scale=False,\n",
    "    noise_model=\"nb\",\n",
    "    training_strategy=\"QUICK\",\n",
    "    size_factors=None\n",
    ")\n",
    "t_walddm1_1 = time.time()\n",
    "t_walddm1 = t_walddm1_1-t_walddm1_0"
   ]
  },
  {
   "cell_type": "markdown",
   "metadata": {},
   "source": [
    "## Pairwise tests"
   ]
  },
  {
   "cell_type": "markdown",
   "metadata": {},
   "source": [
    "### by condition"
   ]
  },
  {
   "cell_type": "code",
   "execution_count": null,
   "metadata": {},
   "outputs": [],
   "source": [
    "t_pwc_0 = time.time()\n",
    "det_pw_cl = de.test.pairwise(\n",
    "    adata_stim, \n",
    "    grouping=\"condition\", \n",
    "    quick_scale=False, \n",
    "    noise_model=\"nb\", \n",
    "    training_strategy=\"QUICK\",\n",
    "    keep_full_test_objs=False\n",
    ")\n",
    "t_pwc_1 = time.time()\n",
    "t_pwc = t_pwc_1-t_pwc_0"
   ]
  },
  {
   "cell_type": "markdown",
   "metadata": {},
   "source": [
    "### by cluster"
   ]
  },
  {
   "cell_type": "code",
   "execution_count": null,
   "metadata": {},
   "outputs": [],
   "source": [
    "t_pwcl_0 = time.time()\n",
    "det_pw_cl = de.test.pairwise(\n",
    "    adata_stim, \n",
    "    grouping=\"louvain\", \n",
    "    quick_scale=False, \n",
    "    noise_model=\"nb\", \n",
    "    training_strategy=\"QUICK\",\n",
    "    keep_full_test_objs=False\n",
    ")\n",
    "t_pwcl_1 = time.time()\n",
    "t_pwcl = t_pwcl_1-t_pwcl_0"
   ]
  },
  {
   "cell_type": "markdown",
   "metadata": {},
   "source": [
    "# Meta-analysis of differential expression results"
   ]
  },
  {
   "cell_type": "markdown",
   "metadata": {},
   "source": [
    "## diffxpy p-values versus reference methods"
   ]
  },
  {
   "cell_type": "markdown",
   "metadata": {},
   "source": [
    "### t-test"
   ]
  },
  {
   "cell_type": "markdown",
   "metadata": {},
   "source": [
    "#### p-values"
   ]
  },
  {
   "cell_type": "code",
   "execution_count": null,
   "metadata": {},
   "outputs": [],
   "source": [
    "print(\n",
    "    \"Maximum log10 p-value deviation: \"+\n",
    "    str(np.max(np.abs( np.log(det_wald.pval)/np.log(10) - np.log(det_tt.pval)/np.log(10) )))\n",
    ")"
   ]
  },
  {
   "cell_type": "markdown",
   "metadata": {},
   "source": [
    "Histogram of differences in log_10 pvalues:"
   ]
  },
  {
   "cell_type": "code",
   "execution_count": null,
   "metadata": {},
   "outputs": [],
   "source": [
    "sns.distplot(np.log(det_wald.pval)/np.log(10) - np.log(det_tt.pval)/np.log(10), kde=False)"
   ]
  },
  {
   "cell_type": "markdown",
   "metadata": {},
   "source": [
    "log_10 p-value scatter plot:"
   ]
  },
  {
   "cell_type": "code",
   "execution_count": null,
   "metadata": {},
   "outputs": [],
   "source": [
    "sns.scatterplot(x=np.log(det_wald.pval)/np.log(10), \n",
    "                y=np.log(det_tt.pval)/np.log(10))"
   ]
  },
  {
   "cell_type": "markdown",
   "metadata": {},
   "source": [
    "#### run time"
   ]
  },
  {
   "cell_type": "code",
   "execution_count": null,
   "metadata": {},
   "outputs": [],
   "source": [
    "print(\"Wald test run time: \"+str(t_wald))\n",
    "print(\"T-test run time: \"+str(t_tt))\n",
    "print(\"T-test to Wald test run time: \"+str(t_tt/t_wald))"
   ]
  },
  {
   "cell_type": "markdown",
   "metadata": {},
   "source": [
    "###  limma"
   ]
  },
  {
   "cell_type": "markdown",
   "metadata": {},
   "source": [
    "#### p-values"
   ]
  },
  {
   "cell_type": "code",
   "execution_count": null,
   "metadata": {},
   "outputs": [],
   "source": [
    "print(\n",
    "    \"Maximum log10 p-value deviation: \"+\n",
    "    str(np.max(np.abs( np.log(det_wald.pval)/np.log(10) - np.log(pval_limma)/np.log(10) )))\n",
    ")"
   ]
  },
  {
   "cell_type": "markdown",
   "metadata": {},
   "source": [
    "Histogram of differences in log_10 pvalues:"
   ]
  },
  {
   "cell_type": "code",
   "execution_count": null,
   "metadata": {},
   "outputs": [],
   "source": [
    "sns.distplot(np.log(det_wald.pval)/np.log(10) - np.log(pval_limma)/np.log(10), kde=False)"
   ]
  },
  {
   "cell_type": "markdown",
   "metadata": {},
   "source": [
    "log_10 p-value scatter plot:"
   ]
  },
  {
   "cell_type": "code",
   "execution_count": null,
   "metadata": {},
   "outputs": [],
   "source": [
    "sns.scatterplot(x=np.log(det_wald.pval)/np.log(10), \n",
    "                y=np.log(pval_limma)/np.log(10))"
   ]
  },
  {
   "cell_type": "markdown",
   "metadata": {},
   "source": [
    "#### run time"
   ]
  },
  {
   "cell_type": "code",
   "execution_count": null,
   "metadata": {},
   "outputs": [],
   "source": [
    "print(\"Wald test run time: \"+str(t_wald))\n",
    "print(\"Limma run time: \"+str(t_limma))\n",
    "print(\"Limma to Wald test run time: \"+str(t_limma/t_wald))"
   ]
  },
  {
   "cell_type": "markdown",
   "metadata": {},
   "source": [
    "### MAST"
   ]
  },
  {
   "cell_type": "markdown",
   "metadata": {},
   "source": [
    "#### p-values"
   ]
  },
  {
   "cell_type": "code",
   "execution_count": null,
   "metadata": {},
   "outputs": [],
   "source": [
    "print(\n",
    "    \"Maximum log10 p-value deviation: \"+\n",
    "    str(np.max(np.abs( np.log(det_wald.pval)/np.log(10) - np.log(pval_mast)/np.log(10) )))\n",
    ")"
   ]
  },
  {
   "cell_type": "markdown",
   "metadata": {},
   "source": [
    "Histogram of differences in log_10 pvalues:"
   ]
  },
  {
   "cell_type": "code",
   "execution_count": null,
   "metadata": {},
   "outputs": [],
   "source": [
    "sns.distplot(np.log(det_wald.pval)/np.log(10) - np.log(pval_mast)/np.log(10), kde=False)"
   ]
  },
  {
   "cell_type": "markdown",
   "metadata": {},
   "source": [
    "log_10 p-value scatter plot:"
   ]
  },
  {
   "cell_type": "code",
   "execution_count": null,
   "metadata": {},
   "outputs": [],
   "source": [
    "sns.scatterplot(x=np.log(det_wald.pval)/np.log(10), \n",
    "                y=np.log(pval_mast)/np.log(10))"
   ]
  },
  {
   "cell_type": "markdown",
   "metadata": {},
   "source": [
    "#### run time"
   ]
  },
  {
   "cell_type": "code",
   "execution_count": null,
   "metadata": {},
   "outputs": [],
   "source": [
    "print(\"Wald test run time: \"+str(t_wald))\n",
    "print(\"MAST run time: \"+str(t_mast))\n",
    "print(\"MAST to Wald test run time: \"+str(t_mast/t_wald))"
   ]
  },
  {
   "cell_type": "markdown",
   "metadata": {},
   "source": [
    "## Wald versus LRT"
   ]
  },
  {
   "cell_type": "markdown",
   "metadata": {},
   "source": [
    "### p-values"
   ]
  },
  {
   "cell_type": "code",
   "execution_count": null,
   "metadata": {},
   "outputs": [],
   "source": [
    "print(\n",
    "    \"Maximum log10 p-value deviation: \"+\n",
    "    str(np.max(np.abs( np.log(det_wald.pval)/np.log(10) - np.log(det_lrt.pval)/np.log(10) )))\n",
    ")"
   ]
  },
  {
   "cell_type": "markdown",
   "metadata": {},
   "source": [
    "Histogram of differences in log_10 pvalues:"
   ]
  },
  {
   "cell_type": "code",
   "execution_count": null,
   "metadata": {},
   "outputs": [],
   "source": [
    "sns.distplot(np.log(det_wald.pval)/np.log(10) - np.log(det_lrt.pval)/np.log(10), kde=False)"
   ]
  },
  {
   "cell_type": "markdown",
   "metadata": {},
   "source": [
    "log_10 p-value scatter plot:"
   ]
  },
  {
   "cell_type": "code",
   "execution_count": null,
   "metadata": {},
   "outputs": [],
   "source": [
    "sns.scatterplot(x=np.log(det_wald.pval)/np.log(10), \n",
    "                y=np.log(det_lrt.pval)/np.log(10))"
   ]
  },
  {
   "cell_type": "markdown",
   "metadata": {},
   "source": [
    "### run time"
   ]
  },
  {
   "cell_type": "code",
   "execution_count": null,
   "metadata": {
    "scrolled": true
   },
   "outputs": [],
   "source": [
    "print(\"Wald test run time: \"+str(t_wald))\n",
    "print(\"LRT run time: \"+str(t_lrt))\n",
    "print(\"LRT to Wald test run time: \"+str(t_lrt/t_wald))"
   ]
  },
  {
   "cell_type": "markdown",
   "metadata": {},
   "source": [
    "## Dispersion models"
   ]
  },
  {
   "cell_type": "markdown",
   "metadata": {},
   "source": [
    "log_10 p-value scatter plot between Wald test with full dispersion model and only intercept:"
   ]
  },
  {
   "cell_type": "code",
   "execution_count": null,
   "metadata": {},
   "outputs": [],
   "source": [
    "sns.scatterplot(x=np.log(det_wald.pval)/np.log(10), \n",
    "                y=np.log(det_walddm1.pval)/np.log(10))"
   ]
  },
  {
   "cell_type": "markdown",
   "metadata": {},
   "source": [
    "log_10 p-value scatter plot between Wald test with full dispersion model and MME model:"
   ]
  },
  {
   "cell_type": "code",
   "execution_count": null,
   "metadata": {},
   "outputs": [],
   "source": [
    "sns.scatterplot(x=np.log(det_wald.pval)/np.log(10), \n",
    "                y=np.log(det_walddm0.pval)/np.log(10))"
   ]
  },
  {
   "cell_type": "markdown",
   "metadata": {},
   "source": [
    "Run times:"
   ]
  },
  {
   "cell_type": "code",
   "execution_count": null,
   "metadata": {},
   "outputs": [],
   "source": [
    "print(\"Wald test full dispersion model run time: \"+str(t_wald))\n",
    "print(\"Wald test intercept-only dispersion model run time: \"+str(t_walddm1))\n",
    "print(\"Wald test MME dispersion model run time: \"+str(t_walddm0))\n",
    "print(\"MME dispersion model to full dispersion model Wald test run time: \"+str(t_walddm0/t_wald))\n",
    "print(\"Intercept-only dispersion model to full dispersion model Wald test run time: \"+str(t_walddm1/t_wald))"
   ]
  },
  {
   "cell_type": "markdown",
   "metadata": {},
   "source": [
    "## Constraints"
   ]
  },
  {
   "cell_type": "markdown",
   "metadata": {},
   "source": [
    "log_10 p-value scatter plot between Wald test pvalues of both replicate models:"
   ]
  },
  {
   "cell_type": "code",
   "execution_count": null,
   "metadata": {},
   "outputs": [],
   "source": [
    "sns.scatterplot(x=np.log(det_waldra.pval)/np.log(10), \n",
    "                y=np.log(det_waldrb.pval)/np.log(10))"
   ]
  },
  {
   "cell_type": "markdown",
   "metadata": {},
   "source": [
    "Run times:"
   ]
  },
  {
   "cell_type": "code",
   "execution_count": null,
   "metadata": {},
   "outputs": [],
   "source": [
    "print(\"Wald test no replicate model run time: \"+str(t_wald))\n",
    "print(\"Wald test replicate model A run time: \"+str(t_waldra))\n",
    "print(\"Wald test replicate model B run time: \"+str(t_waldrb))\n",
    "print(\"Constrained wald test run time: \"+str(t_waldc))\n",
    "print(\"Standard replicate model to constrained Wald test run time: \"+str(t_waldra/t_waldc))"
   ]
  },
  {
   "cell_type": "markdown",
   "metadata": {},
   "source": [
    "## Pairwise tests"
   ]
  },
  {
   "cell_type": "markdown",
   "metadata": {},
   "source": [
    "### by condition"
   ]
  },
  {
   "cell_type": "markdown",
   "metadata": {},
   "source": [
    "log_10 p-value scatter plot between Wald test on a single pair and the corresponding p-values from the pair-wise comparison:"
   ]
  },
  {
   "cell_type": "code",
   "execution_count": null,
   "metadata": {},
   "outputs": [],
   "source": [
    "sns.scatterplot(x=np.log(det_wald.pval)/np.log(10), \n",
    "                y=np.log(t_waldpwc.summary(group1=\"PBS\", group2=\"NMU\")['pvalues'])/np.log(10))"
   ]
  },
  {
   "cell_type": "code",
   "execution_count": null,
   "metadata": {},
   "outputs": [],
   "source": [
    "print(\"Wald test run time for one pair: \"+str(t_wald))\n",
    "print(\"Pairwise tests across 4 treatments run time: \"+str(t_waldpwc))"
   ]
  },
  {
   "cell_type": "markdown",
   "metadata": {},
   "source": [
    "### by louvain group"
   ]
  },
  {
   "cell_type": "code",
   "execution_count": null,
   "metadata": {},
   "outputs": [],
   "source": [
    "print(\"Pairwise tests across 4 treatments run time: \"+str(t_waldpwc))\n",
    "print(\"Pairwise tests across all louvain groups run time: \"+str(t_waldpwcl))"
   ]
  }
 ],
 "metadata": {
  "kernelspec": {
   "display_name": "Python 3",
   "language": "python",
   "name": "python3"
  },
  "language_info": {
   "codemirror_mode": {
    "name": "ipython",
    "version": 3
   },
   "file_extension": ".py",
   "mimetype": "text/x-python",
   "name": "python",
   "nbconvert_exporter": "python",
   "pygments_lexer": "ipython3",
   "version": "3.6.5"
  },
  "toc": {
   "base_numbering": 1,
   "nav_menu": {},
   "number_sections": false,
   "sideBar": false,
   "skip_h1_title": false,
   "title_cell": "Table of Contents",
   "title_sidebar": "Contents",
   "toc_cell": false,
   "toc_position": {},
   "toc_section_display": false,
   "toc_window_display": false
  }
 },
 "nbformat": 4,
 "nbformat_minor": 2
}
