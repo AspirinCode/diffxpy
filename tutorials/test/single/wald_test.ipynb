{
 "cells": [
  {
   "cell_type": "code",
   "execution_count": 1,
   "metadata": {},
   "outputs": [],
   "source": [
    "%matplotlib inline\n",
    "import matplotlib.pyplot as plt\n",
    "import seaborn as sns\n",
    "import logging\n",
    "\n",
    "import scipy.stats\n",
    "import numpy as np"
   ]
  },
  {
   "cell_type": "markdown",
   "metadata": {},
   "source": [
    "# Generate some data:"
   ]
  },
  {
   "cell_type": "code",
   "execution_count": 2,
   "metadata": {},
   "outputs": [],
   "source": [
    "from batchglm.api.models.nb_glm import Simulator\n",
    "\n",
    "sim = Simulator(num_observations=2000, num_features=100)\n",
    "sim.generate_sample_description(num_batches=0, num_conditions=2)\n",
    "# sample parameters from positive truncated N(1, 0.1)\n",
    "mu=1; phi=0.1\n",
    "sim.generate_params(rand_fn_loc=lambda size: mu + scipy.stats.truncnorm.rvs(-mu / phi, np.infty, scale=phi, size=size))\n",
    "sim.generate_data()\n",
    "\n",
    "# count data\n",
    "X = sim.X\n",
    "# sample description\n",
    "sample_description = sim.sample_description"
   ]
  },
  {
   "cell_type": "markdown",
   "metadata": {},
   "source": [
    "The sample description should be a pandas DataFrame with `num_observations` rows.\n",
    "Each column should represent a property of the dataset.\n",
    "\n",
    "The module `batchglm.api.data` contains some helper functions which can be useful to create this sample description:\n",
    "\n",
    "- `sample_description_from_anndata()`\n",
    "- `sample_description_from_xarray()`"
   ]
  },
  {
   "cell_type": "code",
   "execution_count": 3,
   "metadata": {},
   "outputs": [
    {
     "data": {
      "application/vnd.jupyter.widget-view+json": {
       "model_id": "ed3de9a0322a4780bbcf3ac846aa4f36",
       "version_major": 2,
       "version_minor": 0
      }
     },
     "metadata": {},
     "output_type": "display_data"
    }
   ],
   "source": [
    "sample_description.iloc[:10,:]"
   ]
  },
  {
   "cell_type": "markdown",
   "metadata": {},
   "source": [
    "# Run differential expression test:\n",
    "\n",
    "The wald test checks if a certain coefficient introduces a significant difference in the expression of a gene.\n",
    "\n",
    "It needs a statistical formula `formula` which describes the setup of the model and the factor of the formula `factor_loc_totest` which should be tested.\n",
    "\n",
    "Usually, this factor divides the samples into two groups, e.g. `condition 0` and `condition 1`.\n",
    "In this case, diffxpy will automatically choose the coefficient to test.\n",
    "If there are more than two groups specified by the factor, the coefficient which should be tested has to be set manually by specifying `coef_totest`. This coefficient should refer to one of the groups specified by `factor_loc_totest`, e.g. `condition 1`.\n"
   ]
  },
  {
   "cell_type": "code",
   "execution_count": 4,
   "metadata": {},
   "outputs": [
    {
     "name": "stdout",
     "output_type": "stream",
     "text": [
      "Estimating model...\n",
      "Using closed-form MLE initialization for mean\n",
      "Should train mu: False\n",
      "Using closed-form MME initialization for dispersion\n",
      "Should train r: True\n"
     ]
    },
    {
     "name": "stderr",
     "output_type": "stream",
     "text": [
      "/Users/david.fischer/miniconda3/lib/python3.6/site-packages/tensorflow/python/util/tf_inspect.py:75: DeprecationWarning: inspect.getargspec() is deprecated, use inspect.signature() or inspect.getfullargspec()\n",
      "  return _inspect.getargspec(target)\n",
      "/Users/david.fischer/miniconda3/lib/python3.6/site-packages/tensorflow/python/util/tf_inspect.py:75: DeprecationWarning: inspect.getargspec() is deprecated, use inspect.signature() or inspect.getfullargspec()\n",
      "  return _inspect.getargspec(target)\n",
      "/Users/david.fischer/miniconda3/lib/python3.6/site-packages/tensorflow/python/util/tf_inspect.py:75: DeprecationWarning: inspect.getargspec() is deprecated, use inspect.signature() or inspect.getfullargspec()\n",
      "  return _inspect.getargspec(target)\n"
     ]
    },
    {
     "name": "stdout",
     "output_type": "stream",
     "text": [
      "training strategy:\n",
      "[{'convergence_criteria': 't_test',\n",
      "  'learning_rate': 0.01,\n",
      "  'loss_window_size': 10,\n",
      "  'optim_algo': 'ADAM',\n",
      "  'stop_at_loss_change': 0.25,\n",
      "  'use_batching': False}]\n",
      "Beginning with training sequence #1\n",
      "Training sequence #1 complete\n",
      "Estimating model ready\n"
     ]
    }
   ],
   "source": [
    "logging.getLogger(\"tensorflow\").setLevel(logging.ERROR)\n",
    "logging.getLogger(\"batchglm\").setLevel(logging.INFO)\n",
    "logging.getLogger(\"diffxpy\").setLevel(logging.INFO)\n",
    "\n",
    "import diffxpy.api as de\n",
    "\n",
    "test = de.test.wald(\n",
    "    data=X,\n",
    "    formula=\"~ 1 + condition\",\n",
    "    factor_loc_totest=\"condition\",\n",
    "    sample_description=sample_description,\n",
    "    dtype=\"float64\"\n",
    ")\n"
   ]
  },
  {
   "cell_type": "markdown",
   "metadata": {},
   "source": [
    "# Obtaining the results\n",
    "\n",
    "The p-/q-values can be obtained by calling test.pval / test.qval:"
   ]
  },
  {
   "cell_type": "code",
   "execution_count": 5,
   "metadata": {},
   "outputs": [
    {
     "data": {
      "text/plain": [
       "array([0.00000000e+00, 6.24880894e-01, 0.00000000e+00, 3.83671092e-02,\n",
       "       8.30037150e-10, 3.99415295e-01, 0.00000000e+00, 6.34562144e-03,\n",
       "       2.18786355e-01, 1.60024115e-04, 2.09655732e-04, 1.84501765e-08,\n",
       "       7.09648460e-02, 8.58117956e-02, 1.06605120e-06, 5.63638722e-02,\n",
       "       2.83718193e-01, 3.38857445e-09, 4.46863672e-05, 1.68817341e-11,\n",
       "       9.16956861e-02, 0.00000000e+00, 8.21429005e-01, 1.70701126e-01,\n",
       "       1.64640865e-01, 8.54225487e-05, 2.48733490e-03, 1.88899299e-02,\n",
       "       6.24880894e-01, 0.00000000e+00, 0.00000000e+00, 7.40148683e-15,\n",
       "       1.13953804e-02, 8.55800460e-03, 7.42122694e-01, 7.96456685e-03,\n",
       "       1.61458924e-03, 1.40091945e-07, 2.67386301e-01, 4.52985615e-02,\n",
       "       2.03821853e-02, 3.12605682e-04, 1.35954813e-01, 3.36152616e-03,\n",
       "       1.44901814e-02, 5.13762930e-02, 1.96227764e-01, 1.60736725e-06,\n",
       "       8.40489252e-09, 1.45304948e-02, 2.00886150e-07, 9.90745880e-08,\n",
       "       0.00000000e+00, 1.99046465e-04, 8.18529421e-03, 2.51873684e-02,\n",
       "       9.05178769e-03, 5.15276583e-01, 8.42115242e-01, 0.00000000e+00,\n",
       "       4.09055281e-02, 9.35735134e-01, 4.06396198e-01, 1.71134361e-03,\n",
       "       0.00000000e+00, 2.28941725e-01, 2.51280478e-11, 8.08633217e-03,\n",
       "       1.86792988e-01, 3.47332689e-10, 0.00000000e+00, 8.12937316e-03,\n",
       "       1.91774176e-02, 2.05255855e-08, 3.32854667e-03, 6.11690817e-01,\n",
       "       4.09727807e-11, 3.31365529e-02, 3.66023547e-04, 5.31060773e-02,\n",
       "       1.54085781e-01, 2.87166090e-04, 8.54017711e-15, 1.54085781e-01,\n",
       "       2.46995798e-05, 1.73838721e-09, 1.32477036e-10, 1.39246639e-10,\n",
       "       6.36086044e-07, 1.96227764e-01, 0.00000000e+00, 3.71414819e-05,\n",
       "       9.08830467e-02, 2.16907450e-01, 4.28591949e-01, 1.74949121e-02,\n",
       "       7.39817356e-03, 4.37691364e-01, 2.38409794e-02, 2.95430145e-09])"
      ]
     },
     "execution_count": 5,
     "metadata": {},
     "output_type": "execute_result"
    }
   ],
   "source": [
    "test.qval\n"
   ]
  },
  {
   "cell_type": "markdown",
   "metadata": {},
   "source": [
    "test.summary() returns a pandas DataFrame with a quick overview of the test results:"
   ]
  },
  {
   "cell_type": "code",
   "execution_count": 6,
   "metadata": {},
   "outputs": [
    {
     "data": {
      "application/vnd.jupyter.widget-view+json": {
       "model_id": "4337af0b76aa4adb8612a0569a1c6448",
       "version_major": 2,
       "version_minor": 0
      }
     },
     "metadata": {},
     "output_type": "display_data"
    }
   ],
   "source": [
    "test.summary().iloc[:10,:]"
   ]
  },
  {
   "cell_type": "markdown",
   "metadata": {},
   "source": [
    "- `gene`: gene name / identifier\n",
    "- `pval`: p-value of the gene\n",
    "- `qval`: multiple testing - corrected p-value of the gene\n",
    "- `log2fc`: log_2 fold change between `no coefficient` and `coefficient`\n",
    "- `grad`: the gradient of the gene's log-likelihood\n",
    "- `coef_mle` the maximum-likelihood estimate of the coefficient in liker-space\n",
    "- `coef_sd` the standard deviation of the coefficient in liker-space\n",
    "- `ll`: the log-likelihood of the estimation"
   ]
  },
  {
   "cell_type": "markdown",
   "metadata": {},
   "source": [
    "`test.plot_volcano()` creates a volcano plot of p-values vs. fold-change:"
   ]
  },
  {
   "cell_type": "code",
   "execution_count": 7,
   "metadata": {
    "scrolled": true
   },
   "outputs": [
    {
     "data": {
      "text/plain": [
       "(<Figure size 432x288 with 1 Axes>,\n",
       " <matplotlib.axes._subplots.AxesSubplot at 0x1c2932af60>)"
      ]
     },
     "execution_count": 7,
     "metadata": {},
     "output_type": "execute_result"
    },
    {
     "data": {
      "image/png": "[encoded data removed]",
      "text/plain": [
       "<Figure size 432x288 with 1 Axes>"
      ]
     },
     "metadata": {
      "needs_background": "light"
     },
     "output_type": "display_data"
    }
   ],
   "source": [
    "test.plot_volcano()"
   ]
  },
  {
   "cell_type": "markdown",
   "metadata": {},
   "source": [
    "`plot_vs_ttest()` shows the correlation between t-test p-values and the wald test p-values"
   ]
  },
  {
   "cell_type": "code",
   "execution_count": 8,
   "metadata": {},
   "outputs": [
    {
     "data": {
      "text/plain": [
       "(<Figure size 432x288 with 1 Axes>,\n",
       " <matplotlib.axes._subplots.AxesSubplot at 0x1c223dbd68>)"
      ]
     },
     "execution_count": 8,
     "metadata": {},
     "output_type": "execute_result"
    },
    {
     "data": {
      "image/png": "[encoded data removed]",
      "text/plain": [
       "<Figure size 432x288 with 1 Axes>"
      ]
     },
     "metadata": {
      "needs_background": "light"
     },
     "output_type": "display_data"
    }
   ],
   "source": [
    "test.plot_vs_ttest()"
   ]
  },
  {
   "cell_type": "markdown",
   "metadata": {},
   "source": [
    "`test.plot_diagnostics()` is a shortcut to directly show all diagnostics plots."
   ]
  },
  {
   "cell_type": "code",
   "execution_count": 9,
   "metadata": {},
   "outputs": [
    {
     "data": {
      "image/png": "[encoded data removed]",
      "text/plain": [
       "<Figure size 432x288 with 1 Axes>"
      ]
     },
     "metadata": {
      "needs_background": "light"
     },
     "output_type": "display_data"
    },
    {
     "data": {
      "image/png": "[encoded data removed]",
      "text/plain": [
       "<Figure size 432x288 with 1 Axes>"
      ]
     },
     "metadata": {
      "needs_background": "light"
     },
     "output_type": "display_data"
    }
   ],
   "source": [
    "test.plot_diagnostics()"
   ]
  }
 ],
 "metadata": {
  "kernelspec": {
   "display_name": "Python 3",
   "language": "python",
   "name": "python3"
  },
  "language_info": {
   "codemirror_mode": {
    "name": "ipython",
    "version": 3
   },
   "file_extension": ".py",
   "mimetype": "text/x-python",
   "name": "python",
   "nbconvert_exporter": "python",
   "pygments_lexer": "ipython3",
   "version": "3.6.5"
  },
  "toc": {
   "base_numbering": 1,
   "nav_menu": {},
   "number_sections": false,
   "sideBar": false,
   "skip_h1_title": false,
   "title_cell": "Table of Contents",
   "title_sidebar": "Contents",
   "toc_cell": false,
   "toc_position": {},
   "toc_section_display": false,
   "toc_window_display": false
  }
 },
 "nbformat": 4,
 "nbformat_minor": 1
}
