{
 "cells": [
  {
   "cell_type": "code",
   "execution_count": 1,
   "metadata": {},
   "outputs": [
    {
     "name": "stderr",
     "output_type": "stream",
     "text": [
      "/Users/david.fischer/miniconda3/lib/python3.6/importlib/_bootstrap.py:219: RuntimeWarning: numpy.dtype size changed, may indicate binary incompatibility. Expected 96, got 88\n",
      "  return f(*args, **kwds)\n"
     ]
    }
   ],
   "source": [
    "%matplotlib inline\n",
    "import matplotlib.pyplot as plt\n",
    "import seaborn as sns\n",
    "import logging\n",
    "\n",
    "import scipy.stats\n",
    "import numpy as np"
   ]
  },
  {
   "cell_type": "markdown",
   "metadata": {},
   "source": [
    "# Generate some data:"
   ]
  },
  {
   "cell_type": "code",
   "execution_count": 2,
   "metadata": {},
   "outputs": [],
   "source": [
    "from batchglm.api.models.nb_glm import Simulator\n",
    "\n",
    "sim = Simulator(num_observations=2000, num_features=100)\n",
    "sim.generate_sample_description(num_batches=0, num_confounders=2)\n",
    "# sample parameters from positive truncated N(1, 0.1)\n",
    "mu=1; phi=0.1\n",
    "sim.generate_params(rand_fn_loc=lambda size: mu + scipy.stats.truncnorm.rvs(-mu / phi, np.infty, scale=phi, size=size))\n",
    "sim.generate_data()\n",
    "\n",
    "# count data\n",
    "X = sim.X\n",
    "# sample description\n",
    "sample_description = sim.sample_description"
   ]
  },
  {
   "cell_type": "markdown",
   "metadata": {},
   "source": [
    "The sample description should be a pandas DataFrame with `num_observations` rows.\n",
    "Each column should represent a property of the dataset.\n",
    "\n",
    "The module `batchglm.api.data` contains some helper functions which can be useful to create this sample description:\n",
    "\n",
    "- `sample_description_from_anndata()`\n",
    "- `sample_description_from_xarray()`"
   ]
  },
  {
   "cell_type": "code",
   "execution_count": 3,
   "metadata": {},
   "outputs": [
    {
     "data": {
      "text/html": [
       "<div>\n",
       "<style scoped>\n",
       "    .dataframe tbody tr th:only-of-type {\n",
       "        vertical-align: middle;\n",
       "    }\n",
       "\n",
       "    .dataframe tbody tr th {\n",
       "        vertical-align: top;\n",
       "    }\n",
       "\n",
       "    .dataframe thead th {\n",
       "        text-align: right;\n",
       "    }\n",
       "</style>\n",
       "<table border=\"1\" class=\"dataframe\">\n",
       "  <thead>\n",
       "    <tr style=\"text-align: right;\">\n",
       "      <th></th>\n",
       "      <th>condition</th>\n",
       "    </tr>\n",
       "    <tr>\n",
       "      <th>observations</th>\n",
       "      <th></th>\n",
       "    </tr>\n",
       "  </thead>\n",
       "  <tbody>\n",
       "    <tr>\n",
       "      <th>0</th>\n",
       "      <td>0</td>\n",
       "    </tr>\n",
       "    <tr>\n",
       "      <th>1</th>\n",
       "      <td>1</td>\n",
       "    </tr>\n",
       "    <tr>\n",
       "      <th>2</th>\n",
       "      <td>0</td>\n",
       "    </tr>\n",
       "    <tr>\n",
       "      <th>3</th>\n",
       "      <td>1</td>\n",
       "    </tr>\n",
       "    <tr>\n",
       "      <th>4</th>\n",
       "      <td>0</td>\n",
       "    </tr>\n",
       "    <tr>\n",
       "      <th>5</th>\n",
       "      <td>1</td>\n",
       "    </tr>\n",
       "    <tr>\n",
       "      <th>6</th>\n",
       "      <td>0</td>\n",
       "    </tr>\n",
       "    <tr>\n",
       "      <th>7</th>\n",
       "      <td>1</td>\n",
       "    </tr>\n",
       "    <tr>\n",
       "      <th>8</th>\n",
       "      <td>0</td>\n",
       "    </tr>\n",
       "    <tr>\n",
       "      <th>9</th>\n",
       "      <td>1</td>\n",
       "    </tr>\n",
       "  </tbody>\n",
       "</table>\n",
       "</div>"
      ],
      "text/plain": [
       "             condition\n",
       "observations          \n",
       "0                    0\n",
       "1                    1\n",
       "2                    0\n",
       "3                    1\n",
       "4                    0\n",
       "5                    1\n",
       "6                    0\n",
       "7                    1\n",
       "8                    0\n",
       "9                    1"
      ]
     },
     "execution_count": 3,
     "metadata": {},
     "output_type": "execute_result"
    }
   ],
   "source": [
    "sample_description.iloc[:10,:]"
   ]
  },
  {
   "cell_type": "markdown",
   "metadata": {},
   "source": [
    "# Run differential expression test:\n",
    "\n",
    "The wald test checks if a certain coefficient introduces a significant difference in the expression of a gene.\n",
    "\n",
    "It needs a statistical formula `formula` which describes the setup of the model and the factor of the formula `factor_loc_totest` which should be tested.\n",
    "\n",
    "Usually, this factor divides the samples into two groups, e.g. `condition 0` and `condition 1`.\n",
    "In this case, diffxpy will automatically choose the coefficient to test.\n",
    "If there are more than two groups specified by the factor, the coefficient which should be tested has to be set manually by specifying `coef_totest`. This coefficient should refer to one of the groups specified by `factor_loc_totest`, e.g. `condition 1`.\n"
   ]
  },
  {
   "cell_type": "code",
   "execution_count": 4,
   "metadata": {},
   "outputs": [
    {
     "name": "stdout",
     "output_type": "stream",
     "text": [
      "Estimating model...\n",
      "Using closed-form MLE initialization for mean\n",
      "Using closed-form MME initialization for dispersion\n",
      "training strategy: [{'learning_rate': 0.01, 'convergence_criteria': 't_test', 'stop_at_loss_change': 0.25, 'loss_window_size': 10, 'use_batching': False, 'optim_algo': 'GD'}]\n",
      "Beginning with training sequence #1\n",
      "Training sequence #1 complete\n",
      "Estimating model ready\n"
     ]
    }
   ],
   "source": [
    "logging.getLogger(\"tensorflow\").setLevel(logging.ERROR)\n",
    "logging.getLogger(\"batchglm\").setLevel(logging.INFO)\n",
    "logging.getLogger(\"diffxpy\").setLevel(logging.INFO)\n",
    "\n",
    "import diffxpy.api as de\n",
    "\n",
    "test = de.test.wald(\n",
    "    data=X,\n",
    "    formula=\"~ 1 + condition\",\n",
    "    factor_loc_totest=\"condition\",\n",
    "    sample_description=sample_description\n",
    ")\n"
   ]
  },
  {
   "cell_type": "markdown",
   "metadata": {},
   "source": [
    "# Obtaining the results\n",
    "\n",
    "The p-/q-values can be obtained by calling test.pval / test.qval:"
   ]
  },
  {
   "cell_type": "code",
   "execution_count": 5,
   "metadata": {},
   "outputs": [
    {
     "data": {
      "text/plain": [
       "array([1.20720579e-04, 2.84856444e-02, 4.40443539e-03, 3.02452266e-06,\n",
       "       3.45320336e-05, 2.77350527e-02, 3.04564574e-07, 1.52408313e-03,\n",
       "       6.48927962e-01, 1.47101127e-06, 3.44115405e-04, 0.00000000e+00,\n",
       "       1.86073379e-12, 0.00000000e+00, 7.62357876e-03, 1.51846519e-01,\n",
       "       1.07046286e-04, 2.44259057e-10, 5.24553136e-04, 3.06204756e-05,\n",
       "       6.62239795e-02, 1.99840144e-13, 3.54666387e-03, 6.69394598e-03,\n",
       "       1.43620569e-05, 3.27594172e-05, 5.72688848e-01, 9.87237249e-03,\n",
       "       1.40777196e-04, 5.59093378e-01, 8.19124440e-01, 5.10758973e-01,\n",
       "       1.96794844e-05, 3.68704010e-01, 5.13706724e-12, 6.73645037e-01,\n",
       "       3.28925120e-04, 7.50180126e-05, 1.77034347e-09, 1.83138142e-01,\n",
       "       9.77803056e-01, 8.61600957e-07, 3.83042943e-01, 1.46381948e-01,\n",
       "       6.70688350e-01, 7.57248749e-01, 9.08591904e-01, 2.29251171e-05,\n",
       "       5.20232000e-01, 0.00000000e+00, 2.07324621e-08, 3.65172469e-05,\n",
       "       0.00000000e+00, 0.00000000e+00, 0.00000000e+00, 2.21067609e-10,\n",
       "       2.11239397e-01, 7.59338466e-01, 7.57248749e-01, 5.03714601e-03,\n",
       "       4.16536947e-02, 1.46546107e-01, 1.43596123e-01, 9.08591904e-01,\n",
       "       0.00000000e+00, 2.23599125e-06, 4.38991851e-03, 1.37929820e-01,\n",
       "       1.78595746e-05, 3.70074342e-14, 1.96370697e-12, 5.10758973e-01,\n",
       "       8.25163247e-03, 1.22861823e-04, 4.60236787e-11, 3.73124425e-01,\n",
       "       1.22861823e-04, 3.75955500e-05, 1.43260669e-04, 3.90859471e-01,\n",
       "       1.67747689e-02, 2.18162630e-05, 6.48927962e-01, 4.94067870e-01,\n",
       "       1.48476786e-09, 0.00000000e+00, 2.01858732e-14, 1.59398192e-02,\n",
       "       5.06819716e-02, 0.00000000e+00, 6.99440506e-13, 5.62448431e-01,\n",
       "       7.02178364e-02, 1.94418395e-07, 5.70286424e-02, 9.77803056e-01,\n",
       "       4.80836483e-07, 1.07046286e-04, 0.00000000e+00, 5.81039599e-01])"
      ]
     },
     "execution_count": 5,
     "metadata": {},
     "output_type": "execute_result"
    }
   ],
   "source": [
    "test.qval\n"
   ]
  },
  {
   "cell_type": "markdown",
   "metadata": {},
   "source": [
    "test.summary() returns a pandas DataFrame with a quick overview of the test results:"
   ]
  },
  {
   "cell_type": "code",
   "execution_count": 6,
   "metadata": {},
   "outputs": [
    {
     "data": {
      "text/html": [
       "<div>\n",
       "<style scoped>\n",
       "    .dataframe tbody tr th:only-of-type {\n",
       "        vertical-align: middle;\n",
       "    }\n",
       "\n",
       "    .dataframe tbody tr th {\n",
       "        vertical-align: top;\n",
       "    }\n",
       "\n",
       "    .dataframe thead th {\n",
       "        text-align: right;\n",
       "    }\n",
       "</style>\n",
       "<table border=\"1\" class=\"dataframe\">\n",
       "  <thead>\n",
       "    <tr style=\"text-align: right;\">\n",
       "      <th></th>\n",
       "      <th>gene</th>\n",
       "      <th>pval</th>\n",
       "      <th>qval</th>\n",
       "      <th>log2fc</th>\n",
       "      <th>grad</th>\n",
       "      <th>coef_mle</th>\n",
       "      <th>coef_sd</th>\n",
       "      <th>ll</th>\n",
       "    </tr>\n",
       "  </thead>\n",
       "  <tbody>\n",
       "    <tr>\n",
       "      <th>0</th>\n",
       "      <td>0</td>\n",
       "      <td>5.311705e-05</td>\n",
       "      <td>1.207206e-04</td>\n",
       "      <td>-0.063343</td>\n",
       "      <td>8.812908</td>\n",
       "      <td>-0.063343</td>\n",
       "      <td>0.015673</td>\n",
       "      <td>-15912.001953</td>\n",
       "    </tr>\n",
       "    <tr>\n",
       "      <th>1</th>\n",
       "      <td>1</td>\n",
       "      <td>1.823081e-02</td>\n",
       "      <td>2.848564e-02</td>\n",
       "      <td>0.034946</td>\n",
       "      <td>8.812908</td>\n",
       "      <td>0.034946</td>\n",
       "      <td>0.014802</td>\n",
       "      <td>-14812.450195</td>\n",
       "    </tr>\n",
       "    <tr>\n",
       "      <th>2</th>\n",
       "      <td>2</td>\n",
       "      <td>2.422439e-03</td>\n",
       "      <td>4.404435e-03</td>\n",
       "      <td>-0.040474</td>\n",
       "      <td>8.812908</td>\n",
       "      <td>-0.040474</td>\n",
       "      <td>0.013345</td>\n",
       "      <td>-16431.558594</td>\n",
       "    </tr>\n",
       "    <tr>\n",
       "      <th>3</th>\n",
       "      <td>3</td>\n",
       "      <td>9.073568e-07</td>\n",
       "      <td>3.024523e-06</td>\n",
       "      <td>-0.128248</td>\n",
       "      <td>8.812908</td>\n",
       "      <td>-0.128248</td>\n",
       "      <td>0.026116</td>\n",
       "      <td>-18662.337891</td>\n",
       "    </tr>\n",
       "    <tr>\n",
       "      <th>4</th>\n",
       "      <td>4</td>\n",
       "      <td>1.312217e-05</td>\n",
       "      <td>3.453203e-05</td>\n",
       "      <td>-0.118760</td>\n",
       "      <td>8.812908</td>\n",
       "      <td>-0.118760</td>\n",
       "      <td>0.027251</td>\n",
       "      <td>-18676.968750</td>\n",
       "    </tr>\n",
       "    <tr>\n",
       "      <th>5</th>\n",
       "      <td>5</td>\n",
       "      <td>1.747308e-02</td>\n",
       "      <td>2.773505e-02</td>\n",
       "      <td>0.109713</td>\n",
       "      <td>8.812908</td>\n",
       "      <td>0.109713</td>\n",
       "      <td>0.046164</td>\n",
       "      <td>-18352.365234</td>\n",
       "    </tr>\n",
       "    <tr>\n",
       "      <th>6</th>\n",
       "      <td>6</td>\n",
       "      <td>7.614114e-08</td>\n",
       "      <td>3.045646e-07</td>\n",
       "      <td>-0.115687</td>\n",
       "      <td>8.812908</td>\n",
       "      <td>-0.115687</td>\n",
       "      <td>0.021519</td>\n",
       "      <td>-18597.625000</td>\n",
       "    </tr>\n",
       "    <tr>\n",
       "      <th>7</th>\n",
       "      <td>7</td>\n",
       "      <td>7.925232e-04</td>\n",
       "      <td>1.524083e-03</td>\n",
       "      <td>0.075787</td>\n",
       "      <td>8.812908</td>\n",
       "      <td>0.075787</td>\n",
       "      <td>0.022587</td>\n",
       "      <td>-17604.650391</td>\n",
       "    </tr>\n",
       "    <tr>\n",
       "      <th>8</th>\n",
       "      <td>8</td>\n",
       "      <td>5.840352e-01</td>\n",
       "      <td>6.489280e-01</td>\n",
       "      <td>0.013889</td>\n",
       "      <td>8.812908</td>\n",
       "      <td>0.013889</td>\n",
       "      <td>0.025368</td>\n",
       "      <td>-18431.951172</td>\n",
       "    </tr>\n",
       "    <tr>\n",
       "      <th>9</th>\n",
       "      <td>9</td>\n",
       "      <td>4.118832e-07</td>\n",
       "      <td>1.471011e-06</td>\n",
       "      <td>-0.100409</td>\n",
       "      <td>8.812908</td>\n",
       "      <td>-0.100409</td>\n",
       "      <td>0.019830</td>\n",
       "      <td>-17982.328125</td>\n",
       "    </tr>\n",
       "  </tbody>\n",
       "</table>\n",
       "</div>"
      ],
      "text/plain": [
       "   gene          pval          qval    log2fc      grad  coef_mle   coef_sd  \\\n",
       "0     0  5.311705e-05  1.207206e-04 -0.063343  8.812908 -0.063343  0.015673   \n",
       "1     1  1.823081e-02  2.848564e-02  0.034946  8.812908  0.034946  0.014802   \n",
       "2     2  2.422439e-03  4.404435e-03 -0.040474  8.812908 -0.040474  0.013345   \n",
       "3     3  9.073568e-07  3.024523e-06 -0.128248  8.812908 -0.128248  0.026116   \n",
       "4     4  1.312217e-05  3.453203e-05 -0.118760  8.812908 -0.118760  0.027251   \n",
       "5     5  1.747308e-02  2.773505e-02  0.109713  8.812908  0.109713  0.046164   \n",
       "6     6  7.614114e-08  3.045646e-07 -0.115687  8.812908 -0.115687  0.021519   \n",
       "7     7  7.925232e-04  1.524083e-03  0.075787  8.812908  0.075787  0.022587   \n",
       "8     8  5.840352e-01  6.489280e-01  0.013889  8.812908  0.013889  0.025368   \n",
       "9     9  4.118832e-07  1.471011e-06 -0.100409  8.812908 -0.100409  0.019830   \n",
       "\n",
       "             ll  \n",
       "0 -15912.001953  \n",
       "1 -14812.450195  \n",
       "2 -16431.558594  \n",
       "3 -18662.337891  \n",
       "4 -18676.968750  \n",
       "5 -18352.365234  \n",
       "6 -18597.625000  \n",
       "7 -17604.650391  \n",
       "8 -18431.951172  \n",
       "9 -17982.328125  "
      ]
     },
     "execution_count": 6,
     "metadata": {},
     "output_type": "execute_result"
    }
   ],
   "source": [
    "test.summary().iloc[:10,:]"
   ]
  },
  {
   "cell_type": "markdown",
   "metadata": {},
   "source": [
    "- `gene`: gene name / identifier\n",
    "- `pval`: p-value of the gene\n",
    "- `qval`: multiple testing - corrected p-value of the gene\n",
    "- `log2fc`: log_2 fold change between `no coefficient` and `coefficient`\n",
    "- `grad`: the gradient of the gene's log-likelihood\n",
    "- `coef_mle` the maximum-likelihood estimate of the coefficient in liker-space\n",
    "- `coef_sd` the standard deviation of the coefficient in liker-space\n",
    "- `ll`: the log-likelihood of the estimation"
   ]
  },
  {
   "cell_type": "markdown",
   "metadata": {},
   "source": [
    "`test.plot_volcano()` creates a volcano plot of p-values vs. fold-change:"
   ]
  },
  {
   "cell_type": "code",
   "execution_count": 7,
   "metadata": {
    "scrolled": true
   },
   "outputs": [
    {
     "data": {
      "image/png": "[encoded data removed]",
      "text/plain": [
       "<Figure size 432x288 with 1 Axes>"
      ]
     },
     "metadata": {},
     "output_type": "display_data"
    }
   ],
   "source": [
    "test.plot_volcano()"
   ]
  },
  {
   "cell_type": "markdown",
   "metadata": {},
   "source": [
    "`plot_vs_ttest()` shows the correlation between t-test p-values and the wald test p-values"
   ]
  },
  {
   "cell_type": "code",
   "execution_count": 9,
   "metadata": {},
   "outputs": [
    {
     "data": {
      "text/plain": [
       "(<Figure size 432x288 with 1 Axes>,\n",
       " <matplotlib.axes._subplots.AxesSubplot at 0x10c2023c8>)"
      ]
     },
     "execution_count": 9,
     "metadata": {},
     "output_type": "execute_result"
    },
    {
     "data": {
      "image/png": "[encoded data removed]",
      "text/plain": [
       "<Figure size 432x288 with 1 Axes>"
      ]
     },
     "metadata": {},
     "output_type": "display_data"
    }
   ],
   "source": [
    "test.plot_vs_ttest()"
   ]
  },
  {
   "cell_type": "markdown",
   "metadata": {},
   "source": [
    "`test.plot_diagnostics()` is a shortcut to directly show all diagnostics plots."
   ]
  },
  {
   "cell_type": "code",
   "execution_count": 10,
   "metadata": {},
   "outputs": [
    {
     "data": {
      "image/png": "[encoded data removed]",
      "text/plain": [
       "<Figure size 432x288 with 1 Axes>"
      ]
     },
     "metadata": {},
     "output_type": "display_data"
    },
    {
     "data": {
      "image/png": "[encoded data removed]",
      "text/plain": [
       "<Figure size 432x288 with 1 Axes>"
      ]
     },
     "metadata": {},
     "output_type": "display_data"
    }
   ],
   "source": [
    "test.plot_diagnostics()"
   ]
  }
 ],
 "metadata": {
  "kernelspec": {
   "display_name": "Python 3",
   "language": "python",
   "name": "python3"
  },
  "language_info": {
   "codemirror_mode": {
    "name": "ipython",
    "version": 3
   },
   "file_extension": ".py",
   "mimetype": "text/x-python",
   "name": "python",
   "nbconvert_exporter": "python",
   "pygments_lexer": "ipython3",
   "version": "3.6.5"
  }
 },
 "nbformat": 4,
 "nbformat_minor": 1
}
