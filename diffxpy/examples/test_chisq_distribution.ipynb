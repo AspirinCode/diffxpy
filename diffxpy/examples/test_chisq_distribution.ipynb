{
 "cells": [
  {
   "cell_type": "code",
   "execution_count": null,
   "metadata": {},
   "outputs": [],
   "source": [
    "import logging\n",
    "\n",
    "import numpy as np\n",
    "import scipy.stats\n",
    "import pandas as pd\n",
    "\n",
    "%matplotlib inline\n",
    "import matplotlib.pyplot as plt\n",
    "import seaborn as sns\n"
   ]
  },
  {
   "cell_type": "markdown",
   "metadata": {},
   "source": [
    "Generate some data:"
   ]
  },
  {
   "cell_type": "code",
   "execution_count": 2,
   "metadata": {},
   "outputs": [],
   "source": [
    "from batchglm.api.models.nb_glm import Simulator\n",
    "\n",
    "sim = Simulator(num_observations=2000, num_features=2000)\n",
    "sim.generate_sample_description(num_batches=0, num_confounders=0)\n",
    "sim.generate()\n",
    "\n",
    "random_sample_description = pd.DataFrame({\n",
    "    \"condition\": np.random.randint(2, size=sim.num_observations)\n",
    "})\n"
   ]
  },
  {
   "cell_type": "markdown",
   "metadata": {},
   "source": [
    "Run differential expression test:"
   ]
  },
  {
   "cell_type": "code",
   "execution_count": 3,
   "metadata": {},
   "outputs": [
    {
     "name": "stdout",
     "output_type": "stream",
     "text": [
      "Estimating model...\n",
      "Using closed-form MLE initialization for mean\n",
      "Using closed-form MME initialization for dispersion\n",
      "From /home/hoelzlwimmerf/Masterarbeit/TensorFlow/batchglm/batchglm/train/tf/nb_glm/estimator.py:371: batch_and_drop_remainder (from tensorflow.contrib.data.python.ops.batching) is deprecated and will be removed in a future version.\n",
      "Instructions for updating:\n",
      "Use `tf.data.Dataset.batch(..., drop_remainder=True)`.\n",
      "From /home/hoelzlwimmerf/Masterarbeit/TensorFlow/batchglm/batchglm/train/tf/nb/util.py:46: NegativeBinomial.__init__ (from tensorflow.contrib.distributions.python.ops.negative_binomial) is deprecated and will be removed after 2018-10-01.\n",
      "Instructions for updating:\n",
      "The TensorFlow Distributions library has moved to TensorFlow Probability (https://github.com/tensorflow/probability). You should update all references to use `tfp.distributions` instead of `tf.contrib.distributions`.\n",
      "Beginning with training sequence #1\n",
      "Training sequence #1 complete\n",
      "Estimating model ready\n",
      "Estimating model...\n",
      "Beginning with training sequence #1\n",
      "Training sequence #1 complete\n",
      "Beginning with training sequence #2\n",
      "Training sequence #2 complete\n",
      "Estimating model ready\n"
     ]
    }
   ],
   "source": [
    "logging.getLogger(\"tensorflow\").setLevel(logging.WARNING)\n",
    "logging.getLogger(\"batchglm\").setLevel(logging.INFO)\n",
    "logging.getLogger(\"diffxpy\").setLevel(logging.INFO)\n",
    "\n",
    "import diffxpy as de\n",
    "\n",
    "\n",
    "test = de.test_lrt(\n",
    "    data=sim.X,\n",
    "    full_formula=\"~ 1 + condition\",\n",
    "    reduced_formula=\"~ 1\",\n",
    "    sample_description=random_sample_description\n",
    ")\n"
   ]
  },
  {
   "cell_type": "code",
   "execution_count": 7,
   "metadata": {},
   "outputs": [],
   "source": [
    "full_model = test.full_estim\n",
    "reduced_model = test.reduced_estim\n",
    "\n",
    "ll_full = np.sum(full_model.log_probs(), axis=0)\n",
    "ll_reduced = np.sum(reduced_model.log_probs(), axis=0)\n",
    "np.where(ll_full < ll_reduced)\n",
    "delta_df = 2 * (ll_full - ll_reduced)\n",
    "\n",
    "expected_dist = scipy.stats.chi2(full_model.design_loc.shape[-1] - reduced_model.design_loc.shape[-1])\n"
   ]
  },
  {
   "cell_type": "code",
   "execution_count": 8,
   "metadata": {},
   "outputs": [
    {
     "name": "stderr",
     "output_type": "stream",
     "text": [
      "/usr/lib/python3.6/site-packages/matplotlib/axes/_axes.py:6462: UserWarning: The 'normed' kwarg is deprecated, and has been replaced by the 'density' kwarg.\n",
      "  warnings.warn(\"The 'normed' kwarg is deprecated, and has been \"\n"
     ]
    },
    {
     "data": {
      "image/png": "[encoded data removed]",
      "text/plain": [
       "<Figure size 432x288 with 1 Axes>"
      ]
     },
     "metadata": {},
     "output_type": "display_data"
    }
   ],
   "source": [
    "fig, ax = plt.subplots()\n",
    "sns.distplot(delta_df, norm_hist=True, kde=False, bins=1000, ax=ax)\n",
    "\n",
    "xmin = np.min(delta_df)\n",
    "xmax = 10.\n",
    "ymax = 1.\n",
    "ax.set_xlim(xmin, xmax)\n",
    "ax.set_ylim(top=ymax)\n",
    "\n",
    "x = np.arange(0, xmax, xmax / 2000)\n",
    "ax.plot(x, expected_dist.pdf(x), label='chi²', linestyle=\":\")\n",
    "# ax.set_xscale(\"log\")\n",
    "\n",
    "plt.show()\n",
    "plt.close()\n",
    "\n"
   ]
  },
  {
   "cell_type": "code",
   "execution_count": null,
   "metadata": {},
   "outputs": [],
   "source": []
  }
 ],
 "metadata": {
  "kernelspec": {
   "display_name": "Python 3",
   "language": "python",
   "name": "python3"
  },
  "language_info": {
   "codemirror_mode": {
    "name": "ipython",
    "version": 3
   },
   "file_extension": ".py",
   "mimetype": "text/x-python",
   "name": "python",
   "nbconvert_exporter": "python",
   "pygments_lexer": "ipython3",
   "version": "3.6.6"
  }
 },
 "nbformat": 4,
 "nbformat_minor": 1
}
