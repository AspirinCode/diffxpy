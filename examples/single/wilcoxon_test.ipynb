{
 "cells": [
  {
   "cell_type": "code",
   "execution_count": 1,
   "metadata": {},
   "outputs": [
    {
     "name": "stderr",
     "output_type": "stream",
     "text": [
      "/Users/david.fischer/miniconda3/lib/python3.6/importlib/_bootstrap.py:219: RuntimeWarning: numpy.dtype size changed, may indicate binary incompatibility. Expected 96, got 88\n",
      "  return f(*args, **kwds)\n"
     ]
    }
   ],
   "source": [
    "%matplotlib inline\n",
    "import matplotlib.pyplot as plt\n",
    "import seaborn as sns\n",
    "import logging\n",
    "\n",
    "import scipy.stats\n",
    "import numpy as np"
   ]
  },
  {
   "cell_type": "markdown",
   "metadata": {},
   "source": [
    "# Generate some data:"
   ]
  },
  {
   "cell_type": "code",
   "execution_count": 2,
   "metadata": {},
   "outputs": [],
   "source": [
    "from batchglm.api.models.nb_glm import Simulator\n",
    "\n",
    "sim = Simulator(num_observations=2000, num_features=100)\n",
    "sim.generate_sample_description(num_batches=0, num_confounders=2)\n",
    "# sample parameters from positive truncated N(1, 0.1)\n",
    "mu=1; phi=0.1\n",
    "sim.generate_params(rand_fn_loc=lambda size: mu + scipy.stats.truncnorm.rvs(-mu / phi, np.infty, scale=phi, size=size))\n",
    "sim.generate_data()\n",
    "\n",
    "# count data\n",
    "X = sim.X\n",
    "# sample description\n",
    "sample_description = sim.sample_description"
   ]
  },
  {
   "cell_type": "markdown",
   "metadata": {},
   "source": [
    "The sample description should be a pandas DataFrame with `num_observations` rows.\n",
    "Each column should represent a property of the dataset.\n",
    "\n",
    "The module `batchglm.api.data` contains some helper functions which can be useful to create this sample description:\n",
    "\n",
    "- `sample_description_from_anndata()`\n",
    "- `sample_description_from_xarray()`"
   ]
  },
  {
   "cell_type": "code",
   "execution_count": 3,
   "metadata": {},
   "outputs": [
    {
     "data": {
      "text/html": [
       "<div>\n",
       "<style scoped>\n",
       "    .dataframe tbody tr th:only-of-type {\n",
       "        vertical-align: middle;\n",
       "    }\n",
       "\n",
       "    .dataframe tbody tr th {\n",
       "        vertical-align: top;\n",
       "    }\n",
       "\n",
       "    .dataframe thead th {\n",
       "        text-align: right;\n",
       "    }\n",
       "</style>\n",
       "<table border=\"1\" class=\"dataframe\">\n",
       "  <thead>\n",
       "    <tr style=\"text-align: right;\">\n",
       "      <th></th>\n",
       "      <th>condition</th>\n",
       "    </tr>\n",
       "    <tr>\n",
       "      <th>observations</th>\n",
       "      <th></th>\n",
       "    </tr>\n",
       "  </thead>\n",
       "  <tbody>\n",
       "    <tr>\n",
       "      <th>0</th>\n",
       "      <td>0</td>\n",
       "    </tr>\n",
       "    <tr>\n",
       "      <th>1</th>\n",
       "      <td>1</td>\n",
       "    </tr>\n",
       "    <tr>\n",
       "      <th>2</th>\n",
       "      <td>0</td>\n",
       "    </tr>\n",
       "    <tr>\n",
       "      <th>3</th>\n",
       "      <td>1</td>\n",
       "    </tr>\n",
       "    <tr>\n",
       "      <th>4</th>\n",
       "      <td>0</td>\n",
       "    </tr>\n",
       "    <tr>\n",
       "      <th>5</th>\n",
       "      <td>1</td>\n",
       "    </tr>\n",
       "    <tr>\n",
       "      <th>6</th>\n",
       "      <td>0</td>\n",
       "    </tr>\n",
       "    <tr>\n",
       "      <th>7</th>\n",
       "      <td>1</td>\n",
       "    </tr>\n",
       "    <tr>\n",
       "      <th>8</th>\n",
       "      <td>0</td>\n",
       "    </tr>\n",
       "    <tr>\n",
       "      <th>9</th>\n",
       "      <td>1</td>\n",
       "    </tr>\n",
       "  </tbody>\n",
       "</table>\n",
       "</div>"
      ],
      "text/plain": [
       "             condition\n",
       "observations          \n",
       "0                    0\n",
       "1                    1\n",
       "2                    0\n",
       "3                    1\n",
       "4                    0\n",
       "5                    1\n",
       "6                    0\n",
       "7                    1\n",
       "8                    0\n",
       "9                    1"
      ]
     },
     "execution_count": 3,
     "metadata": {},
     "output_type": "execute_result"
    }
   ],
   "source": [
    "sample_description.iloc[:10,:]"
   ]
  },
  {
   "cell_type": "markdown",
   "metadata": {},
   "source": [
    "# Run differential expression test:\n",
    "\n",
    "The wilcoxon test checks if two groups of samples differ significantly in one gene.\n",
    "\n",
    "Therefore, it has to be provided with a parameter `grouping` which specifies the group membership of each sample.\n",
    "It can be either the name of a column in `sample_description` or a vector of length `num_observations`.\n"
   ]
  },
  {
   "cell_type": "code",
   "execution_count": 4,
   "metadata": {},
   "outputs": [],
   "source": [
    "logging.getLogger(\"tensorflow\").setLevel(logging.ERROR)\n",
    "logging.getLogger(\"batchglm\").setLevel(logging.INFO)\n",
    "logging.getLogger(\"diffxpy\").setLevel(logging.INFO)\n",
    "\n",
    "import diffxpy.api as de\n",
    "\n",
    "test = de.test.wilcoxon(\n",
    "    data=X,\n",
    "    grouping=\"condition\",\n",
    "    sample_description=sample_description\n",
    ")\n"
   ]
  },
  {
   "cell_type": "markdown",
   "metadata": {},
   "source": [
    "# Obtaining the results\n",
    "\n",
    "The p-/q-values can be obtained by calling test.pval / test.qval:"
   ]
  },
  {
   "cell_type": "code",
   "execution_count": 5,
   "metadata": {},
   "outputs": [
    {
     "data": {
      "text/plain": [
       "array([1.13117243e-02, 3.83449700e-08, 1.43474808e-01, 2.42289237e-03,\n",
       "       1.69406759e-06, 1.77588676e-05, 2.59397504e-01, 3.68092203e-01,\n",
       "       2.54665417e-03, 3.41245896e-02, 3.53842780e-01, 2.31095917e-01,\n",
       "       1.67751715e-09, 5.70841556e-03, 3.03002642e-01, 2.77057240e-07,\n",
       "       7.97569771e-01, 4.35645788e-01, 2.59397504e-01, 1.89862437e-05,\n",
       "       6.34275557e-01, 7.22017834e-02, 2.03018732e-02, 3.58774919e-01,\n",
       "       7.21092937e-11, 7.97569771e-01, 4.05527096e-03, 3.18573874e-03,\n",
       "       1.12036279e-07, 8.66641733e-02, 5.86104557e-01, 1.95451481e-07,\n",
       "       7.97569771e-01, 8.74870818e-02, 2.54381206e-03, 4.94393548e-03,\n",
       "       8.31840735e-01, 2.13051639e-03, 7.92320425e-19, 1.00436873e-07,\n",
       "       9.56828884e-18, 1.49810494e-01, 4.29162241e-01, 2.18416439e-10,\n",
       "       1.67772426e-09, 3.67968082e-35, 6.81444304e-01, 8.23693511e-01,\n",
       "       2.59397504e-01, 3.60404373e-01, 2.71693654e-01, 1.04473846e-14,\n",
       "       3.61169206e-01, 6.88087728e-05, 1.17751345e-25, 1.84373230e-17,\n",
       "       3.93547042e-02, 6.12606036e-21, 1.55001402e-02, 7.70287078e-02,\n",
       "       1.28198943e-05, 2.51941042e-18, 5.68795715e-02, 3.94132890e-01,\n",
       "       3.41433262e-09, 2.25165258e-03, 7.11005240e-03, 1.08448992e-33,\n",
       "       7.97569771e-01, 3.41964406e-01, 5.62588910e-01, 2.58359566e-01,\n",
       "       7.22017834e-02, 2.29461280e-15, 7.36825467e-02, 2.81215198e-01,\n",
       "       3.50644589e-14, 8.92807068e-40, 9.38376526e-02, 2.14748664e-19,\n",
       "       7.07096793e-08, 3.87644131e-07, 3.91782191e-06, 3.72983378e-01,\n",
       "       3.85587415e-29, 1.03707516e-04, 2.04140471e-15, 1.63703312e-01,\n",
       "       1.75625912e-02, 2.06909364e-30, 7.40977321e-17, 7.85457401e-01,\n",
       "       6.43391345e-02, 8.27603347e-01, 1.74934984e-39, 2.17142333e-02,\n",
       "       2.45138615e-01, 1.37584618e-24, 1.08325213e-04, 1.27036290e-20])"
      ]
     },
     "execution_count": 5,
     "metadata": {},
     "output_type": "execute_result"
    }
   ],
   "source": [
    "test.qval"
   ]
  },
  {
   "cell_type": "markdown",
   "metadata": {},
   "source": [
    "test.summary() returns a pandas DataFrame with a quick overview of the test results:"
   ]
  },
  {
   "cell_type": "code",
   "execution_count": 6,
   "metadata": {},
   "outputs": [
    {
     "data": {
      "text/html": [
       "<div>\n",
       "<style scoped>\n",
       "    .dataframe tbody tr th:only-of-type {\n",
       "        vertical-align: middle;\n",
       "    }\n",
       "\n",
       "    .dataframe tbody tr th {\n",
       "        vertical-align: top;\n",
       "    }\n",
       "\n",
       "    .dataframe thead th {\n",
       "        text-align: right;\n",
       "    }\n",
       "</style>\n",
       "<table border=\"1\" class=\"dataframe\">\n",
       "  <thead>\n",
       "    <tr style=\"text-align: right;\">\n",
       "      <th></th>\n",
       "      <th>gene</th>\n",
       "      <th>pval</th>\n",
       "      <th>qval</th>\n",
       "      <th>log2fc</th>\n",
       "      <th>mean</th>\n",
       "    </tr>\n",
       "  </thead>\n",
       "  <tbody>\n",
       "    <tr>\n",
       "      <th>0</th>\n",
       "      <td>0</td>\n",
       "      <td>5.768979e-03</td>\n",
       "      <td>1.131172e-02</td>\n",
       "      <td>-0.065629</td>\n",
       "      <td>8155.6290</td>\n",
       "    </tr>\n",
       "    <tr>\n",
       "      <th>1</th>\n",
       "      <td>1</td>\n",
       "      <td>9.969692e-09</td>\n",
       "      <td>3.834497e-08</td>\n",
       "      <td>0.109509</td>\n",
       "      <td>1660.2905</td>\n",
       "    </tr>\n",
       "    <tr>\n",
       "      <th>2</th>\n",
       "      <td>2</td>\n",
       "      <td>9.612812e-02</td>\n",
       "      <td>1.434748e-01</td>\n",
       "      <td>-0.047769</td>\n",
       "      <td>5359.1945</td>\n",
       "    </tr>\n",
       "    <tr>\n",
       "      <th>3</th>\n",
       "      <td>3</td>\n",
       "      <td>1.041844e-03</td>\n",
       "      <td>2.422892e-03</td>\n",
       "      <td>0.099434</td>\n",
       "      <td>63.0085</td>\n",
       "    </tr>\n",
       "    <tr>\n",
       "      <th>4</th>\n",
       "      <td>4</td>\n",
       "      <td>5.590423e-07</td>\n",
       "      <td>1.694068e-06</td>\n",
       "      <td>0.065207</td>\n",
       "      <td>1397.6175</td>\n",
       "    </tr>\n",
       "    <tr>\n",
       "      <th>5</th>\n",
       "      <td>5</td>\n",
       "      <td>6.393192e-06</td>\n",
       "      <td>1.775887e-05</td>\n",
       "      <td>-0.082856</td>\n",
       "      <td>8011.7850</td>\n",
       "    </tr>\n",
       "    <tr>\n",
       "      <th>6</th>\n",
       "      <td>6</td>\n",
       "      <td>1.945481e-01</td>\n",
       "      <td>2.593975e-01</td>\n",
       "      <td>-0.047952</td>\n",
       "      <td>8508.2290</td>\n",
       "    </tr>\n",
       "    <tr>\n",
       "      <th>7</th>\n",
       "      <td>7</td>\n",
       "      <td>3.091975e-01</td>\n",
       "      <td>3.680922e-01</td>\n",
       "      <td>-0.019498</td>\n",
       "      <td>9119.4375</td>\n",
       "    </tr>\n",
       "    <tr>\n",
       "      <th>8</th>\n",
       "      <td>8</td>\n",
       "      <td>1.145994e-03</td>\n",
       "      <td>2.546654e-03</td>\n",
       "      <td>0.125963</td>\n",
       "      <td>895.8970</td>\n",
       "    </tr>\n",
       "    <tr>\n",
       "      <th>9</th>\n",
       "      <td>9</td>\n",
       "      <td>1.910977e-02</td>\n",
       "      <td>3.412459e-02</td>\n",
       "      <td>-0.038616</td>\n",
       "      <td>7185.7295</td>\n",
       "    </tr>\n",
       "  </tbody>\n",
       "</table>\n",
       "</div>"
      ],
      "text/plain": [
       "   gene          pval          qval    log2fc       mean\n",
       "0     0  5.768979e-03  1.131172e-02 -0.065629  8155.6290\n",
       "1     1  9.969692e-09  3.834497e-08  0.109509  1660.2905\n",
       "2     2  9.612812e-02  1.434748e-01 -0.047769  5359.1945\n",
       "3     3  1.041844e-03  2.422892e-03  0.099434    63.0085\n",
       "4     4  5.590423e-07  1.694068e-06  0.065207  1397.6175\n",
       "5     5  6.393192e-06  1.775887e-05 -0.082856  8011.7850\n",
       "6     6  1.945481e-01  2.593975e-01 -0.047952  8508.2290\n",
       "7     7  3.091975e-01  3.680922e-01 -0.019498  9119.4375\n",
       "8     8  1.145994e-03  2.546654e-03  0.125963   895.8970\n",
       "9     9  1.910977e-02  3.412459e-02 -0.038616  7185.7295"
      ]
     },
     "execution_count": 6,
     "metadata": {},
     "output_type": "execute_result"
    }
   ],
   "source": [
    "test.summary().iloc[:10,:]"
   ]
  },
  {
   "cell_type": "markdown",
   "metadata": {},
   "source": [
    "- `gene`: gene name / identifier\n",
    "- `pval`: p-value of the gene\n",
    "- `qval`: multiple testing - corrected p-value of the gene\n",
    "- `log2fc`: log_2 fold change between `no coefficient` and `coefficient`"
   ]
  },
  {
   "cell_type": "markdown",
   "metadata": {},
   "source": [
    "`test.plot_volcano()` creates a volcano plot of p-values vs. fold-change:"
   ]
  },
  {
   "cell_type": "code",
   "execution_count": 7,
   "metadata": {
    "scrolled": true
   },
   "outputs": [
    {
     "data": {
      "text/plain": [
       "(<Figure size 432x288 with 1 Axes>,\n",
       " <matplotlib.axes._subplots.AxesSubplot at 0x1c23592a90>)"
      ]
     },
     "execution_count": 7,
     "metadata": {},
     "output_type": "execute_result"
    },
    {
     "data": {
      "image/png": "[encoded data removed]",
      "text/plain": [
       "<Figure size 432x288 with 1 Axes>"
      ]
     },
     "metadata": {},
     "output_type": "display_data"
    }
   ],
   "source": [
    "test.plot_volcano()"
   ]
  },
  {
   "cell_type": "markdown",
   "metadata": {},
   "source": [
    "`plot_vs_ttest()` shows the correlation between t-test p-values and the wald test p-values"
   ]
  },
  {
   "cell_type": "code",
   "execution_count": 8,
   "metadata": {
    "scrolled": true
   },
   "outputs": [
    {
     "data": {
      "text/plain": [
       "(<Figure size 432x288 with 1 Axes>,\n",
       " <matplotlib.axes._subplots.AxesSubplot at 0x1c2563ccf8>)"
      ]
     },
     "execution_count": 8,
     "metadata": {},
     "output_type": "execute_result"
    },
    {
     "data": {
      "image/png": "[encoded data removed]",
      "text/plain": [
       "<Figure size 432x288 with 1 Axes>"
      ]
     },
     "metadata": {},
     "output_type": "display_data"
    }
   ],
   "source": [
    "test.plot_vs_ttest()"
   ]
  },
  {
   "cell_type": "markdown",
   "metadata": {},
   "source": [
    "`test.plot_diagnostics()` is a shortcut to directly show all diagnostics plots."
   ]
  },
  {
   "cell_type": "code",
   "execution_count": 9,
   "metadata": {},
   "outputs": [
    {
     "data": {
      "image/png": "[encoded data removed]",
      "text/plain": [
       "<Figure size 432x288 with 1 Axes>"
      ]
     },
     "metadata": {},
     "output_type": "display_data"
    },
    {
     "data": {
      "image/png": "[encoded data removed]",
      "text/plain": [
       "<Figure size 432x288 with 1 Axes>"
      ]
     },
     "metadata": {},
     "output_type": "display_data"
    }
   ],
   "source": [
    "test.plot_diagnostics()"
   ]
  }
 ],
 "metadata": {
  "kernelspec": {
   "display_name": "Python 3",
   "language": "python",
   "name": "python3"
  },
  "language_info": {
   "codemirror_mode": {
    "name": "ipython",
    "version": 3
   },
   "file_extension": ".py",
   "mimetype": "text/x-python",
   "name": "python",
   "nbconvert_exporter": "python",
   "pygments_lexer": "ipython3",
   "version": "3.6.5"
  }
 },
 "nbformat": 4,
 "nbformat_minor": 1
}
