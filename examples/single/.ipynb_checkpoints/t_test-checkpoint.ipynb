{
 "cells": [
  {
   "cell_type": "code",
   "execution_count": 1,
   "metadata": {},
   "outputs": [
    {
     "name": "stderr",
     "output_type": "stream",
     "text": [
      "/Users/david.fischer/miniconda3/lib/python3.6/importlib/_bootstrap.py:219: RuntimeWarning: numpy.dtype size changed, may indicate binary incompatibility. Expected 96, got 88\n",
      "  return f(*args, **kwds)\n"
     ]
    }
   ],
   "source": [
    "%matplotlib inline\n",
    "import matplotlib.pyplot as plt\n",
    "import seaborn as sns\n",
    "import logging\n",
    "\n",
    "import scipy.stats\n",
    "import numpy as np"
   ]
  },
  {
   "cell_type": "markdown",
   "metadata": {},
   "source": [
    "# Generate some data:"
   ]
  },
  {
   "cell_type": "code",
   "execution_count": 2,
   "metadata": {},
   "outputs": [],
   "source": [
    "from batchglm.api.models.nb_glm import Simulator\n",
    "\n",
    "sim = Simulator(num_observations=2000, num_features=100)\n",
    "sim.generate_sample_description(num_batches=0, num_confounders=2)\n",
    "# sample parameters from positive truncated N(1, 0.1)\n",
    "mu=1; phi=0.1\n",
    "sim.generate_params(rand_fn_loc=lambda size: mu + scipy.stats.truncnorm.rvs(-mu / phi, np.infty, scale=phi, size=size))\n",
    "sim.generate_data()\n",
    "\n",
    "# count data\n",
    "X = sim.X\n",
    "# sample description\n",
    "sample_description = sim.sample_description"
   ]
  },
  {
   "cell_type": "markdown",
   "metadata": {},
   "source": [
    "The sample description should be a pandas DataFrame with `num_observations` rows.\n",
    "Each column should represent a property of the dataset.\n",
    "\n",
    "The module `batchglm.api.data` contains some helper functions which can be useful to create this sample description:\n",
    "\n",
    "- `sample_description_from_anndata()`\n",
    "- `sample_description_from_xarray()`"
   ]
  },
  {
   "cell_type": "code",
   "execution_count": 3,
   "metadata": {},
   "outputs": [
    {
     "data": {
      "text/html": [
       "<div>\n",
       "<style scoped>\n",
       "    .dataframe tbody tr th:only-of-type {\n",
       "        vertical-align: middle;\n",
       "    }\n",
       "\n",
       "    .dataframe tbody tr th {\n",
       "        vertical-align: top;\n",
       "    }\n",
       "\n",
       "    .dataframe thead th {\n",
       "        text-align: right;\n",
       "    }\n",
       "</style>\n",
       "<table border=\"1\" class=\"dataframe\">\n",
       "  <thead>\n",
       "    <tr style=\"text-align: right;\">\n",
       "      <th></th>\n",
       "      <th>condition</th>\n",
       "    </tr>\n",
       "    <tr>\n",
       "      <th>observations</th>\n",
       "      <th></th>\n",
       "    </tr>\n",
       "  </thead>\n",
       "  <tbody>\n",
       "    <tr>\n",
       "      <th>0</th>\n",
       "      <td>0</td>\n",
       "    </tr>\n",
       "    <tr>\n",
       "      <th>1</th>\n",
       "      <td>1</td>\n",
       "    </tr>\n",
       "    <tr>\n",
       "      <th>2</th>\n",
       "      <td>0</td>\n",
       "    </tr>\n",
       "    <tr>\n",
       "      <th>3</th>\n",
       "      <td>1</td>\n",
       "    </tr>\n",
       "    <tr>\n",
       "      <th>4</th>\n",
       "      <td>0</td>\n",
       "    </tr>\n",
       "    <tr>\n",
       "      <th>5</th>\n",
       "      <td>1</td>\n",
       "    </tr>\n",
       "    <tr>\n",
       "      <th>6</th>\n",
       "      <td>0</td>\n",
       "    </tr>\n",
       "    <tr>\n",
       "      <th>7</th>\n",
       "      <td>1</td>\n",
       "    </tr>\n",
       "    <tr>\n",
       "      <th>8</th>\n",
       "      <td>0</td>\n",
       "    </tr>\n",
       "    <tr>\n",
       "      <th>9</th>\n",
       "      <td>1</td>\n",
       "    </tr>\n",
       "  </tbody>\n",
       "</table>\n",
       "</div>"
      ],
      "text/plain": [
       "             condition\n",
       "observations          \n",
       "0                    0\n",
       "1                    1\n",
       "2                    0\n",
       "3                    1\n",
       "4                    0\n",
       "5                    1\n",
       "6                    0\n",
       "7                    1\n",
       "8                    0\n",
       "9                    1"
      ]
     },
     "execution_count": 3,
     "metadata": {},
     "output_type": "execute_result"
    }
   ],
   "source": [
    "sample_description.iloc[:10,:]"
   ]
  },
  {
   "cell_type": "markdown",
   "metadata": {},
   "source": [
    "# Run differential expression test:\n",
    "\n",
    "The t-test checks if two groups of samples differ significantly in one gene.\n",
    "\n",
    "Therefore, it has to be provided with a parameter `grouping` which specifies the group membership of each sample.\n",
    "It can be either the name of a column in `sample_description` or a vector of length `num_observations`.\n"
   ]
  },
  {
   "cell_type": "code",
   "execution_count": 4,
   "metadata": {},
   "outputs": [],
   "source": [
    "logging.getLogger(\"tensorflow\").setLevel(logging.ERROR)\n",
    "logging.getLogger(\"batchglm\").setLevel(logging.INFO)\n",
    "logging.getLogger(\"diffxpy\").setLevel(logging.INFO)\n",
    "\n",
    "import diffxpy.api as de\n",
    "\n",
    "test = de.test.t_test(\n",
    "    data=X,\n",
    "    grouping=\"condition\",\n",
    "    sample_description=sample_description\n",
    ")\n"
   ]
  },
  {
   "cell_type": "markdown",
   "metadata": {},
   "source": [
    "# Obtaining the results\n",
    "\n",
    "The p-/q-values can be obtained by calling test.pval / test.qval:"
   ]
  },
  {
   "cell_type": "code",
   "execution_count": 5,
   "metadata": {},
   "outputs": [
    {
     "data": {
      "text/plain": [
       "array([5.12004236e-01, 1.48081308e-06, 1.54671721e-01, 0.00000000e+00,\n",
       "       1.92113682e-01, 3.29441461e-03, 1.86959478e-07, 0.00000000e+00,\n",
       "       3.64887297e-01, 7.39829455e-06, 0.00000000e+00, 1.82238382e-07,\n",
       "       1.83567465e-02, 1.88241971e-01, 4.08932147e-13, 0.00000000e+00,\n",
       "       6.13627535e-03, 1.04258189e-01, 5.25687881e-01, 7.76578125e-07,\n",
       "       7.92756685e-02, 3.90230367e-02, 3.44997431e-01, 1.38223967e-01,\n",
       "       7.60602206e-02, 8.50553573e-02, 0.00000000e+00, 1.65513630e-03,\n",
       "       1.12328451e-04, 6.67973673e-06, 1.38223967e-01, 0.00000000e+00,\n",
       "       2.01163036e-05, 1.01212926e-01, 1.54671721e-01, 6.30691199e-01,\n",
       "       7.46533937e-01, 3.61421879e-03, 2.01387416e-01, 2.01387416e-01,\n",
       "       6.16315812e-01, 5.29418230e-03, 5.54825368e-01, 5.29418230e-03,\n",
       "       5.49409639e-01, 1.64288332e-01, 1.12183465e-10, 6.45637390e-13,\n",
       "       1.49189851e-01, 1.18154489e-02, 9.38096822e-11, 6.52580031e-01,\n",
       "       2.28357016e-11, 2.73476441e-04, 1.21472423e-09, 3.79030141e-11,\n",
       "       6.52580031e-01, 2.95393321e-04, 2.04878152e-02, 6.83656861e-06,\n",
       "       7.46533937e-01, 1.96632890e-06, 1.47102937e-02, 6.90078165e-02,\n",
       "       6.60928300e-01, 1.91842199e-08, 6.45855471e-01, 1.25546651e-02,\n",
       "       1.65513630e-03, 9.64145174e-02, 4.58084591e-01, 0.00000000e+00,\n",
       "       3.83531590e-14, 1.54671721e-01, 1.75764817e-01, 1.12328451e-04,\n",
       "       7.77619891e-06, 6.16515350e-07, 1.88241971e-01, 1.77635684e-14,\n",
       "       4.69074918e-03, 7.01880687e-03, 1.13113115e-02, 2.93952961e-01,\n",
       "       3.90730245e-01, 4.15795448e-01, 4.19231598e-06, 1.01212926e-01,\n",
       "       0.00000000e+00, 6.86309034e-10, 2.59585792e-09, 7.39829455e-06,\n",
       "       2.01387416e-01, 7.33772727e-02, 1.97121495e-01, 2.09251453e-01,\n",
       "       3.14517986e-07, 0.00000000e+00, 1.86966331e-09, 1.22943672e-02])"
      ]
     },
     "execution_count": 5,
     "metadata": {},
     "output_type": "execute_result"
    }
   ],
   "source": [
    "test.qval"
   ]
  },
  {
   "cell_type": "markdown",
   "metadata": {},
   "source": [
    "test.summary() returns a pandas DataFrame with a quick overview of the test results:"
   ]
  },
  {
   "cell_type": "code",
   "execution_count": 6,
   "metadata": {},
   "outputs": [
    {
     "data": {
      "text/html": [
       "<div>\n",
       "<style scoped>\n",
       "    .dataframe tbody tr th:only-of-type {\n",
       "        vertical-align: middle;\n",
       "    }\n",
       "\n",
       "    .dataframe tbody tr th {\n",
       "        vertical-align: top;\n",
       "    }\n",
       "\n",
       "    .dataframe thead th {\n",
       "        text-align: right;\n",
       "    }\n",
       "</style>\n",
       "<table border=\"1\" class=\"dataframe\">\n",
       "  <thead>\n",
       "    <tr style=\"text-align: right;\">\n",
       "      <th></th>\n",
       "      <th>gene</th>\n",
       "      <th>pval</th>\n",
       "      <th>qval</th>\n",
       "      <th>log2fc</th>\n",
       "      <th>zero_mean</th>\n",
       "      <th>zero_variance</th>\n",
       "    </tr>\n",
       "  </thead>\n",
       "  <tbody>\n",
       "    <tr>\n",
       "      <th>0</th>\n",
       "      <td>0</td>\n",
       "      <td>4.556838e-01</td>\n",
       "      <td>5.120042e-01</td>\n",
       "      <td>0.017570</td>\n",
       "      <td>False</td>\n",
       "      <td>False</td>\n",
       "    </tr>\n",
       "    <tr>\n",
       "      <th>1</th>\n",
       "      <td>1</td>\n",
       "      <td>4.146277e-07</td>\n",
       "      <td>1.480813e-06</td>\n",
       "      <td>-0.136378</td>\n",
       "      <td>False</td>\n",
       "      <td>False</td>\n",
       "    </tr>\n",
       "    <tr>\n",
       "      <th>2</th>\n",
       "      <td>2</td>\n",
       "      <td>1.098517e-01</td>\n",
       "      <td>1.546717e-01</td>\n",
       "      <td>-0.061174</td>\n",
       "      <td>False</td>\n",
       "      <td>False</td>\n",
       "    </tr>\n",
       "    <tr>\n",
       "      <th>3</th>\n",
       "      <td>3</td>\n",
       "      <td>0.000000e+00</td>\n",
       "      <td>0.000000e+00</td>\n",
       "      <td>-0.330364</td>\n",
       "      <td>False</td>\n",
       "      <td>False</td>\n",
       "    </tr>\n",
       "    <tr>\n",
       "      <th>4</th>\n",
       "      <td>4</td>\n",
       "      <td>1.479275e-01</td>\n",
       "      <td>1.921137e-01</td>\n",
       "      <td>0.040351</td>\n",
       "      <td>False</td>\n",
       "      <td>False</td>\n",
       "    </tr>\n",
       "    <tr>\n",
       "      <th>5</th>\n",
       "      <td>5</td>\n",
       "      <td>1.416598e-03</td>\n",
       "      <td>3.294415e-03</td>\n",
       "      <td>-0.134796</td>\n",
       "      <td>False</td>\n",
       "      <td>False</td>\n",
       "    </tr>\n",
       "    <tr>\n",
       "      <th>6</th>\n",
       "      <td>6</td>\n",
       "      <td>4.487027e-08</td>\n",
       "      <td>1.869595e-07</td>\n",
       "      <td>-0.143450</td>\n",
       "      <td>False</td>\n",
       "      <td>False</td>\n",
       "    </tr>\n",
       "    <tr>\n",
       "      <th>7</th>\n",
       "      <td>7</td>\n",
       "      <td>0.000000e+00</td>\n",
       "      <td>0.000000e+00</td>\n",
       "      <td>-0.228774</td>\n",
       "      <td>False</td>\n",
       "      <td>False</td>\n",
       "    </tr>\n",
       "    <tr>\n",
       "      <th>8</th>\n",
       "      <td>8</td>\n",
       "      <td>3.101542e-01</td>\n",
       "      <td>3.648873e-01</td>\n",
       "      <td>0.028455</td>\n",
       "      <td>False</td>\n",
       "      <td>False</td>\n",
       "    </tr>\n",
       "    <tr>\n",
       "      <th>9</th>\n",
       "      <td>9</td>\n",
       "      <td>2.515420e-06</td>\n",
       "      <td>7.398295e-06</td>\n",
       "      <td>0.093288</td>\n",
       "      <td>False</td>\n",
       "      <td>False</td>\n",
       "    </tr>\n",
       "  </tbody>\n",
       "</table>\n",
       "</div>"
      ],
      "text/plain": [
       "   gene          pval          qval    log2fc  zero_mean  zero_variance\n",
       "0     0  4.556838e-01  5.120042e-01  0.017570      False          False\n",
       "1     1  4.146277e-07  1.480813e-06 -0.136378      False          False\n",
       "2     2  1.098517e-01  1.546717e-01 -0.061174      False          False\n",
       "3     3  0.000000e+00  0.000000e+00 -0.330364      False          False\n",
       "4     4  1.479275e-01  1.921137e-01  0.040351      False          False\n",
       "5     5  1.416598e-03  3.294415e-03 -0.134796      False          False\n",
       "6     6  4.487027e-08  1.869595e-07 -0.143450      False          False\n",
       "7     7  0.000000e+00  0.000000e+00 -0.228774      False          False\n",
       "8     8  3.101542e-01  3.648873e-01  0.028455      False          False\n",
       "9     9  2.515420e-06  7.398295e-06  0.093288      False          False"
      ]
     },
     "execution_count": 6,
     "metadata": {},
     "output_type": "execute_result"
    }
   ],
   "source": [
    "test.summary().iloc[:10,:]"
   ]
  },
  {
   "cell_type": "markdown",
   "metadata": {},
   "source": [
    "- `gene`: gene name / identifier\n",
    "- `pval`: p-value of the gene\n",
    "- `qval`: multiple testing - corrected p-value of the gene\n",
    "- `log2fc`: log_2 fold change between `no coefficient` and `coefficient`"
   ]
  },
  {
   "cell_type": "markdown",
   "metadata": {},
   "source": [
    "`test.plot_volcano()` creates a volcano plot of p-values vs. fold-change:"
   ]
  },
  {
   "cell_type": "code",
   "execution_count": 7,
   "metadata": {},
   "outputs": [
    {
     "data": {
      "image/png": "[encoded data removed]",
      "text/plain": [
       "<Figure size 432x288 with 1 Axes>"
      ]
     },
     "metadata": {},
     "output_type": "display_data"
    }
   ],
   "source": [
    "test.plot_volcano()"
   ]
  }
 ],
 "metadata": {
  "kernelspec": {
   "display_name": "Python 3",
   "language": "python",
   "name": "python3"
  },
  "language_info": {
   "codemirror_mode": {
    "name": "ipython",
    "version": 3
   },
   "file_extension": ".py",
   "mimetype": "text/x-python",
   "name": "python",
   "nbconvert_exporter": "python",
   "pygments_lexer": "ipython3",
   "version": "3.6.5"
  }
 },
 "nbformat": 4,
 "nbformat_minor": 1
}
