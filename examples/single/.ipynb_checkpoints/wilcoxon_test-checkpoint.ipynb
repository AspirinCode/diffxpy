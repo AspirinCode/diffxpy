{
 "cells": [
  {
   "cell_type": "code",
   "execution_count": 1,
   "metadata": {},
   "outputs": [
    {
     "name": "stderr",
     "output_type": "stream",
     "text": [
      "/Users/david.fischer/miniconda3/lib/python3.6/importlib/_bootstrap.py:219: RuntimeWarning: numpy.dtype size changed, may indicate binary incompatibility. Expected 96, got 88\n",
      "  return f(*args, **kwds)\n"
     ]
    }
   ],
   "source": [
    "%matplotlib inline\n",
    "import matplotlib.pyplot as plt\n",
    "import seaborn as sns\n",
    "import logging\n",
    "\n",
    "import scipy.stats\n",
    "import numpy as np"
   ]
  },
  {
   "cell_type": "markdown",
   "metadata": {},
   "source": [
    "# Generate some data:"
   ]
  },
  {
   "cell_type": "code",
   "execution_count": 2,
   "metadata": {},
   "outputs": [],
   "source": [
    "from batchglm.api.models.nb_glm import Simulator\n",
    "\n",
    "sim = Simulator(num_observations=2000, num_features=100)\n",
    "sim.generate_sample_description(num_batches=0, num_confounders=2)\n",
    "# sample parameters from positive truncated N(1, 0.1)\n",
    "mu=1; phi=0.1\n",
    "sim.generate_params(rand_fn_loc=lambda size: mu + scipy.stats.truncnorm.rvs(-mu / phi, np.infty, scale=phi, size=size))\n",
    "sim.generate_data()\n",
    "\n",
    "# count data\n",
    "X = sim.X\n",
    "# sample description\n",
    "sample_description = sim.sample_description"
   ]
  },
  {
   "cell_type": "markdown",
   "metadata": {},
   "source": [
    "The sample description should be a pandas DataFrame with `num_observations` rows.\n",
    "Each column should represent a property of the dataset.\n",
    "\n",
    "The module `batchglm.api.data` contains some helper functions which can be useful to create this sample description:\n",
    "\n",
    "- `sample_description_from_anndata()`\n",
    "- `sample_description_from_xarray()`"
   ]
  },
  {
   "cell_type": "code",
   "execution_count": 3,
   "metadata": {},
   "outputs": [
    {
     "data": {
      "text/html": [
       "<div>\n",
       "<style scoped>\n",
       "    .dataframe tbody tr th:only-of-type {\n",
       "        vertical-align: middle;\n",
       "    }\n",
       "\n",
       "    .dataframe tbody tr th {\n",
       "        vertical-align: top;\n",
       "    }\n",
       "\n",
       "    .dataframe thead th {\n",
       "        text-align: right;\n",
       "    }\n",
       "</style>\n",
       "<table border=\"1\" class=\"dataframe\">\n",
       "  <thead>\n",
       "    <tr style=\"text-align: right;\">\n",
       "      <th></th>\n",
       "      <th>condition</th>\n",
       "    </tr>\n",
       "    <tr>\n",
       "      <th>observations</th>\n",
       "      <th></th>\n",
       "    </tr>\n",
       "  </thead>\n",
       "  <tbody>\n",
       "    <tr>\n",
       "      <th>0</th>\n",
       "      <td>0</td>\n",
       "    </tr>\n",
       "    <tr>\n",
       "      <th>1</th>\n",
       "      <td>1</td>\n",
       "    </tr>\n",
       "    <tr>\n",
       "      <th>2</th>\n",
       "      <td>0</td>\n",
       "    </tr>\n",
       "    <tr>\n",
       "      <th>3</th>\n",
       "      <td>1</td>\n",
       "    </tr>\n",
       "    <tr>\n",
       "      <th>4</th>\n",
       "      <td>0</td>\n",
       "    </tr>\n",
       "    <tr>\n",
       "      <th>5</th>\n",
       "      <td>1</td>\n",
       "    </tr>\n",
       "    <tr>\n",
       "      <th>6</th>\n",
       "      <td>0</td>\n",
       "    </tr>\n",
       "    <tr>\n",
       "      <th>7</th>\n",
       "      <td>1</td>\n",
       "    </tr>\n",
       "    <tr>\n",
       "      <th>8</th>\n",
       "      <td>0</td>\n",
       "    </tr>\n",
       "    <tr>\n",
       "      <th>9</th>\n",
       "      <td>1</td>\n",
       "    </tr>\n",
       "  </tbody>\n",
       "</table>\n",
       "</div>"
      ],
      "text/plain": [
       "             condition\n",
       "observations          \n",
       "0                    0\n",
       "1                    1\n",
       "2                    0\n",
       "3                    1\n",
       "4                    0\n",
       "5                    1\n",
       "6                    0\n",
       "7                    1\n",
       "8                    0\n",
       "9                    1"
      ]
     },
     "execution_count": 3,
     "metadata": {},
     "output_type": "execute_result"
    }
   ],
   "source": [
    "sample_description.iloc[:10,:]"
   ]
  },
  {
   "cell_type": "markdown",
   "metadata": {},
   "source": [
    "# Run differential expression test:\n",
    "\n",
    "The wilcoxon test checks if two groups of samples differ significantly in one gene.\n",
    "\n",
    "Therefore, it has to be provided with a parameter `grouping` which specifies the group membership of each sample.\n",
    "It can be either the name of a column in `sample_description` or a vector of length `num_observations`.\n"
   ]
  },
  {
   "cell_type": "code",
   "execution_count": 4,
   "metadata": {},
   "outputs": [],
   "source": [
    "logging.getLogger(\"tensorflow\").setLevel(logging.ERROR)\n",
    "logging.getLogger(\"batchglm\").setLevel(logging.INFO)\n",
    "logging.getLogger(\"diffxpy\").setLevel(logging.INFO)\n",
    "\n",
    "import diffxpy.api as de\n",
    "\n",
    "test = de.test.wilcoxon(\n",
    "    data=X,\n",
    "    grouping=\"condition\",\n",
    "    sample_description=sample_description\n",
    ")\n"
   ]
  },
  {
   "cell_type": "markdown",
   "metadata": {},
   "source": [
    "# Obtaining the results\n",
    "\n",
    "The p-/q-values can be obtained by calling test.pval / test.qval:"
   ]
  },
  {
   "cell_type": "code",
   "execution_count": 5,
   "metadata": {},
   "outputs": [
    {
     "data": {
      "text/plain": [
       "array([4.34810788e-01, 1.83497041e-01, 3.70550711e-03, 9.58064980e-01,\n",
       "       2.86695397e-01, 6.97070655e-02, 4.58120933e-10, 5.45304276e-02,\n",
       "       1.82345646e-01, 9.40275830e-06, 4.48357497e-02, 9.12657911e-05,\n",
       "       2.17091756e-01, 1.68378211e-01, 5.37074746e-03, 1.50097713e-02,\n",
       "       4.93828287e-03, 1.24178769e-04, 1.57187901e-10, 2.99288485e-10,\n",
       "       7.28445044e-02, 1.39687257e-15, 1.59039337e-02, 2.36578665e-04,\n",
       "       7.99872723e-01, 1.89867064e-01, 1.20712052e-14, 9.26306155e-02,\n",
       "       1.40664139e-05, 3.01927285e-02, 3.64285021e-04, 2.73129833e-07,\n",
       "       1.05192936e-03, 1.37672307e-01, 8.20360951e-05, 3.38276109e-06,\n",
       "       8.50990020e-02, 8.09779689e-07, 3.50984435e-02, 2.15034035e-39,\n",
       "       3.61923198e-22, 3.93857114e-03, 1.20712052e-14, 5.97026784e-08,\n",
       "       6.40020472e-01, 9.22362678e-02, 5.67035120e-05, 3.34601259e-14,\n",
       "       1.22503228e-01, 1.22058615e-09, 4.15406536e-07, 3.85903972e-02,\n",
       "       7.42376252e-02, 3.15282271e-03, 4.86675092e-01, 3.75356979e-01,\n",
       "       7.39637018e-07, 4.90692373e-02, 1.05538929e-02, 9.26306155e-02,\n",
       "       2.69336966e-03, 5.21638796e-03, 2.55120682e-01, 5.26994881e-01,\n",
       "       5.46687916e-01, 1.17562815e-01, 2.99288485e-10, 5.06433656e-09,\n",
       "       2.32341534e-21, 2.87641252e-01, 4.80068940e-05, 2.43232539e-05,\n",
       "       8.17583242e-14, 2.19877152e-02, 9.10056040e-02, 1.28099984e-03,\n",
       "       2.86695397e-01, 6.24252556e-01, 2.38111030e-02, 5.75235228e-34,\n",
       "       1.32795201e-01, 6.58920613e-02, 4.47397550e-10, 1.57744938e-04,\n",
       "       5.64575212e-04, 3.15282271e-03, 1.29948743e-05, 9.38868542e-20,\n",
       "       1.23985702e-05, 4.98333650e-03, 1.42707412e-12, 3.22196493e-11,\n",
       "       7.12133193e-01, 1.76873496e-04, 5.98153158e-10, 2.59536754e-01,\n",
       "       4.97731755e-01, 3.19953361e-07, 2.40870204e-01, 3.15282271e-03])"
      ]
     },
     "execution_count": 5,
     "metadata": {},
     "output_type": "execute_result"
    }
   ],
   "source": [
    "test.qval"
   ]
  },
  {
   "cell_type": "markdown",
   "metadata": {},
   "source": [
    "test.summary() returns a pandas DataFrame with a quick overview of the test results:"
   ]
  },
  {
   "cell_type": "code",
   "execution_count": 6,
   "metadata": {},
   "outputs": [
    {
     "data": {
      "text/html": [
       "<div>\n",
       "<style scoped>\n",
       "    .dataframe tbody tr th:only-of-type {\n",
       "        vertical-align: middle;\n",
       "    }\n",
       "\n",
       "    .dataframe tbody tr th {\n",
       "        vertical-align: top;\n",
       "    }\n",
       "\n",
       "    .dataframe thead th {\n",
       "        text-align: right;\n",
       "    }\n",
       "</style>\n",
       "<table border=\"1\" class=\"dataframe\">\n",
       "  <thead>\n",
       "    <tr style=\"text-align: right;\">\n",
       "      <th></th>\n",
       "      <th>gene</th>\n",
       "      <th>pval</th>\n",
       "      <th>qval</th>\n",
       "      <th>log2fc</th>\n",
       "    </tr>\n",
       "  </thead>\n",
       "  <tbody>\n",
       "    <tr>\n",
       "      <th>0</th>\n",
       "      <td>0</td>\n",
       "      <td>3.956778e-01</td>\n",
       "      <td>4.348108e-01</td>\n",
       "      <td>-0.022032</td>\n",
       "    </tr>\n",
       "    <tr>\n",
       "      <th>1</th>\n",
       "      <td>1</td>\n",
       "      <td>1.486326e-01</td>\n",
       "      <td>1.834970e-01</td>\n",
       "      <td>-0.069749</td>\n",
       "    </tr>\n",
       "    <tr>\n",
       "      <th>2</th>\n",
       "      <td>2</td>\n",
       "      <td>1.815698e-03</td>\n",
       "      <td>3.705507e-03</td>\n",
       "      <td>0.058635</td>\n",
       "    </tr>\n",
       "    <tr>\n",
       "      <th>3</th>\n",
       "      <td>3</td>\n",
       "      <td>9.580650e-01</td>\n",
       "      <td>9.580650e-01</td>\n",
       "      <td>0.141847</td>\n",
       "    </tr>\n",
       "    <tr>\n",
       "      <th>4</th>\n",
       "      <td>4</td>\n",
       "      <td>2.520673e-01</td>\n",
       "      <td>2.866954e-01</td>\n",
       "      <td>0.000128</td>\n",
       "    </tr>\n",
       "    <tr>\n",
       "      <th>5</th>\n",
       "      <td>5</td>\n",
       "      <td>4.670373e-02</td>\n",
       "      <td>6.970707e-02</td>\n",
       "      <td>-0.071440</td>\n",
       "    </tr>\n",
       "    <tr>\n",
       "      <th>6</th>\n",
       "      <td>6</td>\n",
       "      <td>7.788056e-11</td>\n",
       "      <td>4.581209e-10</td>\n",
       "      <td>0.208997</td>\n",
       "    </tr>\n",
       "    <tr>\n",
       "      <th>7</th>\n",
       "      <td>7</td>\n",
       "      <td>3.544478e-02</td>\n",
       "      <td>5.453043e-02</td>\n",
       "      <td>0.034071</td>\n",
       "    </tr>\n",
       "    <tr>\n",
       "      <th>8</th>\n",
       "      <td>8</td>\n",
       "      <td>1.458765e-01</td>\n",
       "      <td>1.823456e-01</td>\n",
       "      <td>-0.005333</td>\n",
       "    </tr>\n",
       "    <tr>\n",
       "      <th>9</th>\n",
       "      <td>9</td>\n",
       "      <td>2.632772e-06</td>\n",
       "      <td>9.402758e-06</td>\n",
       "      <td>0.202060</td>\n",
       "    </tr>\n",
       "  </tbody>\n",
       "</table>\n",
       "</div>"
      ],
      "text/plain": [
       "   gene          pval          qval    log2fc\n",
       "0     0  3.956778e-01  4.348108e-01 -0.022032\n",
       "1     1  1.486326e-01  1.834970e-01 -0.069749\n",
       "2     2  1.815698e-03  3.705507e-03  0.058635\n",
       "3     3  9.580650e-01  9.580650e-01  0.141847\n",
       "4     4  2.520673e-01  2.866954e-01  0.000128\n",
       "5     5  4.670373e-02  6.970707e-02 -0.071440\n",
       "6     6  7.788056e-11  4.581209e-10  0.208997\n",
       "7     7  3.544478e-02  5.453043e-02  0.034071\n",
       "8     8  1.458765e-01  1.823456e-01 -0.005333\n",
       "9     9  2.632772e-06  9.402758e-06  0.202060"
      ]
     },
     "execution_count": 6,
     "metadata": {},
     "output_type": "execute_result"
    }
   ],
   "source": [
    "test.summary().iloc[:10,:]"
   ]
  },
  {
   "cell_type": "markdown",
   "metadata": {},
   "source": [
    "- `gene`: gene name / identifier\n",
    "- `pval`: p-value of the gene\n",
    "- `qval`: multiple testing - corrected p-value of the gene\n",
    "- `log2fc`: log_2 fold change between `no coefficient` and `coefficient`"
   ]
  },
  {
   "cell_type": "markdown",
   "metadata": {},
   "source": [
    "`test.plot_volcano()` creates a volcano plot of p-values vs. fold-change:"
   ]
  },
  {
   "cell_type": "code",
   "execution_count": 7,
   "metadata": {
    "scrolled": true
   },
   "outputs": [
    {
     "data": {
      "image/png": "[encoded data removed]",
      "text/plain": [
       "<Figure size 432x288 with 1 Axes>"
      ]
     },
     "metadata": {},
     "output_type": "display_data"
    }
   ],
   "source": [
    "test.plot_volcano()"
   ]
  },
  {
   "cell_type": "markdown",
   "metadata": {},
   "source": [
    "`plot_vs_ttest()` shows the correlation between t-test p-values and the wald test p-values"
   ]
  },
  {
   "cell_type": "code",
   "execution_count": 8,
   "metadata": {
    "scrolled": true
   },
   "outputs": [
    {
     "data": {
      "image/png": "[encoded data removed]",
      "text/plain": [
       "<Figure size 432x288 with 1 Axes>"
      ]
     },
     "metadata": {},
     "output_type": "display_data"
    }
   ],
   "source": [
    "test.plot_vs_ttest()"
   ]
  },
  {
   "cell_type": "markdown",
   "metadata": {},
   "source": [
    "`test.plot_diagnostics()` is a shortcut to directly show all diagnostics plots."
   ]
  },
  {
   "cell_type": "code",
   "execution_count": 9,
   "metadata": {},
   "outputs": [
    {
     "data": {
      "image/png": "[encoded data removed]",
      "text/plain": [
       "<Figure size 432x288 with 1 Axes>"
      ]
     },
     "metadata": {},
     "output_type": "display_data"
    },
    {
     "data": {
      "image/png": "[encoded data removed]",
      "text/plain": [
       "<Figure size 432x288 with 1 Axes>"
      ]
     },
     "metadata": {},
     "output_type": "display_data"
    }
   ],
   "source": [
    "test.plot_diagnostics()"
   ]
  }
 ],
 "metadata": {
  "kernelspec": {
   "display_name": "Python 3",
   "language": "python",
   "name": "python3"
  },
  "language_info": {
   "codemirror_mode": {
    "name": "ipython",
    "version": 3
   },
   "file_extension": ".py",
   "mimetype": "text/x-python",
   "name": "python",
   "nbconvert_exporter": "python",
   "pygments_lexer": "ipython3",
   "version": "3.6.5"
  }
 },
 "nbformat": 4,
 "nbformat_minor": 1
}
